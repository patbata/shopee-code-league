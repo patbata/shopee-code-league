{
  "nbformat": 4,
  "nbformat_minor": 0,
  "metadata": {
    "colab": {
      "name": "C04_title translation",
      "provenance": [],
      "collapsed_sections": [],
      "toc_visible": true
    },
    "kernelspec": {
      "name": "python3",
      "display_name": "Python 3"
    },
    "accelerator": "GPU"
  },
  "cells": [
    {
      "cell_type": "code",
      "metadata": {
        "id": "DlnVbckNejMf"
      },
      "source": [
        "from google.colab import drive\n",
        "drive.mount('/content/drive')"
      ],
      "execution_count": null,
      "outputs": []
    },
    {
      "cell_type": "code",
      "metadata": {
        "id": "lvQRw6XPeqPH"
      },
      "source": [
        "%reload_ext autoreload\n",
        "%autoreload 2\n",
        "%matplotlib inline"
      ],
      "execution_count": null,
      "outputs": []
    },
    {
      "cell_type": "code",
      "metadata": {
        "id": "zVBTotI1iHpm",
        "colab": {
          "base_uri": "https://localhost:8080/",
          "height": 255
        },
        "outputId": "3f39602c-5c3b-4d16-8b10-a94140ae1e8d"
      },
      "source": [
        "# ! pip install googletrans\n",
        "# ! pip install jieba\n",
        "! pip install fasttext"
      ],
      "execution_count": null,
      "outputs": [
        {
          "output_type": "stream",
          "text": [
            "Collecting fasttext\n",
            "\u001b[?25l  Downloading https://files.pythonhosted.org/packages/f8/85/e2b368ab6d3528827b147fdb814f8189acc981a4bc2f99ab894650e05c40/fasttext-0.9.2.tar.gz (68kB)\n",
            "\r\u001b[K     |████▊                           | 10kB 19.8MB/s eta 0:00:01\r\u001b[K     |█████████▌                      | 20kB 1.7MB/s eta 0:00:01\r\u001b[K     |██████████████▎                 | 30kB 2.3MB/s eta 0:00:01\r\u001b[K     |███████████████████             | 40kB 2.6MB/s eta 0:00:01\r\u001b[K     |███████████████████████▉        | 51kB 2.0MB/s eta 0:00:01\r\u001b[K     |████████████████████████████▋   | 61kB 2.3MB/s eta 0:00:01\r\u001b[K     |████████████████████████████████| 71kB 2.1MB/s \n",
            "\u001b[?25hRequirement already satisfied: pybind11>=2.2 in /usr/local/lib/python3.6/dist-packages (from fasttext) (2.5.0)\n",
            "Requirement already satisfied: setuptools>=0.7.0 in /usr/local/lib/python3.6/dist-packages (from fasttext) (49.1.0)\n",
            "Requirement already satisfied: numpy in /usr/local/lib/python3.6/dist-packages (from fasttext) (1.18.5)\n",
            "Building wheels for collected packages: fasttext\n",
            "  Building wheel for fasttext (setup.py) ... \u001b[?25l\u001b[?25hdone\n",
            "  Created wheel for fasttext: filename=fasttext-0.9.2-cp36-cp36m-linux_x86_64.whl size=3015700 sha256=4ef9ce1cf78e6d486c4805dfd40327aed98158d1a05c0238e917768694c5e6d9\n",
            "  Stored in directory: /root/.cache/pip/wheels/98/ba/7f/b154944a1cf5a8cee91c154b75231136cc3a3321ab0e30f592\n",
            "Successfully built fasttext\n",
            "Installing collected packages: fasttext\n",
            "Successfully installed fasttext-0.9.2\n"
          ],
          "name": "stdout"
        }
      ]
    },
    {
      "cell_type": "code",
      "metadata": {
        "id": "nyQSXcRnfOob"
      },
      "source": [
        "import numpy as np\n",
        "from numpy import array, argmax, random, take \n",
        "import pandas as pd\n",
        "import nltk\n",
        "# from googletrans import Translator\n",
        "import string \n",
        "import jieba\n",
        "import re \n",
        "\n",
        "# from keras.models import Sequential \n",
        "# from keras.layers import Dense, LSTM, Embedding, RepeatVector\n",
        "# from keras.preprocessing.text import Tokenizer\n",
        "# from keras.callbacks import ModelCheckpoint \n",
        "# from keras.preprocessing.sequence import pad_sequences\n",
        "# from keras.models import load_model \n",
        "# from keras import optimizers \n",
        "import matplotlib.pyplot as plt \n",
        "\n",
        "from tqdm import tqdm\n",
        "\n",
        "tqdm.pandas()\n",
        "\n",
        "pd.set_option('display.max_columns', 200)\n",
        "pd.set_option('display.max_rows', 200)"
      ],
      "execution_count": null,
      "outputs": []
    },
    {
      "cell_type": "code",
      "metadata": {
        "id": "MIV2dVa2ewh5"
      },
      "source": [
        "# script to keep colab from disconnecting \n",
        "function ClickConnect(){\n",
        "    console.log(\"Clicked on connect button\"); \n",
        "    document.querySelector(\"colab-connect-button\").click()\n",
        "}\n",
        "setInterval(ClickConnect,60000)\n",
        "\n",
        "# script to notify when done running\n",
        "import smtplib\n",
        "server = smtplib.SMTP('smtp.gmail.com', 587)\n",
        "server.starttls()\n",
        "server.login(\"dominique.a.sy@gmail.com\", \"\")\n",
        "msg = \"COLAB WORK FINISH ALERT!\"\n",
        "server.sendmail(\"dominique.a.sy@gmail.com\", \"dominique.a.sy@gmail.com\", msg)\n",
        "server.quit()\n",
        "\n",
        "# to kill the kernel\n",
        "!kill -9 -1"
      ],
      "execution_count": null,
      "outputs": []
    },
    {
      "cell_type": "markdown",
      "metadata": {
        "id": "W07Mb-O3fN4a"
      },
      "source": [
        "# Loading"
      ]
    },
    {
      "cell_type": "code",
      "metadata": {
        "id": "oPEVVOQrfd5i"
      },
      "source": [
        "path = \"/content/drive/My Drive/COLAB NOTEBOOKS/SCL/C04\"\n",
        "train_en=pd.read_csv(path+'/train_en.csv')\n",
        "train_tcn=pd.read_csv(path+'/train_tcn.csv')\n",
        "test=pd.read_csv(path+'/test_tcn.csv')\n",
        "dev_en=pd.read_csv(path+'/dev_en.csv')\n",
        "dev_tcn=pd.read_csv(path+'/dev_tcn.csv')"
      ],
      "execution_count": null,
      "outputs": []
    },
    {
      "cell_type": "code",
      "metadata": {
        "id": "r8MhlipwfwPQ",
        "colab": {
          "base_uri": "https://localhost:8080/",
          "height": 195
        },
        "outputId": "281c14e0-8e3c-4f41-a386-b64f057095f0"
      },
      "source": [
        "train_en.head()"
      ],
      "execution_count": null,
      "outputs": [
        {
          "output_type": "execute_result",
          "data": {
            "text/html": [
              "<div>\n",
              "<style scoped>\n",
              "    .dataframe tbody tr th:only-of-type {\n",
              "        vertical-align: middle;\n",
              "    }\n",
              "\n",
              "    .dataframe tbody tr th {\n",
              "        vertical-align: top;\n",
              "    }\n",
              "\n",
              "    .dataframe thead th {\n",
              "        text-align: right;\n",
              "    }\n",
              "</style>\n",
              "<table border=\"1\" class=\"dataframe\">\n",
              "  <thead>\n",
              "    <tr style=\"text-align: right;\">\n",
              "      <th></th>\n",
              "      <th>product_title</th>\n",
              "      <th>category</th>\n",
              "    </tr>\n",
              "  </thead>\n",
              "  <tbody>\n",
              "    <tr>\n",
              "      <th>0</th>\n",
              "      <td>Recollections Color Splash Clear Stamps &amp; Stencil</td>\n",
              "      <td>Hobbies &amp; Stationery</td>\n",
              "    </tr>\n",
              "    <tr>\n",
              "      <th>1</th>\n",
              "      <td>soap,lotion scrub set 400</td>\n",
              "      <td>Health &amp; Personal Care</td>\n",
              "    </tr>\n",
              "    <tr>\n",
              "      <th>2</th>\n",
              "      <td>Spigen Galaxy S10e Case Tough Armor Gunmetal</td>\n",
              "      <td>Mobile Accessories</td>\n",
              "    </tr>\n",
              "    <tr>\n",
              "      <th>3</th>\n",
              "      <td>Acrylic Lanalon Bright Red</td>\n",
              "      <td>Hobbies &amp; Stationery</td>\n",
              "    </tr>\n",
              "    <tr>\n",
              "      <th>4</th>\n",
              "      <td>303 FLAT SHEET/Blanket 100% cotton</td>\n",
              "      <td>Home &amp; Living</td>\n",
              "    </tr>\n",
              "  </tbody>\n",
              "</table>\n",
              "</div>"
            ],
            "text/plain": [
              "                                       product_title                category\n",
              "0  Recollections Color Splash Clear Stamps & Stencil    Hobbies & Stationery\n",
              "1                          soap,lotion scrub set 400  Health & Personal Care\n",
              "2       Spigen Galaxy S10e Case Tough Armor Gunmetal      Mobile Accessories\n",
              "3                         Acrylic Lanalon Bright Red    Hobbies & Stationery\n",
              "4                 303 FLAT SHEET/Blanket 100% cotton           Home & Living"
            ]
          },
          "metadata": {
            "tags": []
          },
          "execution_count": 15
        }
      ]
    },
    {
      "cell_type": "code",
      "metadata": {
        "id": "xijq4fG9f2sa",
        "colab": {
          "base_uri": "https://localhost:8080/",
          "height": 195
        },
        "outputId": "ab2b9672-7499-42e6-b2f6-ee903e05a7c3"
      },
      "source": [
        "train_tcn.head()"
      ],
      "execution_count": null,
      "outputs": [
        {
          "output_type": "execute_result",
          "data": {
            "text/html": [
              "<div>\n",
              "<style scoped>\n",
              "    .dataframe tbody tr th:only-of-type {\n",
              "        vertical-align: middle;\n",
              "    }\n",
              "\n",
              "    .dataframe tbody tr th {\n",
              "        vertical-align: top;\n",
              "    }\n",
              "\n",
              "    .dataframe thead th {\n",
              "        text-align: right;\n",
              "    }\n",
              "</style>\n",
              "<table border=\"1\" class=\"dataframe\">\n",
              "  <thead>\n",
              "    <tr style=\"text-align: right;\">\n",
              "      <th></th>\n",
              "      <th>product_title</th>\n",
              "      <th>category</th>\n",
              "    </tr>\n",
              "  </thead>\n",
              "  <tbody>\n",
              "    <tr>\n",
              "      <th>0</th>\n",
              "      <td>Gucci Gucci Guilty Pour Femme Stud Edition 罪愛女...</td>\n",
              "      <td>Health &amp; Beauty</td>\n",
              "    </tr>\n",
              "    <tr>\n",
              "      <th>1</th>\n",
              "      <td>（二手）PS4 GTA 5 俠盜獵車手5 Grand Theif Auto V繁體 中文版</td>\n",
              "      <td>Game Kingdom</td>\n",
              "    </tr>\n",
              "    <tr>\n",
              "      <th>2</th>\n",
              "      <td>百獸卡</td>\n",
              "      <td>Life &amp; Entertainment</td>\n",
              "    </tr>\n",
              "    <tr>\n",
              "      <th>3</th>\n",
              "      <td>nac nac活氧全效柔衣素</td>\n",
              "      <td>Mother &amp; Baby</td>\n",
              "    </tr>\n",
              "    <tr>\n",
              "      <th>4</th>\n",
              "      <td>#Nike耐吉官方F.C. 男子足球長褲新款標準型 拒水 拉鏈褲腳\\nCD0557</td>\n",
              "      <td>Men's Apparel</td>\n",
              "    </tr>\n",
              "  </tbody>\n",
              "</table>\n",
              "</div>"
            ],
            "text/plain": [
              "                                       product_title              category\n",
              "0  Gucci Gucci Guilty Pour Femme Stud Edition 罪愛女...       Health & Beauty\n",
              "1      （二手）PS4 GTA 5 俠盜獵車手5 Grand Theif Auto V繁體 中文版          Game Kingdom\n",
              "2                                                百獸卡  Life & Entertainment\n",
              "3                                     nac nac活氧全效柔衣素         Mother & Baby\n",
              "4          #Nike耐吉官方F.C. 男子足球長褲新款標準型 拒水 拉鏈褲腳\\nCD0557         Men's Apparel"
            ]
          },
          "metadata": {
            "tags": []
          },
          "execution_count": 16
        }
      ]
    },
    {
      "cell_type": "code",
      "metadata": {
        "id": "9NEfhk4Mf4ZU",
        "colab": {
          "base_uri": "https://localhost:8080/",
          "height": 34
        },
        "outputId": "aabe232e-a233-4905-b4eb-aa469d14857f"
      },
      "source": [
        "train_en.shape"
      ],
      "execution_count": null,
      "outputs": [
        {
          "output_type": "execute_result",
          "data": {
            "text/plain": [
              "(500000, 2)"
            ]
          },
          "metadata": {
            "tags": []
          },
          "execution_count": 17
        }
      ]
    },
    {
      "cell_type": "code",
      "metadata": {
        "id": "CnfXtYBwf6nV",
        "colab": {
          "base_uri": "https://localhost:8080/",
          "height": 34
        },
        "outputId": "d24cd42b-2b39-4b6b-ee14-cdf45de56392"
      },
      "source": [
        "train_tcn.shape"
      ],
      "execution_count": null,
      "outputs": [
        {
          "output_type": "execute_result",
          "data": {
            "text/plain": [
              "(500000, 2)"
            ]
          },
          "metadata": {
            "tags": []
          },
          "execution_count": 18
        }
      ]
    },
    {
      "cell_type": "markdown",
      "metadata": {
        "id": "ojvHofN2qeu6"
      },
      "source": [
        "# Google Translate"
      ]
    },
    {
      "cell_type": "code",
      "metadata": {
        "id": "GmlSoS_qiwdy",
        "colab": {
          "base_uri": "https://localhost:8080/",
          "height": 35
        },
        "outputId": "4245c375-3eab-4fb9-e6a2-6fb519c238e6"
      },
      "source": [
        "translator=Translator()\n",
        "translator.detect(train_tcn.product_title[0]).lang"
      ],
      "execution_count": null,
      "outputs": [
        {
          "output_type": "execute_result",
          "data": {
            "application/vnd.google.colaboratory.intrinsic": {
              "type": "string"
            },
            "text/plain": [
              "'zh-CN'"
            ]
          },
          "metadata": {
            "tags": []
          },
          "execution_count": 21
        }
      ]
    },
    {
      "cell_type": "code",
      "metadata": {
        "id": "kIkA4AXfiTqN",
        "colab": {
          "base_uri": "https://localhost:8080/",
          "height": 35
        },
        "outputId": "71fa6a21-457f-4ea1-ffad-0a9d049fc29b"
      },
      "source": [
        "translator.translate(train_tcn.iloc[0,0], dest='en', src='zh-CN').text"
      ],
      "execution_count": null,
      "outputs": [
        {
          "output_type": "execute_result",
          "data": {
            "application/vnd.google.colaboratory.intrinsic": {
              "type": "string"
            },
            "text/plain": [
              "'Gucci Gucci Guilty Pour Femme Stud Edition Guilty Eau de Toilette Limited Edition 50ml T'"
            ]
          },
          "metadata": {
            "tags": []
          },
          "execution_count": 30
        }
      ]
    },
    {
      "cell_type": "code",
      "metadata": {
        "id": "fa_DFfzff8gy",
        "colab": {
          "base_uri": "https://localhost:8080/",
          "height": 34
        },
        "outputId": "245cdc07-c914-4b92-aff9-e48aac8688b8"
      },
      "source": [
        "sample=train_tcn.product_title[:1000].progress_apply(lambda x: translator.translate(x, dest='en', src='zh-CN').text)"
      ],
      "execution_count": null,
      "outputs": [
        {
          "output_type": "stream",
          "text": [
            "100%|██████████| 1000/1000 [03:05<00:00,  5.39it/s]\n"
          ],
          "name": "stderr"
        }
      ]
    },
    {
      "cell_type": "code",
      "metadata": {
        "id": "y6Pn2JM_qvTv",
        "colab": {
          "base_uri": "https://localhost:8080/",
          "height": 218
        },
        "outputId": "c3facaa6-ffa6-4d9a-8447-089b8fc640dd"
      },
      "source": [
        "sample.head()"
      ],
      "execution_count": null,
      "outputs": [
        {
          "output_type": "execute_result",
          "data": {
            "text/plain": [
              "0      Gucci Gucci Guilty Pour Femme Stud Edition Gui...\n",
              "1      (Pre-owned) PS4 GTA5 Grand Theft Auto 5 Grand ...\n",
              "2                                                    百獸卡\n",
              "3                      nac nac active oxygen full effect\n",
              "4      #NikeNike official F.C. men's football trouser...\n",
              "                             ...                        \n",
              "995                                  中大童 粉色 馬卡龍色系點點甜美 洋裝\n",
              "996    Nike basketball shoes women's shoes Jordan 7th...\n",
              "997                                          NS-樂高-侏羅紀世界\n",
              "998     全新正品天梭運動PRS200計時石英防水日曆商務休閒鋼帶男錶T067.417.11.051.01\n",
              "999                                       長榮哩程 轉讓 17500哩\n",
              "Name: product_title, Length: 1000, dtype: object"
            ]
          },
          "metadata": {
            "tags": []
          },
          "execution_count": 37
        }
      ]
    },
    {
      "cell_type": "markdown",
      "metadata": {
        "id": "NaFt_W_OPaf2"
      },
      "source": [
        "# Unsupervised Machine Translation"
      ]
    },
    {
      "cell_type": "code",
      "metadata": {
        "id": "8-IdF7ZiGoqZ"
      },
      "source": [
        "train_tcn['cut_cols'] = train_tcn['product_title'].apply(lambda x: jieba.lcut(str(x)))\n",
        "# train_tcn.to_csv(path+'/train_cut.csv', index=False)\n",
        "train_tcn['cut_cols']"
      ],
      "execution_count": null,
      "outputs": []
    },
    {
      "cell_type": "code",
      "metadata": {
        "id": "huwLKDTvNbwd"
      },
      "source": [
        "train_tcn=pd.read_csv(path+'/train_cut.csv')"
      ],
      "execution_count": null,
      "outputs": []
    },
    {
      "cell_type": "code",
      "metadata": {
        "id": "3erFF2vQaHay"
      },
      "source": [
        "# tokenized words in the vocabulary\n",
        "slist =[]\n",
        "for x in train_tcn['cut_cols']:\n",
        "    slist.extend(x)"
      ],
      "execution_count": null,
      "outputs": []
    },
    {
      "cell_type": "code",
      "metadata": {
        "id": "zm6qq9oAahVC",
        "colab": {
          "base_uri": "https://localhost:8080/",
          "height": 34
        },
        "outputId": "8c8f73b5-db01-4cf9-a3a3-411f3d9f6d0f"
      },
      "source": [
        "len(slist)"
      ],
      "execution_count": null,
      "outputs": [
        {
          "output_type": "execute_result",
          "data": {
            "text/plain": [
              "8599189"
            ]
          },
          "metadata": {
            "tags": []
          },
          "execution_count": 31
        }
      ]
    },
    {
      "cell_type": "code",
      "metadata": {
        "id": "R9KEtvFVabMp",
        "colab": {
          "base_uri": "https://localhost:8080/",
          "height": 34
        },
        "outputId": "5c849cca-4370-433c-8d4d-f3ac284aaf4f"
      },
      "source": [
        "len(set(slist))"
      ],
      "execution_count": null,
      "outputs": [
        {
          "output_type": "execute_result",
          "data": {
            "text/plain": [
              "481694"
            ]
          },
          "metadata": {
            "tags": []
          },
          "execution_count": 30
        }
      ]
    },
    {
      "cell_type": "code",
      "metadata": {
        "id": "VLYO3Hffaz1J"
      },
      "source": [
        "# removing punctuations\n",
        "ch_list = []\n",
        "# stopwords = [ line.rstrip() for line in open(path+'/stop_words.txt',\"r\", encoding=\"utf-8\")]\n",
        "stopwords = [ line.rstrip() for line in open(path+'/punc.txt',\"r\", encoding=\"utf-8\")]\n",
        "for seg in set(slist):\n",
        "      if seg not in stopwords:\n",
        "          ch_list.append(seg)"
      ],
      "execution_count": null,
      "outputs": []
    },
    {
      "cell_type": "code",
      "metadata": {
        "id": "ZV2RcIDvc9yY",
        "colab": {
          "base_uri": "https://localhost:8080/",
          "height": 34
        },
        "outputId": "d409793b-4179-4ba1-bd4f-d515d34271e8"
      },
      "source": [
        "len(ch_list)"
      ],
      "execution_count": null,
      "outputs": [
        {
          "output_type": "execute_result",
          "data": {
            "text/plain": [
              "480935"
            ]
          },
          "metadata": {
            "tags": []
          },
          "execution_count": 39
        }
      ]
    },
    {
      "cell_type": "code",
      "metadata": {
        "id": "hOZ6aGSkjBRb",
        "colab": {
          "base_uri": "https://localhost:8080/",
          "height": 67
        },
        "outputId": "729b8b4e-1bf2-4a6f-9b1a-6284ad3e62b9"
      },
      "source": [
        "import fasttext\n",
        "import fasttext.util\n",
        "\n",
        "fasttext.util.download_model('zh', if_exists='ignore') \n",
        "ft = fasttext.load_model('cc.zh.300.bin')"
      ],
      "execution_count": null,
      "outputs": [
        {
          "output_type": "stream",
          "text": [
            "Downloading https://dl.fbaipublicfiles.com/fasttext/vectors-crawl/cc.zh.300.bin.gz\n",
            "\n"
          ],
          "name": "stdout"
        },
        {
          "output_type": "stream",
          "text": [
            "Warning : `load_model` does not return WordVectorModel or SupervisedModel any more, but a `FastText` object which is very similar.\n"
          ],
          "name": "stderr"
        }
      ]
    },
    {
      "cell_type": "code",
      "metadata": {
        "id": "3avXvPLfs1Aw"
      },
      "source": [
        "inter = set(ft.get_labels()).intersection(set(slist))"
      ],
      "execution_count": null,
      "outputs": []
    },
    {
      "cell_type": "code",
      "metadata": {
        "id": "fOpa4GgAtQKq"
      },
      "source": [
        "diff = set(slist)-set(ft.get_labels())"
      ],
      "execution_count": null,
      "outputs": []
    },
    {
      "cell_type": "code",
      "metadata": {
        "id": "q-GdJqv60NNH"
      },
      "source": [
        "diff[:10]"
      ],
      "execution_count": null,
      "outputs": []
    },
    {
      "cell_type": "code",
      "metadata": {
        "id": "K2YCINkF0mRI",
        "colab": {
          "base_uri": "https://localhost:8080/",
          "height": 1000
        },
        "outputId": "f0ae4fba-4acb-4230-891d-e611952b6d6f"
      },
      "source": [
        "# Words that have embeddings\n",
        "inter"
      ],
      "execution_count": null,
      "outputs": [
        {
          "output_type": "execute_result",
          "data": {
            "text/plain": [
              "{'臥式',\n",
              " '包斯',\n",
              " '何潤東',\n",
              " '刮破',\n",
              " '輪刀',\n",
              " 'chains',\n",
              " 'RiDATA',\n",
              " '籌碼',\n",
              " '林雅萍',\n",
              " 'Impeccable',\n",
              " '2cm',\n",
              " 'Awesome',\n",
              " '江南',\n",
              " '晶片',\n",
              " 'Walls',\n",
              " '近幾年',\n",
              " '中下層',\n",
              " '4780',\n",
              " 'IPhone6',\n",
              " '組加',\n",
              " '頭彩',\n",
              " 'polo',\n",
              " '糖霜',\n",
              " '左營區',\n",
              " '雄一',\n",
              " '牌雙',\n",
              " '減慢',\n",
              " 'smith',\n",
              " '齒數',\n",
              " '白蘿卜',\n",
              " '硅酮',\n",
              " '附卡',\n",
              " '小卉',\n",
              " '原件',\n",
              " 'mmm',\n",
              " '氣度',\n",
              " '統計',\n",
              " '塵世',\n",
              " 'N90',\n",
              " '慶慶',\n",
              " '農場裡',\n",
              " '購買處',\n",
              " '看視',\n",
              " '不等式',\n",
              " '請購',\n",
              " '28.6',\n",
              " '白嫩',\n",
              " '花花',\n",
              " '扣車',\n",
              " '賣會',\n",
              " '齊心',\n",
              " '1246',\n",
              " '女心',\n",
              " '享免',\n",
              " '鑽飾品',\n",
              " '秤子',\n",
              " '噴灑',\n",
              " 'TTO',\n",
              " '求財',\n",
              " '配布',\n",
              " '王君',\n",
              " 'Marionette',\n",
              " 'sonny',\n",
              " '當孕',\n",
              " '冷感',\n",
              " 'portrait',\n",
              " 'PKP',\n",
              " '鎖針',\n",
              " '翻書',\n",
              " 'Coco',\n",
              " '撢',\n",
              " '煤爐',\n",
              " '內稽',\n",
              " '週計',\n",
              " '裘',\n",
              " '套間',\n",
              " '8026',\n",
              " '阪本',\n",
              " 'Unichi',\n",
              " '天章',\n",
              " '李飛',\n",
              " 'INTENSIVE',\n",
              " '號室',\n",
              " '恩重',\n",
              " '波佐見燒',\n",
              " '明細',\n",
              " '黑絲',\n",
              " 'Verilog',\n",
              " '呢帽',\n",
              " '幣',\n",
              " '本遊戲',\n",
              " '2003.9',\n",
              " 'Kiki',\n",
              " '數字時',\n",
              " 'hsu',\n",
              " 'Vince',\n",
              " '五結鄉',\n",
              " '炊',\n",
              " 'Grenelle',\n",
              " 'MERCY',\n",
              " '高機動',\n",
              " '行動電',\n",
              " 'a',\n",
              " '悠居',\n",
              " 'Weave',\n",
              " '乾衣機',\n",
              " 'bee',\n",
              " 'LO',\n",
              " '魚店',\n",
              " '小破',\n",
              " 'Tucker',\n",
              " 'Taek',\n",
              " '往昔',\n",
              " '斗羅',\n",
              " '經典橘',\n",
              " '雜牌',\n",
              " '腺',\n",
              " 'DESIRE',\n",
              " '粉頰',\n",
              " 'CHOCOOLATE',\n",
              " '滋润',\n",
              " '媽媽們',\n",
              " 'ROX',\n",
              " 'doctors',\n",
              " '比爾',\n",
              " '酥糖',\n",
              " '邊畫',\n",
              " '麝香',\n",
              " 'Formula',\n",
              " '自然色',\n",
              " '抽油',\n",
              " '鋼龍',\n",
              " '好感度',\n",
              " '10880',\n",
              " '齒形',\n",
              " '开衩',\n",
              " 'SUNRISE',\n",
              " '飛雅',\n",
              " '輝人',\n",
              " '雨滴',\n",
              " '高耐熱',\n",
              " '電極',\n",
              " '9438',\n",
              " '生貴子',\n",
              " '電腦線',\n",
              " '瀧口',\n",
              " 'DEM',\n",
              " '住校',\n",
              " 'LONGINES',\n",
              " '魏無羨',\n",
              " 'ete',\n",
              " '樓宇',\n",
              " '10855',\n",
              " '树皮',\n",
              " '蜡烛',\n",
              " '強制',\n",
              " 'GWS',\n",
              " '瀋',\n",
              " '學藝',\n",
              " '角板',\n",
              " '花咲',\n",
              " '美潮',\n",
              " '行李架',\n",
              " '機進',\n",
              " '醫補',\n",
              " '媳婦',\n",
              " '中興大學',\n",
              " '138',\n",
              " '1987',\n",
              " '65.72',\n",
              " '麗質',\n",
              " '風動',\n",
              " '寶妹',\n",
              " '5V2A',\n",
              " '大關',\n",
              " '育秧',\n",
              " '泥皂',\n",
              " '卸妝蜜',\n",
              " '主席',\n",
              " 'G35',\n",
              " '有害物',\n",
              " '盡帶',\n",
              " '貼外',\n",
              " '電圖',\n",
              " '氣氛',\n",
              " '魔動王',\n",
              " '卹',\n",
              " '平口褲',\n",
              " 'NiNa',\n",
              " '孤狼',\n",
              " 'k8',\n",
              " 'HDM',\n",
              " '感極',\n",
              " '涼風扇',\n",
              " 'ING',\n",
              " 'Evening',\n",
              " '初音',\n",
              " '盤烤',\n",
              " '歐蘇',\n",
              " '沙螺',\n",
              " 'seasons',\n",
              " '神農',\n",
              " '力田',\n",
              " '⊿',\n",
              " 'bamboo',\n",
              " 'SOLIO',\n",
              " '兒防',\n",
              " '655',\n",
              " 'Mace',\n",
              " '妺',\n",
              " '1577',\n",
              " '毛茛',\n",
              " '乙太網',\n",
              " '合刊',\n",
              " 'TOBY',\n",
              " 'yao',\n",
              " '3538',\n",
              " 'No.001',\n",
              " '5859',\n",
              " 'Timtam',\n",
              " '棉外套',\n",
              " '林書緯',\n",
              " '紅連',\n",
              " 'baju',\n",
              " '油香',\n",
              " '航程',\n",
              " '巡艦',\n",
              " 'Asian',\n",
              " 'Botanical',\n",
              " '台燈',\n",
              " 'outlook',\n",
              " '牙白',\n",
              " '年年有余',\n",
              " '紙器',\n",
              " '9309',\n",
              " '2444',\n",
              " 'Strategic',\n",
              " '微藻',\n",
              " 'b',\n",
              " '王果',\n",
              " '乾倉',\n",
              " '機車載',\n",
              " '補細',\n",
              " 'Ready',\n",
              " '基峰',\n",
              " '聚合',\n",
              " 'Console',\n",
              " '益善',\n",
              " '黎明',\n",
              " '吸潮',\n",
              " '夏瑜',\n",
              " '105F',\n",
              " '戰事',\n",
              " '原環',\n",
              " '鉻鉬鋼',\n",
              " '金外',\n",
              " '水汽',\n",
              " '0294',\n",
              " 'Aure',\n",
              " 'MIDORI',\n",
              " 'Radiance',\n",
              " '類潤',\n",
              " '鳥紋',\n",
              " '東協',\n",
              " '隨書',\n",
              " 'ALIVE',\n",
              " 'SAMURAI',\n",
              " '床單',\n",
              " '修訂',\n",
              " '盆柜',\n",
              " '新導',\n",
              " 'rains',\n",
              " '安可場',\n",
              " '摩布',\n",
              " '茶涼',\n",
              " 'meal',\n",
              " '樂歌',\n",
              " '4886',\n",
              " 'canmake',\n",
              " '彈牙',\n",
              " 'BARBIE',\n",
              " '古怪',\n",
              " '荒',\n",
              " '甜潤',\n",
              " '粉紅絲',\n",
              " '張學友',\n",
              " '袖扣',\n",
              " '新格',\n",
              " '上島',\n",
              " 'BUSH',\n",
              " '—',\n",
              " '8608',\n",
              " '羔羊皮',\n",
              " '0628',\n",
              " '圖源',\n",
              " '青睞',\n",
              " '失竊',\n",
              " 'ALDO',\n",
              " '迅社',\n",
              " '刺鼻',\n",
              " '杆式',\n",
              " '愛悅',\n",
              " '金智英',\n",
              " '美人鱼',\n",
              " '艾可',\n",
              " '克線',\n",
              " '傑能',\n",
              " '蜂王',\n",
              " '高馬尾',\n",
              " 'Shanice',\n",
              " '正負',\n",
              " 'michaelkors',\n",
              " '2824',\n",
              " '麥莉',\n",
              " 'ZG',\n",
              " '如飛',\n",
              " '制裁者',\n",
              " 'Hockey',\n",
              " '浮油',\n",
              " '白骨精',\n",
              " '是非',\n",
              " '變味',\n",
              " '门帘',\n",
              " '阿音',\n",
              " '迪恩',\n",
              " '伯格',\n",
              " 'Friend',\n",
              " '御寒衣',\n",
              " 'Berlin',\n",
              " 'EQW',\n",
              " '蝶',\n",
              " '南安',\n",
              " '探房',\n",
              " '機下',\n",
              " 'XEQ',\n",
              " '何其',\n",
              " 'Further',\n",
              " '91A',\n",
              " 'Starr',\n",
              " '舉辦',\n",
              " 'PAVILION',\n",
              " '超推',\n",
              " '樹酯',\n",
              " '根柱',\n",
              " 'Socket',\n",
              " '隔熱板',\n",
              " '視導',\n",
              " '貼膚',\n",
              " '幾組',\n",
              " '5178',\n",
              " '蠟脫',\n",
              " '菜渣',\n",
              " '花瓣',\n",
              " '3116',\n",
              " '非線性',\n",
              " '枝頭',\n",
              " '延世',\n",
              " '高速',\n",
              " '蝙',\n",
              " '2678',\n",
              " '確證',\n",
              " '領卷',\n",
              " '藏品',\n",
              " '洛世奇',\n",
              " 'Function',\n",
              " '橘黃',\n",
              " '強化版',\n",
              " 'Phase',\n",
              " '繪師',\n",
              " '知秋',\n",
              " '管徑',\n",
              " '河馬',\n",
              " '蔚藍',\n",
              " 'FLAME',\n",
              " '三十二',\n",
              " '大驚喜',\n",
              " '0820',\n",
              " '園崎',\n",
              " '切爾西',\n",
              " '朦',\n",
              " '35S',\n",
              " '文曲星',\n",
              " 'Kindom',\n",
              " '系带',\n",
              " 'minifigures',\n",
              " '0737',\n",
              " '植栽',\n",
              " '餅乾',\n",
              " '龍單',\n",
              " 'OnePiece',\n",
              " 'Gordon',\n",
              " 'shampoo',\n",
              " '玄理',\n",
              " 'Kevyn',\n",
              " '53.8',\n",
              " '品室',\n",
              " 'Lysine',\n",
              " '用聲',\n",
              " '旭日',\n",
              " 'Vanquish',\n",
              " '史黛',\n",
              " '屁蟲',\n",
              " '精梳',\n",
              " 'Navdy',\n",
              " '近视眼',\n",
              " '掘土',\n",
              " '報組',\n",
              " 'saddle',\n",
              " '車充頭',\n",
              " 'MJN',\n",
              " '即效',\n",
              " '瘋時',\n",
              " '頻機',\n",
              " '0105',\n",
              " '背車',\n",
              " '力行',\n",
              " 'Gallop',\n",
              " '紅鶴',\n",
              " '收費',\n",
              " '自取',\n",
              " '舒適握',\n",
              " '推进器',\n",
              " '1795',\n",
              " 'Logic',\n",
              " '軍風',\n",
              " 'D200',\n",
              " '勒瑰恩',\n",
              " '隨愛',\n",
              " '頭轉',\n",
              " '應子',\n",
              " 'Ding',\n",
              " '大佬',\n",
              " '美洲',\n",
              " '13565',\n",
              " 'KNH',\n",
              " 'Bo',\n",
              " '垂手',\n",
              " '只怕',\n",
              " 'jumping',\n",
              " '廠組',\n",
              " 'Engines',\n",
              " '點北',\n",
              " 'Make',\n",
              " '金相',\n",
              " '23340',\n",
              " 'MDN',\n",
              " 'UltraWide',\n",
              " '聖魔',\n",
              " '6683',\n",
              " 'QBB',\n",
              " '野良犬',\n",
              " '35B',\n",
              " '羊肥',\n",
              " '稀客',\n",
              " '11285',\n",
              " 'Filmmaker',\n",
              " 'OMM',\n",
              " '迪化街',\n",
              " '張碧晨',\n",
              " '報點',\n",
              " '家抄',\n",
              " 'RDR',\n",
              " '帽緣',\n",
              " '2574',\n",
              " '人地',\n",
              " '小蕾',\n",
              " 'Cadeau',\n",
              " '原絲',\n",
              " 'Sunrise',\n",
              " '玉到',\n",
              " '李茂',\n",
              " '健腹器',\n",
              " '訂單',\n",
              " '迅捷',\n",
              " '雅境',\n",
              " '版導',\n",
              " '補稅',\n",
              " '版品',\n",
              " '二氧化氯',\n",
              " 'je',\n",
              " '6662',\n",
              " 'skipping',\n",
              " '劍君',\n",
              " '5016',\n",
              " '無麥',\n",
              " '璨',\n",
              " '果然',\n",
              " '周華健',\n",
              " '筐',\n",
              " '黑鳥',\n",
              " 'Karajan',\n",
              " '四八',\n",
              " 'USB3',\n",
              " '熱泡',\n",
              " 'Carrie',\n",
              " '甜醬',\n",
              " '秦始皇',\n",
              " '號賽',\n",
              " '玩水',\n",
              " '外下',\n",
              " '譜曲',\n",
              " '萬華鏡',\n",
              " '紅長',\n",
              " 'Mighty',\n",
              " 'G98',\n",
              " '達克痘',\n",
              " '循環風',\n",
              " '下野',\n",
              " '杰瑞',\n",
              " '菲律賓',\n",
              " 'Rara',\n",
              " 'Orbi',\n",
              " '腎虛',\n",
              " 'Unity',\n",
              " '道具',\n",
              " 'Myth',\n",
              " '放學',\n",
              " '兔兔',\n",
              " '玛格丽特',\n",
              " '替換式',\n",
              " 'LUXURY',\n",
              " '藍盒',\n",
              " '劇展',\n",
              " '金學',\n",
              " 'DOWN',\n",
              " '愛樂園',\n",
              " '握感',\n",
              " 'LOA',\n",
              " '大資料',\n",
              " '賈納',\n",
              " '提香',\n",
              " 'THOM',\n",
              " '油槽',\n",
              " '強韌性',\n",
              " '0711',\n",
              " '包貨',\n",
              " '勉強',\n",
              " 'stylus',\n",
              " '伸手',\n",
              " 'Emalia',\n",
              " '毛刺',\n",
              " '0127',\n",
              " '叼',\n",
              " '招財法',\n",
              " '門後',\n",
              " '阿爾比昂',\n",
              " 'W210',\n",
              " 'sober',\n",
              " 'Fund',\n",
              " '行色',\n",
              " '結圖',\n",
              " '8154',\n",
              " 'sierra',\n",
              " 'Edit',\n",
              " 'VLS',\n",
              " 'STB',\n",
              " '類題',\n",
              " '入贈',\n",
              " 'TRANSPORT',\n",
              " '平托',\n",
              " '怕水',\n",
              " '劉若英',\n",
              " 'Calculus',\n",
              " 'VENETA',\n",
              " 'SQUARE',\n",
              " 'HYF',\n",
              " '3003',\n",
              " '礙子',\n",
              " '遠坂凜',\n",
              " '送包',\n",
              " 'UD',\n",
              " '7166',\n",
              " '很快',\n",
              " 'sS',\n",
              " '即',\n",
              " '韓律',\n",
              " '圖視',\n",
              " '小童',\n",
              " 'С',\n",
              " 'ADT',\n",
              " 'BMI',\n",
              " 'Irvin',\n",
              " '筆較',\n",
              " '債卷',\n",
              " 'Stanhope',\n",
              " '徑防',\n",
              " '落實',\n",
              " 'JINX',\n",
              " '心疼',\n",
              " '6446',\n",
              " '妙廚',\n",
              " '內練',\n",
              " 'Favorites',\n",
              " '魯繡',\n",
              " 'peak',\n",
              " '棉短褲',\n",
              " '曹溪',\n",
              " '雙邊',\n",
              " '9213',\n",
              " '鑽床',\n",
              " '链长',\n",
              " 'SEAL',\n",
              " '豬窩',\n",
              " '粉紅屋',\n",
              " '傳奇卡',\n",
              " '單擦',\n",
              " '胡粉',\n",
              " '點鈔',\n",
              " '詩涵',\n",
              " '護包',\n",
              " 'fifth',\n",
              " '香飄飄',\n",
              " 'G96',\n",
              " '高台',\n",
              " '721',\n",
              " '美國',\n",
              " '必有用',\n",
              " 'AEE',\n",
              " '發團',\n",
              " 'Lethal',\n",
              " '火口',\n",
              " '啵',\n",
              " 'Aquila',\n",
              " '新國',\n",
              " '玉蘭花',\n",
              " '最夯',\n",
              " '貪歡',\n",
              " '熱機學',\n",
              " 'aircraft',\n",
              " '皇佳',\n",
              " '房地產',\n",
              " '4794',\n",
              " '登',\n",
              " '椰子汁',\n",
              " '澳寶',\n",
              " 'Mao',\n",
              " '同格',\n",
              " '摩擦力',\n",
              " 'Ais',\n",
              " '國上',\n",
              " '屏壁',\n",
              " '黑帝斯',\n",
              " '火之丸',\n",
              " '標靶',\n",
              " '古谷',\n",
              " 'Supima',\n",
              " '外用',\n",
              " '經線',\n",
              " '藝人',\n",
              " '失調',\n",
              " '代北',\n",
              " 'baked',\n",
              " '熱保',\n",
              " 'Laces',\n",
              " 'niconico',\n",
              " '0116',\n",
              " 'Drei',\n",
              " '军帽',\n",
              " 'Gentil',\n",
              " '法國人',\n",
              " 'TRUNK',\n",
              " '木經',\n",
              " '帶刀',\n",
              " '以諾',\n",
              " '470mm',\n",
              " '壁爐',\n",
              " 'ORCHID',\n",
              " 'SUNCUT',\n",
              " 'Miu',\n",
              " '吉普',\n",
              " '牧童',\n",
              " '822',\n",
              " 'Thinkbaby',\n",
              " '三脚架',\n",
              " 'Sears',\n",
              " '真管',\n",
              " '阿迪达斯',\n",
              " '上下左右',\n",
              " '果桑',\n",
              " '拍賣網',\n",
              " '台股',\n",
              " '鏡北',\n",
              " 'S18',\n",
              " '劉在',\n",
              " '英國衛褲',\n",
              " '感果',\n",
              " 'BEPO',\n",
              " 'BOLIDE',\n",
              " '攜型',\n",
              " 'Hyaluronic',\n",
              " '母舅',\n",
              " '7620',\n",
              " 'Catalyst',\n",
              " 'beatles',\n",
              " '紫果',\n",
              " 'n3',\n",
              " '石印',\n",
              " '再來',\n",
              " '色澤紅潤',\n",
              " 'POWEREX',\n",
              " 'ICB',\n",
              " '發滿',\n",
              " 'your',\n",
              " 'APPLE',\n",
              " 'windows10',\n",
              " '15488',\n",
              " '8087',\n",
              " '刻刻',\n",
              " '龍有',\n",
              " '王傳',\n",
              " 'CFA',\n",
              " '4391',\n",
              " 'christian',\n",
              " '1996',\n",
              " '塔烏',\n",
              " 'Rap',\n",
              " 'monochrome',\n",
              " '熊手',\n",
              " '每個',\n",
              " '周邊',\n",
              " '無矽靈',\n",
              " '天喜',\n",
              " '北關',\n",
              " 'Yuskin',\n",
              " '奢華金',\n",
              " '竹取',\n",
              " '克為',\n",
              " 'NOTEBOOK',\n",
              " '疥蟲',\n",
              " '泡沫式',\n",
              " '補缺',\n",
              " '德島',\n",
              " 'Emperor',\n",
              " '雙穴',\n",
              " '玩愛',\n",
              " '感類',\n",
              " '小烏丸',\n",
              " '16700',\n",
              " '1390',\n",
              " '古曼',\n",
              " '革命',\n",
              " '拉提',\n",
              " '比實',\n",
              " '禪繞',\n",
              " '五人座',\n",
              " '24mm',\n",
              " 'vitoas',\n",
              " '手勁',\n",
              " '楊志良',\n",
              " '楓紅',\n",
              " '倒刺',\n",
              " '鸡皮',\n",
              " '拉箱',\n",
              " '冷筍',\n",
              " '泰迪熊',\n",
              " '珠寶行',\n",
              " '橡皮擦',\n",
              " '潮風',\n",
              " '貝殼頭',\n",
              " '再起',\n",
              " '裝具',\n",
              " '調個',\n",
              " '曬防',\n",
              " '瞭望',\n",
              " '預言家',\n",
              " 'DBN',\n",
              " '少羽',\n",
              " '擦亮',\n",
              " '辣拌',\n",
              " '孢子粉',\n",
              " '裸膚色',\n",
              " 'Onyx',\n",
              " '刻表',\n",
              " 'Cts',\n",
              " 'BlueAnt',\n",
              " '蘚',\n",
              " '韓德',\n",
              " '些許',\n",
              " 'Wear',\n",
              " '蒂法',\n",
              " '方智',\n",
              " '727',\n",
              " '直拉',\n",
              " '舘',\n",
              " 'Ｙ',\n",
              " 'kiki',\n",
              " 'Nexus',\n",
              " 'Variable',\n",
              " 'Z45',\n",
              " '食指',\n",
              " '智光',\n",
              " '6719',\n",
              " '砂金',\n",
              " '初號機',\n",
              " 'finally',\n",
              " '210mm',\n",
              " '實作',\n",
              " 'hepa',\n",
              " '39g',\n",
              " '特蘭',\n",
              " 'Suite',\n",
              " '一千六',\n",
              " '132.6',\n",
              " '安德生',\n",
              " 'inspired',\n",
              " '楊潔',\n",
              " '拉制',\n",
              " '陸星材',\n",
              " '魚專',\n",
              " 'KingCamp',\n",
              " '2382',\n",
              " '熏',\n",
              " '給施',\n",
              " '構造',\n",
              " '板石',\n",
              " 'Paraty',\n",
              " '諾塔',\n",
              " '谷地',\n",
              " '高根鞋',\n",
              " 'W18',\n",
              " '戰刃',\n",
              " '瓜媽',\n",
              " '中道',\n",
              " '加分',\n",
              " '扁扁',\n",
              " '籍',\n",
              " '弱',\n",
              " '側進',\n",
              " '4329',\n",
              " 'Seagate',\n",
              " '家庭版',\n",
              " '阿迪力',\n",
              " '裝附',\n",
              " '逃脫',\n",
              " '蘇手',\n",
              " 'Bourbon',\n",
              " '鞋款',\n",
              " '胡克',\n",
              " 'Hillier',\n",
              " 'P201',\n",
              " '佩洛',\n",
              " '鏢頭',\n",
              " '瑙',\n",
              " '秋鞋',\n",
              " '外移',\n",
              " '尤利',\n",
              " '廣末',\n",
              " 'ds',\n",
              " '古谷實',\n",
              " '中底',\n",
              " '田農場',\n",
              " 'Azmira',\n",
              " '全國兒',\n",
              " 'Unleash',\n",
              " '難道',\n",
              " '小鮮',\n",
              " '4392',\n",
              " '防運動',\n",
              " '450g',\n",
              " '頂級紅',\n",
              " '士達醬',\n",
              " '潔顏',\n",
              " '龙龟',\n",
              " '灰土',\n",
              " '絨皮',\n",
              " '平治',\n",
              " '修慧',\n",
              " '趴兔',\n",
              " '綠葉蟬',\n",
              " 'FONESTUFF',\n",
              " 'Jewel',\n",
              " '赫菲斯',\n",
              " '厚道',\n",
              " '感超',\n",
              " '⑤',\n",
              " '虹宇',\n",
              " '瓜熟蒂落',\n",
              " '翔仔',\n",
              " 'Dynamis',\n",
              " '░',\n",
              " '沙特',\n",
              " '酷網',\n",
              " 'After',\n",
              " '點滴',\n",
              " '衕',\n",
              " '藤編',\n",
              " '股市',\n",
              " '推貨',\n",
              " '唇液',\n",
              " '1726',\n",
              " '破千',\n",
              " 'Georgia',\n",
              " '雅惠',\n",
              " '哈布',\n",
              " '轉讓',\n",
              " '性起',\n",
              " '四大名著',\n",
              " 'Writers',\n",
              " 'Huong',\n",
              " '類優質',\n",
              " '百貨禮券',\n",
              " '韩国',\n",
              " 'ADAS',\n",
              " '內僅',\n",
              " 'BarraCuda',\n",
              " '正時',\n",
              " '代刷',\n",
              " 'Lille',\n",
              " '索頓',\n",
              " '銃',\n",
              " '洋',\n",
              " '流行色',\n",
              " '級生',\n",
              " '遊木',\n",
              " '中南',\n",
              " '迪拜',\n",
              " '花旗',\n",
              " '野蓮',\n",
              " '8003',\n",
              " '珍藏版',\n",
              " '品道',\n",
              " '萬責',\n",
              " '隱密式',\n",
              " '標貼',\n",
              " 'Tesla',\n",
              " '如意',\n",
              " '9749',\n",
              " '80.4',\n",
              " '❥',\n",
              " '多樂',\n",
              " '熱電',\n",
              " '赤地',\n",
              " '992',\n",
              " 'SQUID',\n",
              " '夢痕',\n",
              " 'Exp',\n",
              " '秋霖',\n",
              " '阿莎力',\n",
              " '喜雨',\n",
              " '头戴式',\n",
              " '코',\n",
              " '靜下心',\n",
              " 'Fusion',\n",
              " '澎派',\n",
              " '超極品',\n",
              " '慧黠',\n",
              " '加水',\n",
              " '9v',\n",
              " 'Furano',\n",
              " '換下',\n",
              " '3800',\n",
              " '包头',\n",
              " 'MKH',\n",
              " '來夾',\n",
              " '德比',\n",
              " '狄克',\n",
              " 'j7',\n",
              " 'Cauldron',\n",
              " '花兒',\n",
              " 'Selfie',\n",
              " '5445',\n",
              " '38mm',\n",
              " '街頭感',\n",
              " '樂適',\n",
              " '侵犯',\n",
              " '3a',\n",
              " 'R7',\n",
              " '另收',\n",
              " 'Turf',\n",
              " '大雪',\n",
              " 'BOYA',\n",
              " '平針',\n",
              " '1164',\n",
              " '廁間',\n",
              " 'Hennessy',\n",
              " '頭素',\n",
              " '內聖',\n",
              " '白黃色',\n",
              " '内挂',\n",
              " '目電子',\n",
              " '紅到',\n",
              " '11151',\n",
              " '貝司',\n",
              " '車斗',\n",
              " 'Yung',\n",
              " 'iFit',\n",
              " '有效性',\n",
              " '蔡志雄',\n",
              " '華豐',\n",
              " '美肉',\n",
              " '葛萊分',\n",
              " '資訊展',\n",
              " 'YG',\n",
              " '綿貫',\n",
              " '玩新',\n",
              " 'IAP',\n",
              " '两用',\n",
              " '棉花',\n",
              " '品源',\n",
              " '泉石',\n",
              " ...}"
            ]
          },
          "metadata": {
            "tags": []
          },
          "execution_count": 92
        }
      ]
    },
    {
      "cell_type": "code",
      "metadata": {
        "id": "bJOczX9pt9_V"
      },
      "source": [
        "train_tcn.dropna(subset=['product_title'], inplace=True)\n",
        "train_tcn[train_tcn['product_title'].str.contains('코')]"
      ],
      "execution_count": null,
      "outputs": []
    },
    {
      "cell_type": "code",
      "metadata": {
        "id": "556is577tJvY",
        "colab": {
          "base_uri": "https://localhost:8080/",
          "height": 34
        },
        "outputId": "1aa3cb8b-a5c7-4588-c07d-a1b56f850ce3"
      },
      "source": [
        "list(inter)[:10]"
      ],
      "execution_count": null,
      "outputs": [
        {
          "output_type": "execute_result",
          "data": {
            "text/plain": [
              "['臥式', '包斯', '何潤東', '刮破', '輪刀', 'chains', 'RiDATA', '籌碼', '林雅萍', 'Impeccable']"
            ]
          },
          "metadata": {
            "tags": []
          },
          "execution_count": 66
        }
      ]
    },
    {
      "cell_type": "code",
      "metadata": {
        "id": "044umbxIutap"
      },
      "source": [
        "zh_embeddings = pd.DataFrame(columns=['labels','vector'])"
      ],
      "execution_count": null,
      "outputs": []
    },
    {
      "cell_type": "code",
      "metadata": {
        "id": "0ktbar_JvS-K",
        "colab": {
          "base_uri": "https://localhost:8080/",
          "height": 54
        },
        "outputId": "471d341c-28a8-475e-e9d7-46ddf16aa5bf"
      },
      "source": [
        "# word vector for each word in the vocabulary\n",
        "emb = []\n",
        "count = 0 \n",
        "for i in list(inter):\n",
        "  count+=1\n",
        "  emb.append(ft.get_word_vector(i))\n",
        "  if count%1000==0:\n",
        "    print(\".\", end=\"\")"
      ],
      "execution_count": null,
      "outputs": [
        {
          "output_type": "stream",
          "text": [
            "........................................................................................................................................................."
          ],
          "name": "stdout"
        }
      ]
    },
    {
      "cell_type": "code",
      "metadata": {
        "id": "mrM6BdkFv0dD"
      },
      "source": [
        "zh_embeddings['labels'] = pd.Series(list(inter))\n",
        "zh_embeddings['vector'] = pd.Series(emb)"
      ],
      "execution_count": null,
      "outputs": []
    },
    {
      "cell_type": "code",
      "metadata": {
        "id": "Q08dq4kzzjex",
        "colab": {
          "base_uri": "https://localhost:8080/",
          "height": 34
        },
        "outputId": "dad05fd2-503f-4188-b1c4-eb55172fe6fb"
      },
      "source": [
        "zh_embeddings['labels'].nunique()"
      ],
      "execution_count": null,
      "outputs": [
        {
          "output_type": "execute_result",
          "data": {
            "text/plain": [
              "153620"
            ]
          },
          "metadata": {
            "tags": []
          },
          "execution_count": 89
        }
      ]
    },
    {
      "cell_type": "code",
      "metadata": {
        "id": "a3nwlC1qxUFj",
        "colab": {
          "base_uri": "https://localhost:8080/",
          "height": 195
        },
        "outputId": "6a31f26d-1be6-45e3-8d49-c59a260bd97b"
      },
      "source": [
        "zh_embeddings.head()"
      ],
      "execution_count": null,
      "outputs": [
        {
          "output_type": "execute_result",
          "data": {
            "text/html": [
              "<div>\n",
              "<style scoped>\n",
              "    .dataframe tbody tr th:only-of-type {\n",
              "        vertical-align: middle;\n",
              "    }\n",
              "\n",
              "    .dataframe tbody tr th {\n",
              "        vertical-align: top;\n",
              "    }\n",
              "\n",
              "    .dataframe thead th {\n",
              "        text-align: right;\n",
              "    }\n",
              "</style>\n",
              "<table border=\"1\" class=\"dataframe\">\n",
              "  <thead>\n",
              "    <tr style=\"text-align: right;\">\n",
              "      <th></th>\n",
              "      <th>labels</th>\n",
              "      <th>vector</th>\n",
              "    </tr>\n",
              "  </thead>\n",
              "  <tbody>\n",
              "    <tr>\n",
              "      <th>0</th>\n",
              "      <td>臥式</td>\n",
              "      <td>[0.4088176, 0.02333656, 0.03943201, 0.06168215...</td>\n",
              "    </tr>\n",
              "    <tr>\n",
              "      <th>1</th>\n",
              "      <td>包斯</td>\n",
              "      <td>[-0.06076532, 0.07766768, -0.04050674, -0.0049...</td>\n",
              "    </tr>\n",
              "    <tr>\n",
              "      <th>2</th>\n",
              "      <td>何潤東</td>\n",
              "      <td>[0.046263136, -0.084913686, 0.049385455, 0.132...</td>\n",
              "    </tr>\n",
              "    <tr>\n",
              "      <th>3</th>\n",
              "      <td>刮破</td>\n",
              "      <td>[0.1107896, 0.15822938, 0.17494443, 0.07522982...</td>\n",
              "    </tr>\n",
              "    <tr>\n",
              "      <th>4</th>\n",
              "      <td>輪刀</td>\n",
              "      <td>[0.015036436, -0.059545863, 0.03072809, 0.1581...</td>\n",
              "    </tr>\n",
              "  </tbody>\n",
              "</table>\n",
              "</div>"
            ],
            "text/plain": [
              "  labels                                             vector\n",
              "0     臥式  [0.4088176, 0.02333656, 0.03943201, 0.06168215...\n",
              "1     包斯  [-0.06076532, 0.07766768, -0.04050674, -0.0049...\n",
              "2    何潤東  [0.046263136, -0.084913686, 0.049385455, 0.132...\n",
              "3     刮破  [0.1107896, 0.15822938, 0.17494443, 0.07522982...\n",
              "4     輪刀  [0.015036436, -0.059545863, 0.03072809, 0.1581..."
            ]
          },
          "metadata": {
            "tags": []
          },
          "execution_count": 83
        }
      ]
    },
    {
      "cell_type": "code",
      "metadata": {
        "id": "a4jrvyLawTDb"
      },
      "source": [
        "zh_embeddings.to_csv('zh_embeddings.csv', index=False)"
      ],
      "execution_count": null,
      "outputs": []
    },
    {
      "cell_type": "markdown",
      "metadata": {
        "id": "CkAWSj0uKg-C"
      },
      "source": [
        "# XLM-R\n"
      ]
    },
    {
      "cell_type": "code",
      "metadata": {
        "id": "N4MJ-x7IQaIY"
      },
      "source": [
        "import torch\n",
        "! pip install sentencepiece\n",
        "xlmr = torch.hub.load('pytorch/fairseq', 'xlmr.large')\n",
        "xlmr.eval()\n",
        "tokens=xlmr.encode(train_tcn['cut_cols'])\n",
        "tokens"
      ],
      "execution_count": null,
      "outputs": []
    },
    {
      "cell_type": "code",
      "metadata": {
        "id": "yUPuNEbFpzE0",
        "colab": {
          "base_uri": "https://localhost:8080/",
          "height": 151
        },
        "outputId": "d928a1bb-65ec-4a58-d824-17fc8aef6af6"
      },
      "source": [
        "xlmr.extract_features(tokens)"
      ],
      "execution_count": null,
      "outputs": [
        {
          "output_type": "execute_result",
          "data": {
            "text/plain": [
              "tensor([[[-0.0084,  0.0306,  0.1065,  ..., -0.1425, -0.0022, -0.0485],\n",
              "         [-0.5199, -0.0722, -0.0239,  ...,  0.1168,  0.1225, -0.4428],\n",
              "         [-0.3858,  0.0979,  0.0305,  ...,  0.2274, -0.0807, -0.0345],\n",
              "         ...,\n",
              "         [-0.1731,  0.1132, -0.0336,  ...,  0.0114, -0.4444,  0.0751],\n",
              "         [ 0.1929,  0.0952, -0.0347,  ..., -0.0358, -0.3404,  0.0285],\n",
              "         [ 0.1057,  0.0129,  0.0227,  ...,  0.0135, -0.0372,  0.0198]]],\n",
              "       grad_fn=<TransposeBackward0>)"
            ]
          },
          "metadata": {
            "tags": []
          },
          "execution_count": 14
        }
      ]
    }
  ]
}