{
  "nbformat": 4,
  "nbformat_minor": 0,
  "metadata": {
    "colab": {
      "name": "C06_sentiment analysis",
      "provenance": [],
      "collapsed_sections": [
        "3DHluJ9Kz58K"
      ],
      "toc_visible": true
    },
    "kernelspec": {
      "name": "python3",
      "display_name": "Python 3"
    },
    "accelerator": "GPU",
    "widgets": {
      "application/vnd.jupyter.widget-state+json": {
        "add4e98add214aba8f7945d766c0db7c": {
          "model_module": "@jupyter-widgets/controls",
          "model_name": "HBoxModel",
          "state": {
            "_view_name": "HBoxView",
            "_dom_classes": [],
            "_model_name": "HBoxModel",
            "_view_module": "@jupyter-widgets/controls",
            "_model_module_version": "1.5.0",
            "_view_count": null,
            "_view_module_version": "1.5.0",
            "box_style": "",
            "layout": "IPY_MODEL_7ad35df9054e4c2abe5354007576f4de",
            "_model_module": "@jupyter-widgets/controls",
            "children": [
              "IPY_MODEL_eac2885f2c734fce8a448cbfbeb63269",
              "IPY_MODEL_2f37be60c02b4db4863ef7aff582b533"
            ]
          },
          "model_module_version": "1.5.0"
        },
        "7ad35df9054e4c2abe5354007576f4de": {
          "model_module": "@jupyter-widgets/base",
          "model_name": "LayoutModel",
          "state": {
            "_view_name": "LayoutView",
            "grid_template_rows": null,
            "right": null,
            "justify_content": null,
            "_view_module": "@jupyter-widgets/base",
            "overflow": null,
            "_model_module_version": "1.2.0",
            "_view_count": null,
            "flex_flow": null,
            "width": null,
            "min_width": null,
            "border": null,
            "align_items": null,
            "bottom": null,
            "_model_module": "@jupyter-widgets/base",
            "top": null,
            "grid_column": null,
            "overflow_y": null,
            "overflow_x": null,
            "grid_auto_flow": null,
            "grid_area": null,
            "grid_template_columns": null,
            "flex": null,
            "_model_name": "LayoutModel",
            "justify_items": null,
            "grid_row": null,
            "max_height": null,
            "align_content": null,
            "visibility": null,
            "align_self": null,
            "height": null,
            "min_height": null,
            "padding": null,
            "grid_auto_rows": null,
            "grid_gap": null,
            "max_width": null,
            "order": null,
            "_view_module_version": "1.2.0",
            "grid_template_areas": null,
            "object_position": null,
            "object_fit": null,
            "grid_auto_columns": null,
            "margin": null,
            "display": null,
            "left": null
          },
          "model_module_version": "1.2.0"
        },
        "eac2885f2c734fce8a448cbfbeb63269": {
          "model_module": "@jupyter-widgets/controls",
          "model_name": "FloatProgressModel",
          "state": {
            "_view_name": "ProgressView",
            "style": "IPY_MODEL_e51c5c18d5b0438c8f4c6c30ac0690a3",
            "_dom_classes": [],
            "description": "Downloading: 100%",
            "_model_name": "FloatProgressModel",
            "bar_style": "success",
            "max": 501200538,
            "_view_module": "@jupyter-widgets/controls",
            "_model_module_version": "1.5.0",
            "value": 501200538,
            "_view_count": null,
            "_view_module_version": "1.5.0",
            "orientation": "horizontal",
            "min": 0,
            "description_tooltip": null,
            "_model_module": "@jupyter-widgets/controls",
            "layout": "IPY_MODEL_75e8ffbde2bf451a9c38e5e633762ab4"
          },
          "model_module_version": "1.5.0"
        },
        "2f37be60c02b4db4863ef7aff582b533": {
          "model_module": "@jupyter-widgets/controls",
          "model_name": "HTMLModel",
          "state": {
            "_view_name": "HTMLView",
            "style": "IPY_MODEL_52bfa715318140c08c6bbf71cefe9907",
            "_dom_classes": [],
            "description": "",
            "_model_name": "HTMLModel",
            "placeholder": "​",
            "_view_module": "@jupyter-widgets/controls",
            "_model_module_version": "1.5.0",
            "value": " 501M/501M [00:12&lt;00:00, 39.9MB/s]",
            "_view_count": null,
            "_view_module_version": "1.5.0",
            "description_tooltip": null,
            "_model_module": "@jupyter-widgets/controls",
            "layout": "IPY_MODEL_7a071ab7f88246df990c6611fef72110"
          },
          "model_module_version": "1.5.0"
        },
        "e51c5c18d5b0438c8f4c6c30ac0690a3": {
          "model_module": "@jupyter-widgets/controls",
          "model_name": "ProgressStyleModel",
          "state": {
            "_view_name": "StyleView",
            "_model_name": "ProgressStyleModel",
            "description_width": "initial",
            "_view_module": "@jupyter-widgets/base",
            "_model_module_version": "1.5.0",
            "_view_count": null,
            "_view_module_version": "1.2.0",
            "bar_color": null,
            "_model_module": "@jupyter-widgets/controls"
          },
          "model_module_version": "1.5.0"
        },
        "75e8ffbde2bf451a9c38e5e633762ab4": {
          "model_module": "@jupyter-widgets/base",
          "model_name": "LayoutModel",
          "state": {
            "_view_name": "LayoutView",
            "grid_template_rows": null,
            "right": null,
            "justify_content": null,
            "_view_module": "@jupyter-widgets/base",
            "overflow": null,
            "_model_module_version": "1.2.0",
            "_view_count": null,
            "flex_flow": null,
            "width": null,
            "min_width": null,
            "border": null,
            "align_items": null,
            "bottom": null,
            "_model_module": "@jupyter-widgets/base",
            "top": null,
            "grid_column": null,
            "overflow_y": null,
            "overflow_x": null,
            "grid_auto_flow": null,
            "grid_area": null,
            "grid_template_columns": null,
            "flex": null,
            "_model_name": "LayoutModel",
            "justify_items": null,
            "grid_row": null,
            "max_height": null,
            "align_content": null,
            "visibility": null,
            "align_self": null,
            "height": null,
            "min_height": null,
            "padding": null,
            "grid_auto_rows": null,
            "grid_gap": null,
            "max_width": null,
            "order": null,
            "_view_module_version": "1.2.0",
            "grid_template_areas": null,
            "object_position": null,
            "object_fit": null,
            "grid_auto_columns": null,
            "margin": null,
            "display": null,
            "left": null
          },
          "model_module_version": "1.2.0"
        },
        "52bfa715318140c08c6bbf71cefe9907": {
          "model_module": "@jupyter-widgets/controls",
          "model_name": "DescriptionStyleModel",
          "state": {
            "_view_name": "StyleView",
            "_model_name": "DescriptionStyleModel",
            "description_width": "",
            "_view_module": "@jupyter-widgets/base",
            "_model_module_version": "1.5.0",
            "_view_count": null,
            "_view_module_version": "1.2.0",
            "_model_module": "@jupyter-widgets/controls"
          },
          "model_module_version": "1.5.0"
        },
        "7a071ab7f88246df990c6611fef72110": {
          "model_module": "@jupyter-widgets/base",
          "model_name": "LayoutModel",
          "state": {
            "_view_name": "LayoutView",
            "grid_template_rows": null,
            "right": null,
            "justify_content": null,
            "_view_module": "@jupyter-widgets/base",
            "overflow": null,
            "_model_module_version": "1.2.0",
            "_view_count": null,
            "flex_flow": null,
            "width": null,
            "min_width": null,
            "border": null,
            "align_items": null,
            "bottom": null,
            "_model_module": "@jupyter-widgets/base",
            "top": null,
            "grid_column": null,
            "overflow_y": null,
            "overflow_x": null,
            "grid_auto_flow": null,
            "grid_area": null,
            "grid_template_columns": null,
            "flex": null,
            "_model_name": "LayoutModel",
            "justify_items": null,
            "grid_row": null,
            "max_height": null,
            "align_content": null,
            "visibility": null,
            "align_self": null,
            "height": null,
            "min_height": null,
            "padding": null,
            "grid_auto_rows": null,
            "grid_gap": null,
            "max_width": null,
            "order": null,
            "_view_module_version": "1.2.0",
            "grid_template_areas": null,
            "object_position": null,
            "object_fit": null,
            "grid_auto_columns": null,
            "margin": null,
            "display": null,
            "left": null
          },
          "model_module_version": "1.2.0"
        },
        "0d52aba448c042eeab9b599e83b0d9a1": {
          "model_module": "@jupyter-widgets/controls",
          "model_name": "HBoxModel",
          "state": {
            "_view_name": "HBoxView",
            "_dom_classes": [],
            "_model_name": "HBoxModel",
            "_view_module": "@jupyter-widgets/controls",
            "_model_module_version": "1.5.0",
            "_view_count": null,
            "_view_module_version": "1.5.0",
            "box_style": "",
            "layout": "IPY_MODEL_b3ddf65444244f98b0486b9809d843bc",
            "_model_module": "@jupyter-widgets/controls",
            "children": [
              "IPY_MODEL_29e249d80d344fb5b34cacd653361718",
              "IPY_MODEL_5d3196669a9d44e6ac9b303a00ece01d"
            ]
          },
          "model_module_version": "1.5.0"
        },
        "b3ddf65444244f98b0486b9809d843bc": {
          "model_module": "@jupyter-widgets/base",
          "model_name": "LayoutModel",
          "state": {
            "_view_name": "LayoutView",
            "grid_template_rows": null,
            "right": null,
            "justify_content": null,
            "_view_module": "@jupyter-widgets/base",
            "overflow": null,
            "_model_module_version": "1.2.0",
            "_view_count": null,
            "flex_flow": null,
            "width": null,
            "min_width": null,
            "border": null,
            "align_items": null,
            "bottom": null,
            "_model_module": "@jupyter-widgets/base",
            "top": null,
            "grid_column": null,
            "overflow_y": null,
            "overflow_x": null,
            "grid_auto_flow": null,
            "grid_area": null,
            "grid_template_columns": null,
            "flex": null,
            "_model_name": "LayoutModel",
            "justify_items": null,
            "grid_row": null,
            "max_height": null,
            "align_content": null,
            "visibility": null,
            "align_self": null,
            "height": null,
            "min_height": null,
            "padding": null,
            "grid_auto_rows": null,
            "grid_gap": null,
            "max_width": null,
            "order": null,
            "_view_module_version": "1.2.0",
            "grid_template_areas": null,
            "object_position": null,
            "object_fit": null,
            "grid_auto_columns": null,
            "margin": null,
            "display": null,
            "left": null
          },
          "model_module_version": "1.2.0"
        },
        "29e249d80d344fb5b34cacd653361718": {
          "model_module": "@jupyter-widgets/controls",
          "model_name": "FloatProgressModel",
          "state": {
            "_view_name": "ProgressView",
            "style": "IPY_MODEL_8e6a511f682b43d0be6a1af39ed31eb3",
            "_dom_classes": [],
            "description": "Downloading: 100%",
            "_model_name": "FloatProgressModel",
            "bar_style": "success",
            "max": 798011,
            "_view_module": "@jupyter-widgets/controls",
            "_model_module_version": "1.5.0",
            "value": 798011,
            "_view_count": null,
            "_view_module_version": "1.5.0",
            "orientation": "horizontal",
            "min": 0,
            "description_tooltip": null,
            "_model_module": "@jupyter-widgets/controls",
            "layout": "IPY_MODEL_a94e0304673e4047b2694c09a9da7d11"
          },
          "model_module_version": "1.5.0"
        },
        "5d3196669a9d44e6ac9b303a00ece01d": {
          "model_module": "@jupyter-widgets/controls",
          "model_name": "HTMLModel",
          "state": {
            "_view_name": "HTMLView",
            "style": "IPY_MODEL_0b6668fd95f74e308b626d82a4104f39",
            "_dom_classes": [],
            "description": "",
            "_model_name": "HTMLModel",
            "placeholder": "​",
            "_view_module": "@jupyter-widgets/controls",
            "_model_module_version": "1.5.0",
            "value": " 798k/798k [00:23&lt;00:00, 33.4kB/s]",
            "_view_count": null,
            "_view_module_version": "1.5.0",
            "description_tooltip": null,
            "_model_module": "@jupyter-widgets/controls",
            "layout": "IPY_MODEL_e2c651a78ed345ec863b4d6490cd957e"
          },
          "model_module_version": "1.5.0"
        },
        "8e6a511f682b43d0be6a1af39ed31eb3": {
          "model_module": "@jupyter-widgets/controls",
          "model_name": "ProgressStyleModel",
          "state": {
            "_view_name": "StyleView",
            "_model_name": "ProgressStyleModel",
            "description_width": "initial",
            "_view_module": "@jupyter-widgets/base",
            "_model_module_version": "1.5.0",
            "_view_count": null,
            "_view_module_version": "1.2.0",
            "bar_color": null,
            "_model_module": "@jupyter-widgets/controls"
          },
          "model_module_version": "1.5.0"
        },
        "a94e0304673e4047b2694c09a9da7d11": {
          "model_module": "@jupyter-widgets/base",
          "model_name": "LayoutModel",
          "state": {
            "_view_name": "LayoutView",
            "grid_template_rows": null,
            "right": null,
            "justify_content": null,
            "_view_module": "@jupyter-widgets/base",
            "overflow": null,
            "_model_module_version": "1.2.0",
            "_view_count": null,
            "flex_flow": null,
            "width": null,
            "min_width": null,
            "border": null,
            "align_items": null,
            "bottom": null,
            "_model_module": "@jupyter-widgets/base",
            "top": null,
            "grid_column": null,
            "overflow_y": null,
            "overflow_x": null,
            "grid_auto_flow": null,
            "grid_area": null,
            "grid_template_columns": null,
            "flex": null,
            "_model_name": "LayoutModel",
            "justify_items": null,
            "grid_row": null,
            "max_height": null,
            "align_content": null,
            "visibility": null,
            "align_self": null,
            "height": null,
            "min_height": null,
            "padding": null,
            "grid_auto_rows": null,
            "grid_gap": null,
            "max_width": null,
            "order": null,
            "_view_module_version": "1.2.0",
            "grid_template_areas": null,
            "object_position": null,
            "object_fit": null,
            "grid_auto_columns": null,
            "margin": null,
            "display": null,
            "left": null
          },
          "model_module_version": "1.2.0"
        },
        "0b6668fd95f74e308b626d82a4104f39": {
          "model_module": "@jupyter-widgets/controls",
          "model_name": "DescriptionStyleModel",
          "state": {
            "_view_name": "StyleView",
            "_model_name": "DescriptionStyleModel",
            "description_width": "",
            "_view_module": "@jupyter-widgets/base",
            "_model_module_version": "1.5.0",
            "_view_count": null,
            "_view_module_version": "1.2.0",
            "_model_module": "@jupyter-widgets/controls"
          },
          "model_module_version": "1.5.0"
        },
        "e2c651a78ed345ec863b4d6490cd957e": {
          "model_module": "@jupyter-widgets/base",
          "model_name": "LayoutModel",
          "state": {
            "_view_name": "LayoutView",
            "grid_template_rows": null,
            "right": null,
            "justify_content": null,
            "_view_module": "@jupyter-widgets/base",
            "overflow": null,
            "_model_module_version": "1.2.0",
            "_view_count": null,
            "flex_flow": null,
            "width": null,
            "min_width": null,
            "border": null,
            "align_items": null,
            "bottom": null,
            "_model_module": "@jupyter-widgets/base",
            "top": null,
            "grid_column": null,
            "overflow_y": null,
            "overflow_x": null,
            "grid_auto_flow": null,
            "grid_area": null,
            "grid_template_columns": null,
            "flex": null,
            "_model_name": "LayoutModel",
            "justify_items": null,
            "grid_row": null,
            "max_height": null,
            "align_content": null,
            "visibility": null,
            "align_self": null,
            "height": null,
            "min_height": null,
            "padding": null,
            "grid_auto_rows": null,
            "grid_gap": null,
            "max_width": null,
            "order": null,
            "_view_module_version": "1.2.0",
            "grid_template_areas": null,
            "object_position": null,
            "object_fit": null,
            "grid_auto_columns": null,
            "margin": null,
            "display": null,
            "left": null
          },
          "model_module_version": "1.2.0"
        },
        "1b45dd6beabc45d983cb6e0b26a321c8": {
          "model_module": "@jupyter-widgets/controls",
          "model_name": "HBoxModel",
          "state": {
            "_view_name": "HBoxView",
            "_dom_classes": [],
            "_model_name": "HBoxModel",
            "_view_module": "@jupyter-widgets/controls",
            "_model_module_version": "1.5.0",
            "_view_count": null,
            "_view_module_version": "1.5.0",
            "box_style": "",
            "layout": "IPY_MODEL_5005151ee2584ea696b21a7a3726cf4f",
            "_model_module": "@jupyter-widgets/controls",
            "children": [
              "IPY_MODEL_61a34cc20b514153b24a3271afa033ac",
              "IPY_MODEL_15b09ef34f8d47b8a7b723b94a2f0fc8"
            ]
          },
          "model_module_version": "1.5.0"
        },
        "5005151ee2584ea696b21a7a3726cf4f": {
          "model_module": "@jupyter-widgets/base",
          "model_name": "LayoutModel",
          "state": {
            "_view_name": "LayoutView",
            "grid_template_rows": null,
            "right": null,
            "justify_content": null,
            "_view_module": "@jupyter-widgets/base",
            "overflow": null,
            "_model_module_version": "1.2.0",
            "_view_count": null,
            "flex_flow": null,
            "width": null,
            "min_width": null,
            "border": null,
            "align_items": null,
            "bottom": null,
            "_model_module": "@jupyter-widgets/base",
            "top": null,
            "grid_column": null,
            "overflow_y": null,
            "overflow_x": null,
            "grid_auto_flow": null,
            "grid_area": null,
            "grid_template_columns": null,
            "flex": null,
            "_model_name": "LayoutModel",
            "justify_items": null,
            "grid_row": null,
            "max_height": null,
            "align_content": null,
            "visibility": null,
            "align_self": null,
            "height": null,
            "min_height": null,
            "padding": null,
            "grid_auto_rows": null,
            "grid_gap": null,
            "max_width": null,
            "order": null,
            "_view_module_version": "1.2.0",
            "grid_template_areas": null,
            "object_position": null,
            "object_fit": null,
            "grid_auto_columns": null,
            "margin": null,
            "display": null,
            "left": null
          },
          "model_module_version": "1.2.0"
        },
        "61a34cc20b514153b24a3271afa033ac": {
          "model_module": "@jupyter-widgets/controls",
          "model_name": "FloatProgressModel",
          "state": {
            "_view_name": "ProgressView",
            "style": "IPY_MODEL_dbef58ffbebe4761a6aafc865b36aca2",
            "_dom_classes": [],
            "description": "Downloading: 100%",
            "_model_name": "FloatProgressModel",
            "bar_style": "success",
            "max": 760,
            "_view_module": "@jupyter-widgets/controls",
            "_model_module_version": "1.5.0",
            "value": 760,
            "_view_count": null,
            "_view_module_version": "1.5.0",
            "orientation": "horizontal",
            "min": 0,
            "description_tooltip": null,
            "_model_module": "@jupyter-widgets/controls",
            "layout": "IPY_MODEL_b0fe8eaabd7242ca9add96a982c96a4e"
          },
          "model_module_version": "1.5.0"
        },
        "15b09ef34f8d47b8a7b723b94a2f0fc8": {
          "model_module": "@jupyter-widgets/controls",
          "model_name": "HTMLModel",
          "state": {
            "_view_name": "HTMLView",
            "style": "IPY_MODEL_1855370d781c4da0bf6affe6c36f94f8",
            "_dom_classes": [],
            "description": "",
            "_model_name": "HTMLModel",
            "placeholder": "​",
            "_view_module": "@jupyter-widgets/controls",
            "_model_module_version": "1.5.0",
            "value": " 760/760 [00:00&lt;00:00, 6.42kB/s]",
            "_view_count": null,
            "_view_module_version": "1.5.0",
            "description_tooltip": null,
            "_model_module": "@jupyter-widgets/controls",
            "layout": "IPY_MODEL_5d4e0f703c6545a8a8d36c6ec6bc53de"
          },
          "model_module_version": "1.5.0"
        },
        "dbef58ffbebe4761a6aafc865b36aca2": {
          "model_module": "@jupyter-widgets/controls",
          "model_name": "ProgressStyleModel",
          "state": {
            "_view_name": "StyleView",
            "_model_name": "ProgressStyleModel",
            "description_width": "initial",
            "_view_module": "@jupyter-widgets/base",
            "_model_module_version": "1.5.0",
            "_view_count": null,
            "_view_module_version": "1.2.0",
            "bar_color": null,
            "_model_module": "@jupyter-widgets/controls"
          },
          "model_module_version": "1.5.0"
        },
        "b0fe8eaabd7242ca9add96a982c96a4e": {
          "model_module": "@jupyter-widgets/base",
          "model_name": "LayoutModel",
          "state": {
            "_view_name": "LayoutView",
            "grid_template_rows": null,
            "right": null,
            "justify_content": null,
            "_view_module": "@jupyter-widgets/base",
            "overflow": null,
            "_model_module_version": "1.2.0",
            "_view_count": null,
            "flex_flow": null,
            "width": null,
            "min_width": null,
            "border": null,
            "align_items": null,
            "bottom": null,
            "_model_module": "@jupyter-widgets/base",
            "top": null,
            "grid_column": null,
            "overflow_y": null,
            "overflow_x": null,
            "grid_auto_flow": null,
            "grid_area": null,
            "grid_template_columns": null,
            "flex": null,
            "_model_name": "LayoutModel",
            "justify_items": null,
            "grid_row": null,
            "max_height": null,
            "align_content": null,
            "visibility": null,
            "align_self": null,
            "height": null,
            "min_height": null,
            "padding": null,
            "grid_auto_rows": null,
            "grid_gap": null,
            "max_width": null,
            "order": null,
            "_view_module_version": "1.2.0",
            "grid_template_areas": null,
            "object_position": null,
            "object_fit": null,
            "grid_auto_columns": null,
            "margin": null,
            "display": null,
            "left": null
          },
          "model_module_version": "1.2.0"
        },
        "1855370d781c4da0bf6affe6c36f94f8": {
          "model_module": "@jupyter-widgets/controls",
          "model_name": "DescriptionStyleModel",
          "state": {
            "_view_name": "StyleView",
            "_model_name": "DescriptionStyleModel",
            "description_width": "",
            "_view_module": "@jupyter-widgets/base",
            "_model_module_version": "1.5.0",
            "_view_count": null,
            "_view_module_version": "1.2.0",
            "_model_module": "@jupyter-widgets/controls"
          },
          "model_module_version": "1.5.0"
        },
        "5d4e0f703c6545a8a8d36c6ec6bc53de": {
          "model_module": "@jupyter-widgets/base",
          "model_name": "LayoutModel",
          "state": {
            "_view_name": "LayoutView",
            "grid_template_rows": null,
            "right": null,
            "justify_content": null,
            "_view_module": "@jupyter-widgets/base",
            "overflow": null,
            "_model_module_version": "1.2.0",
            "_view_count": null,
            "flex_flow": null,
            "width": null,
            "min_width": null,
            "border": null,
            "align_items": null,
            "bottom": null,
            "_model_module": "@jupyter-widgets/base",
            "top": null,
            "grid_column": null,
            "overflow_y": null,
            "overflow_x": null,
            "grid_auto_flow": null,
            "grid_area": null,
            "grid_template_columns": null,
            "flex": null,
            "_model_name": "LayoutModel",
            "justify_items": null,
            "grid_row": null,
            "max_height": null,
            "align_content": null,
            "visibility": null,
            "align_self": null,
            "height": null,
            "min_height": null,
            "padding": null,
            "grid_auto_rows": null,
            "grid_gap": null,
            "max_width": null,
            "order": null,
            "_view_module_version": "1.2.0",
            "grid_template_areas": null,
            "object_position": null,
            "object_fit": null,
            "grid_auto_columns": null,
            "margin": null,
            "display": null,
            "left": null
          },
          "model_module_version": "1.2.0"
        },
        "c9196043b6d4495cab450b9442ab85d5": {
          "model_module": "@jupyter-widgets/controls",
          "model_name": "HBoxModel",
          "state": {
            "_view_name": "HBoxView",
            "_dom_classes": [],
            "_model_name": "HBoxModel",
            "_view_module": "@jupyter-widgets/controls",
            "_model_module_version": "1.5.0",
            "_view_count": null,
            "_view_module_version": "1.5.0",
            "box_style": "",
            "layout": "IPY_MODEL_caa929c970ea47e6b4179db22ccc0fa5",
            "_model_module": "@jupyter-widgets/controls",
            "children": [
              "IPY_MODEL_de4b05e7711b4b9b8f2e67937f0d1b2c",
              "IPY_MODEL_b733ea6374b141889065f0b3e1b281ba"
            ]
          },
          "model_module_version": "1.5.0"
        },
        "caa929c970ea47e6b4179db22ccc0fa5": {
          "model_module": "@jupyter-widgets/base",
          "model_name": "LayoutModel",
          "state": {
            "_view_name": "LayoutView",
            "grid_template_rows": null,
            "right": null,
            "justify_content": null,
            "_view_module": "@jupyter-widgets/base",
            "overflow": null,
            "_model_module_version": "1.2.0",
            "_view_count": null,
            "flex_flow": null,
            "width": null,
            "min_width": null,
            "border": null,
            "align_items": null,
            "bottom": null,
            "_model_module": "@jupyter-widgets/base",
            "top": null,
            "grid_column": null,
            "overflow_y": null,
            "overflow_x": null,
            "grid_auto_flow": null,
            "grid_area": null,
            "grid_template_columns": null,
            "flex": null,
            "_model_name": "LayoutModel",
            "justify_items": null,
            "grid_row": null,
            "max_height": null,
            "align_content": null,
            "visibility": null,
            "align_self": null,
            "height": null,
            "min_height": null,
            "padding": null,
            "grid_auto_rows": null,
            "grid_gap": null,
            "max_width": null,
            "order": null,
            "_view_module_version": "1.2.0",
            "grid_template_areas": null,
            "object_position": null,
            "object_fit": null,
            "grid_auto_columns": null,
            "margin": null,
            "display": null,
            "left": null
          },
          "model_module_version": "1.2.0"
        },
        "de4b05e7711b4b9b8f2e67937f0d1b2c": {
          "model_module": "@jupyter-widgets/controls",
          "model_name": "FloatProgressModel",
          "state": {
            "_view_name": "ProgressView",
            "style": "IPY_MODEL_eef19b2e270944d89fc791d12e887822",
            "_dom_classes": [],
            "description": "Downloading: 100%",
            "_model_name": "FloatProgressModel",
            "bar_style": "success",
            "max": 467042463,
            "_view_module": "@jupyter-widgets/controls",
            "_model_module_version": "1.5.0",
            "value": 467042463,
            "_view_count": null,
            "_view_module_version": "1.5.0",
            "orientation": "horizontal",
            "min": 0,
            "description_tooltip": null,
            "_model_module": "@jupyter-widgets/controls",
            "layout": "IPY_MODEL_e39ebb67b8b6471294286f3481b018ce"
          },
          "model_module_version": "1.5.0"
        },
        "b733ea6374b141889065f0b3e1b281ba": {
          "model_module": "@jupyter-widgets/controls",
          "model_name": "HTMLModel",
          "state": {
            "_view_name": "HTMLView",
            "style": "IPY_MODEL_21a73facd7494baf81f1d5f482b3a2a7",
            "_dom_classes": [],
            "description": "",
            "_model_name": "HTMLModel",
            "placeholder": "​",
            "_view_module": "@jupyter-widgets/controls",
            "_model_module_version": "1.5.0",
            "value": " 467M/467M [00:22&lt;00:00, 20.9MB/s]",
            "_view_count": null,
            "_view_module_version": "1.5.0",
            "description_tooltip": null,
            "_model_module": "@jupyter-widgets/controls",
            "layout": "IPY_MODEL_d2e9201f08a949cbb3b8faf13c068dc7"
          },
          "model_module_version": "1.5.0"
        },
        "eef19b2e270944d89fc791d12e887822": {
          "model_module": "@jupyter-widgets/controls",
          "model_name": "ProgressStyleModel",
          "state": {
            "_view_name": "StyleView",
            "_model_name": "ProgressStyleModel",
            "description_width": "initial",
            "_view_module": "@jupyter-widgets/base",
            "_model_module_version": "1.5.0",
            "_view_count": null,
            "_view_module_version": "1.2.0",
            "bar_color": null,
            "_model_module": "@jupyter-widgets/controls"
          },
          "model_module_version": "1.5.0"
        },
        "e39ebb67b8b6471294286f3481b018ce": {
          "model_module": "@jupyter-widgets/base",
          "model_name": "LayoutModel",
          "state": {
            "_view_name": "LayoutView",
            "grid_template_rows": null,
            "right": null,
            "justify_content": null,
            "_view_module": "@jupyter-widgets/base",
            "overflow": null,
            "_model_module_version": "1.2.0",
            "_view_count": null,
            "flex_flow": null,
            "width": null,
            "min_width": null,
            "border": null,
            "align_items": null,
            "bottom": null,
            "_model_module": "@jupyter-widgets/base",
            "top": null,
            "grid_column": null,
            "overflow_y": null,
            "overflow_x": null,
            "grid_auto_flow": null,
            "grid_area": null,
            "grid_template_columns": null,
            "flex": null,
            "_model_name": "LayoutModel",
            "justify_items": null,
            "grid_row": null,
            "max_height": null,
            "align_content": null,
            "visibility": null,
            "align_self": null,
            "height": null,
            "min_height": null,
            "padding": null,
            "grid_auto_rows": null,
            "grid_gap": null,
            "max_width": null,
            "order": null,
            "_view_module_version": "1.2.0",
            "grid_template_areas": null,
            "object_position": null,
            "object_fit": null,
            "grid_auto_columns": null,
            "margin": null,
            "display": null,
            "left": null
          },
          "model_module_version": "1.2.0"
        },
        "21a73facd7494baf81f1d5f482b3a2a7": {
          "model_module": "@jupyter-widgets/controls",
          "model_name": "DescriptionStyleModel",
          "state": {
            "_view_name": "StyleView",
            "_model_name": "DescriptionStyleModel",
            "description_width": "",
            "_view_module": "@jupyter-widgets/base",
            "_model_module_version": "1.5.0",
            "_view_count": null,
            "_view_module_version": "1.2.0",
            "_model_module": "@jupyter-widgets/controls"
          },
          "model_module_version": "1.5.0"
        },
        "d2e9201f08a949cbb3b8faf13c068dc7": {
          "model_module": "@jupyter-widgets/base",
          "model_name": "LayoutModel",
          "state": {
            "_view_name": "LayoutView",
            "grid_template_rows": null,
            "right": null,
            "justify_content": null,
            "_view_module": "@jupyter-widgets/base",
            "overflow": null,
            "_model_module_version": "1.2.0",
            "_view_count": null,
            "flex_flow": null,
            "width": null,
            "min_width": null,
            "border": null,
            "align_items": null,
            "bottom": null,
            "_model_module": "@jupyter-widgets/base",
            "top": null,
            "grid_column": null,
            "overflow_y": null,
            "overflow_x": null,
            "grid_auto_flow": null,
            "grid_area": null,
            "grid_template_columns": null,
            "flex": null,
            "_model_name": "LayoutModel",
            "justify_items": null,
            "grid_row": null,
            "max_height": null,
            "align_content": null,
            "visibility": null,
            "align_self": null,
            "height": null,
            "min_height": null,
            "padding": null,
            "grid_auto_rows": null,
            "grid_gap": null,
            "max_width": null,
            "order": null,
            "_view_module_version": "1.2.0",
            "grid_template_areas": null,
            "object_position": null,
            "object_fit": null,
            "grid_auto_columns": null,
            "margin": null,
            "display": null,
            "left": null
          },
          "model_module_version": "1.2.0"
        }
      }
    }
  },
  "cells": [
    {
      "cell_type": "markdown",
      "metadata": {
        "id": "uIUYFs3rzvTy"
      },
      "source": [
        "# Importing"
      ]
    },
    {
      "cell_type": "code",
      "metadata": {
        "id": "8A-WIPjMh7Fl",
        "colab": {
          "base_uri": "https://localhost:8080/",
          "height": 34
        },
        "outputId": "143db44b-14fd-4dc8-b1ee-dd8e9ecf39db"
      },
      "source": [
        "from google.colab import drive\n",
        "drive.mount('/content/drive')"
      ],
      "execution_count": null,
      "outputs": [
        {
          "output_type": "stream",
          "text": [
            "Drive already mounted at /content/drive; to attempt to forcibly remount, call drive.mount(\"/content/drive\", force_remount=True).\n"
          ],
          "name": "stdout"
        }
      ]
    },
    {
      "cell_type": "code",
      "metadata": {
        "id": "OSn71yLZ9aZj",
        "colab": {
          "base_uri": "https://localhost:8080/",
          "height": 34
        },
        "outputId": "c295f43a-8dff-45a8-fd42-20f5ddf47a91"
      },
      "source": [
        "# !pip install preprocessor\n",
        "# !pip install bert-tensorflow\n",
        "# !pip install simpletransformers\n",
        "\n",
        "# !pip3 uninstall apex\n",
        "# !git clone https://www.github.com/nvidia/apex\n",
        "# ! cd /content/apex\n",
        "# ! python3 '/content/apex/setup.py' install\n",
        "\n",
        "!pip3 install -q ktrain\n",
        "!pip3 install -q tensorflow_gpu==2.1.0\n",
        "!pip install emoji\n",
        "\n",
        "# ! pip install -q transformers"
      ],
      "execution_count": null,
      "outputs": [
        {
          "output_type": "stream",
          "text": [
            "Requirement already satisfied: emoji in /usr/local/lib/python3.6/dist-packages (0.5.4)\n"
          ],
          "name": "stdout"
        }
      ]
    },
    {
      "cell_type": "code",
      "metadata": {
        "id": "yBg7dQ53kxmI"
      },
      "source": [
        "import pandas as pd\n",
        "import numpy as np\n",
        "import nltk\n",
        "import random\n",
        "# import preprocessor as p\n",
        "from sklearn.model_selection import train_test_split\n",
        "import sklearn\n",
        "# from simpletransformers.classification import MultiLabelClassificationModel\n",
        "import ktrain\n",
        "from ktrain import text as txt\n",
        "# import emoji  # https://pypi.org/project/emoji/\n",
        "from tqdm.auto import tqdm\n",
        "tqdm.pandas()\n",
        "\n",
        "from pathlib import Path \n",
        "\n",
        "import os\n",
        "\n",
        "import torch\n",
        "import torch.optim as optim\n",
        "\n",
        "import random \n",
        "\n",
        "# fastai\n",
        "from fastai import *\n",
        "from fastai.text import *\n",
        "from fastai.callbacks import *\n",
        "\n",
        "# transformers\n",
        "from transformers import PreTrainedModel, PreTrainedTokenizer, PretrainedConfig\n",
        "\n",
        "from transformers import BertForSequenceClassification, BertTokenizer, BertConfig\n",
        "from transformers import RobertaForSequenceClassification, RobertaTokenizer, RobertaConfig\n",
        "from transformers import XLNetForSequenceClassification, XLNetTokenizer, XLNetConfig\n",
        "from transformers import XLMForSequenceClassification, XLMTokenizer, XLMConfig\n",
        "from transformers import DistilBertForSequenceClassification, DistilBertTokenizer, DistilBertConfig"
      ],
      "execution_count": null,
      "outputs": []
    },
    {
      "cell_type": "code",
      "metadata": {
        "id": "OSxQDkKTlNA8"
      },
      "source": [
        "pd.set_option('display.max_rows', 100)\n",
        "pd.set_option('display.max_colwidth', 100)"
      ],
      "execution_count": null,
      "outputs": []
    },
    {
      "cell_type": "markdown",
      "metadata": {
        "id": "IeaYt3Yfz0cQ"
      },
      "source": [
        "# Data"
      ]
    },
    {
      "cell_type": "code",
      "metadata": {
        "id": "PywOILsMkobD"
      },
      "source": [
        "path = '/content/drive/My Drive/COLAB NOTEBOOKS/SCL/C06'\n",
        "train = pd.read_csv(path+'/train.csv')\n",
        "test = pd.read_csv(path+'/test.csv')"
      ],
      "execution_count": null,
      "outputs": []
    },
    {
      "cell_type": "code",
      "metadata": {
        "id": "KGNtt7i-kwQw"
      },
      "source": [
        "train.shape"
      ],
      "execution_count": null,
      "outputs": []
    },
    {
      "cell_type": "markdown",
      "metadata": {
        "id": "An5ufck99A4y"
      },
      "source": [
        "## Leaks"
      ]
    },
    {
      "cell_type": "code",
      "metadata": {
        "id": "exqLYFOH43_B"
      },
      "source": [
        "ratio = train.rating.value_counts(normalize=True)\n",
        "ans = [1]*int(round(len(test)*ratio[1]))+[2]*int(round(len(test)*ratio[2]))+[3]*int(round(len(test)*ratio[3]))+[4]*int(round(len(test)*ratio[4]))+[5]*int(round(len(test)*ratio[5]))\n",
        "len(ans)\n",
        "test['rating'] = ans\n",
        "test[['review_id','rating']].to_csv('submission.csv',index=False)"
      ],
      "execution_count": null,
      "outputs": []
    },
    {
      "cell_type": "markdown",
      "metadata": {
        "id": "VjaOPAYo9GAp"
      },
      "source": [
        "# Legit"
      ]
    },
    {
      "cell_type": "code",
      "metadata": {
        "id": "CeldTsErpi86"
      },
      "source": [
        "train['rating'] = train['rating'].astype('str')\n",
        "# product = train.pivot(index='review_id',columns='rating',values='review')\n",
        "one_hot = pd.get_dummies(train['rating'])\n",
        "# Drop column B as it is now encoded\n",
        "train = train.drop('rating',axis = 1)\n",
        "# Join the encoded df\n",
        "train = train.join(one_hot)"
      ],
      "execution_count": null,
      "outputs": []
    },
    {
      "cell_type": "code",
      "metadata": {
        "id": "9hqjEVRXpWF2",
        "colab": {
          "base_uri": "https://localhost:8080/",
          "height": 195
        },
        "outputId": "82230297-dc00-4606-a657-d105eed748ca"
      },
      "source": [
        "train.head()"
      ],
      "execution_count": null,
      "outputs": [
        {
          "output_type": "execute_result",
          "data": {
            "text/html": [
              "<div>\n",
              "<style scoped>\n",
              "    .dataframe tbody tr th:only-of-type {\n",
              "        vertical-align: middle;\n",
              "    }\n",
              "\n",
              "    .dataframe tbody tr th {\n",
              "        vertical-align: top;\n",
              "    }\n",
              "\n",
              "    .dataframe thead th {\n",
              "        text-align: right;\n",
              "    }\n",
              "</style>\n",
              "<table border=\"1\" class=\"dataframe\">\n",
              "  <thead>\n",
              "    <tr style=\"text-align: right;\">\n",
              "      <th></th>\n",
              "      <th>review_id</th>\n",
              "      <th>review</th>\n",
              "      <th>1</th>\n",
              "      <th>2</th>\n",
              "      <th>3</th>\n",
              "      <th>4</th>\n",
              "      <th>5</th>\n",
              "    </tr>\n",
              "  </thead>\n",
              "  <tbody>\n",
              "    <tr>\n",
              "      <th>0</th>\n",
              "      <td>0</td>\n",
              "      <td>Ga disappointed neat products .. Meletot Hilsnyaa Speed ​​of delivery is good.</td>\n",
              "      <td>1</td>\n",
              "      <td>0</td>\n",
              "      <td>0</td>\n",
              "      <td>0</td>\n",
              "      <td>0</td>\n",
              "    </tr>\n",
              "    <tr>\n",
              "      <th>1</th>\n",
              "      <td>1</td>\n",
              "      <td>Rdtanya replace broken glass, broken chargernya</td>\n",
              "      <td>1</td>\n",
              "      <td>0</td>\n",
              "      <td>0</td>\n",
              "      <td>0</td>\n",
              "      <td>0</td>\n",
              "    </tr>\n",
              "    <tr>\n",
              "      <th>2</th>\n",
              "      <td>2</td>\n",
              "      <td>Nyesel bngt dsni shopping antecedent photo message pictures gk according foto.di existing collag...</td>\n",
              "      <td>1</td>\n",
              "      <td>0</td>\n",
              "      <td>0</td>\n",
              "      <td>0</td>\n",
              "      <td>0</td>\n",
              "    </tr>\n",
              "    <tr>\n",
              "      <th>3</th>\n",
              "      <td>3</td>\n",
              "      <td>Sent a light blue suit goods ga want a refund</td>\n",
              "      <td>1</td>\n",
              "      <td>0</td>\n",
              "      <td>0</td>\n",
              "      <td>0</td>\n",
              "      <td>0</td>\n",
              "    </tr>\n",
              "    <tr>\n",
              "      <th>4</th>\n",
              "      <td>4</td>\n",
              "      <td>Pendants came with dents and scratches on its surface. The coating looks like it will change col...</td>\n",
              "      <td>1</td>\n",
              "      <td>0</td>\n",
              "      <td>0</td>\n",
              "      <td>0</td>\n",
              "      <td>0</td>\n",
              "    </tr>\n",
              "  </tbody>\n",
              "</table>\n",
              "</div>"
            ],
            "text/plain": [
              "   review_id  ...  5\n",
              "0          0  ...  0\n",
              "1          1  ...  0\n",
              "2          2  ...  0\n",
              "3          3  ...  0\n",
              "4          4  ...  0\n",
              "\n",
              "[5 rows x 7 columns]"
            ]
          },
          "metadata": {
            "tags": []
          },
          "execution_count": 10
        }
      ]
    },
    {
      "cell_type": "markdown",
      "metadata": {
        "id": "3DHluJ9Kz58K"
      },
      "source": [
        "# Preprocessing"
      ]
    },
    {
      "cell_type": "code",
      "metadata": {
        "id": "w7n3A5UFqHyA"
      },
      "source": [
        "def simplify(df):\n",
        "  \"\"\"\n",
        "  Format df into simpletransformers format\n",
        "  \"\"\"\n",
        "  df['labels'] = list(zip(df['1'].tolist(),  df['2'].tolist(), df['3'].tolist(),  df['4'].tolist(), df['5'].tolist()))\n",
        "  df['text'] = df['review'].apply(lambda x: x.replace('\\n', ' '))\n",
        "\n",
        "  df = df[['text','labels']]\n",
        "  return df"
      ],
      "execution_count": null,
      "outputs": []
    },
    {
      "cell_type": "code",
      "metadata": {
        "id": "Yh00USnn9Hev"
      },
      "source": [
        "train = simplify(train)"
      ],
      "execution_count": null,
      "outputs": []
    },
    {
      "cell_type": "code",
      "metadata": {
        "id": "a4yooGrqnZ9i"
      },
      "source": [
        "train_df, eval_df = train_test_split(train, test_size=0.2)"
      ],
      "execution_count": null,
      "outputs": []
    },
    {
      "cell_type": "markdown",
      "metadata": {
        "id": "8CKJoSdP-5z6"
      },
      "source": [
        "# Simple Transformers\n",
        "## Roberta\n"
      ]
    },
    {
      "cell_type": "code",
      "metadata": {
        "id": "7QZMsuxYitA8",
        "colab": {
          "base_uri": "https://localhost:8080/",
          "height": 67
        },
        "outputId": "fafb7121-c99e-440d-9ed6-34d31d07e725"
      },
      "source": [
        "train_df.iloc[1240]"
      ],
      "execution_count": null,
      "outputs": [
        {
          "output_type": "execute_result",
          "data": {
            "text/plain": [
              "text      Excelleny quality.. ✔ Very accomodating seller.. ✔ Well-packaged.. ✔ Item shipped immediately.. ...\n",
              "labels                                                                                        (0, 0, 0, 0, 1)\n",
              "Name: 141186, dtype: object"
            ]
          },
          "metadata": {
            "tags": []
          },
          "execution_count": 20
        }
      ]
    },
    {
      "cell_type": "code",
      "metadata": {
        "id": "PvklzqK4p541"
      },
      "source": [
        "model = MultiLabelClassificationModel('roberta', 'roberta-base', num_labels=5, \n",
        "                                      args={'train_batch_size':2, \n",
        "                                            'gradient_accumulation_steps':16, \n",
        "                                            'learning_rate': 3e-4, \n",
        "                                            'num_train_epochs': 1, \n",
        "                                            'max_seq_length': 60, \n",
        "                                            'fp16':False, \n",
        "                                            'reprocess_input_data': True,\n",
        "                                            'preprocess_inputs': True})\n",
        "\n",
        "# model = MultiLabelClassificationModel('roberta', 'roberta-base', num_labels=5, \n",
        "#                                       args={'num_train_epochs': 1, \n",
        "#                                             'max_seq_length': 500, \n",
        "#                                             'fp16':False, \n",
        "#                                             'reprocess_input_data': True, \n",
        "#                                             'learning_rate': 3e-4,\n",
        "#                                             'train_batch_size':2})"
      ],
      "execution_count": null,
      "outputs": []
    },
    {
      "cell_type": "code",
      "metadata": {
        "id": "5D_GAAVfrB8p"
      },
      "source": [
        "model.train_model(train_df)"
      ],
      "execution_count": null,
      "outputs": []
    },
    {
      "cell_type": "code",
      "metadata": {
        "id": "T8kvzJs1rHUy"
      },
      "source": [
        "eval_df = eval_df[['text','labels']]\n",
        "result, model_outputs, wrong_predictions = model.eval_model(eval_df, acc=sklearn.metrics.accuracy_score)\n",
        "print(result)\n",
        "print(model_outputs)"
      ],
      "execution_count": null,
      "outputs": []
    },
    {
      "cell_type": "code",
      "metadata": {
        "id": "dYJMy2RX-mDE"
      },
      "source": [
        "test['text'] = test['review'].apply(lambda x: x.replace('\\n', ' '))\n",
        "predictions, raw_outputs = model.predict(test['text'])\n",
        "print(predictions)\n",
        "print(raw_outputs)"
      ],
      "execution_count": null,
      "outputs": []
    },
    {
      "cell_type": "markdown",
      "metadata": {
        "id": "abBrB6V_f88E"
      },
      "source": [
        "# Ktrain\n"
      ]
    },
    {
      "cell_type": "markdown",
      "metadata": {
        "id": "ZKJ0eakJaOdo"
      },
      "source": [
        "## Fasttext"
      ]
    },
    {
      "cell_type": "code",
      "metadata": {
        "id": "NpyyLBBfmerb",
        "colab": {
          "base_uri": "https://localhost:8080/",
          "height": 286
        },
        "outputId": "4095d12e-a9e3-4d97-dd18-1c580df2903d"
      },
      "source": [
        "DATA_PATH = '/content/drive/My Drive/COLAB NOTEBOOKS/SCL/C06/train.csv'\n",
        "NUM_WORDS = 50000\n",
        "MAXLEN = 150\n",
        "(x_train, y_train), (x_test, y_test), preproc =  txt.texts_from_csv(DATA_PATH,\n",
        "                                'review',\n",
        "                                 label_columns='rating',\n",
        "                                 val_filepath=None, \n",
        "                                 max_features=NUM_WORDS, \n",
        "                                 maxlen=100,\n",
        "                                 ngram_range=1,\n",
        "                                 preprocess_mode='bert')"
      ],
      "execution_count": null,
      "outputs": [
        {
          "output_type": "stream",
          "text": [
            "detected encoding: ISO-8859-1 (if wrong, set manually)\n",
            "downloading pretrained BERT model (uncased_L-12_H-768_A-12.zip)...\n",
            "[██████████████████████████████████████████████████]\n",
            "extracting pretrained BERT model...\n",
            "done.\n",
            "\n",
            "cleanup downloaded zip...\n",
            "done.\n",
            "\n",
            "preprocessing train...\n",
            "language: en\n"
          ],
          "name": "stdout"
        },
        {
          "output_type": "display_data",
          "data": {
            "text/html": [
              "done."
            ],
            "text/plain": [
              "<IPython.core.display.HTML object>"
            ]
          },
          "metadata": {
            "tags": []
          }
        },
        {
          "output_type": "stream",
          "text": [
            "Is Multi-Label? False\n",
            "preprocessing test...\n",
            "language: en\n"
          ],
          "name": "stdout"
        },
        {
          "output_type": "display_data",
          "data": {
            "text/html": [
              "done."
            ],
            "text/plain": [
              "<IPython.core.display.HTML object>"
            ]
          },
          "metadata": {
            "tags": []
          }
        }
      ]
    },
    {
      "cell_type": "code",
      "metadata": {
        "id": "VLL0BQJmYg4I",
        "colab": {
          "base_uri": "https://localhost:8080/",
          "height": 488
        },
        "outputId": "3a02c0d4-28b2-4f34-bb42-efbd7c460752"
      },
      "source": [
        "# model = t.get_classifier()\n",
        "model = txt.text_classifier('fasttext', (x_train, y_train), preproc=preproc)\n",
        "# learner = ktrain.get_learner(model, train_data=trn, val_data=val, batch_size=6)\n",
        "learner = ktrain.get_learner(model, train_data=(x_train, y_train),\n",
        "                                   val_data=(x_test, y_test))\n",
        "# find a good learning rate\n",
        "learner.lr_find()\n",
        "learner.lr_plot()"
      ],
      "execution_count": null,
      "outputs": [
        {
          "output_type": "stream",
          "text": [
            "Is Multi-Label? False\n",
            "compiling word ID features...\n",
            "maxlen is 150\n",
            "done.\n",
            "simulating training for different learning rates... this may take a few moments...\n",
            "Train on 132129 samples\n",
            "Epoch 1/1024\n",
            " 59264/132129 [============>.................] - ETA: 1:25 - loss: 1.9344 - accuracy: 0.2371\n",
            "\n",
            "done.\n",
            "Please invoke the Learner.lr_plot() method to visually inspect the loss plot to help identify the maximal learning rate associated with falling loss.\n"
          ],
          "name": "stdout"
        },
        {
          "output_type": "display_data",
          "data": {
            "image/png": "[encoded data removed]",
            "text/plain": [
              "<Figure size 432x288 with 1 Axes>"
            ]
          },
          "metadata": {
            "tags": [],
            "needs_background": "light"
          }
        }
      ]
    },
    {
      "cell_type": "code",
      "metadata": {
        "id": "H7uaJ6w4YsUk",
        "colab": {
          "base_uri": "https://localhost:8080/",
          "height": 235
        },
        "outputId": "b0888881-8a5f-4e22-d92f-d40a26969773"
      },
      "source": [
        "learner.fit_onecycle(3e-4, 4)"
      ],
      "execution_count": null,
      "outputs": [
        {
          "output_type": "stream",
          "text": [
            "\n",
            "\n",
            "begin training using onecycle policy with max lr of 0.0003...\n",
            "Train on 132129 samples, validate on 14682 samples\n",
            "Epoch 1/4\n",
            "132129/132129 [==============================] - 160s 1ms/sample - loss: 1.7291 - accuracy: 0.2844 - val_loss: 1.2707 - val_accuracy: 0.4291\n",
            "Epoch 2/4\n",
            "132129/132129 [==============================] - 158s 1ms/sample - loss: 1.2600 - accuracy: 0.4125 - val_loss: 1.1181 - val_accuracy: 0.4661\n",
            "Epoch 3/4\n",
            "132129/132129 [==============================] - 159s 1ms/sample - loss: 1.1447 - accuracy: 0.4567 - val_loss: 1.0797 - val_accuracy: 0.4781\n",
            "Epoch 4/4\n",
            "132129/132129 [==============================] - 158s 1ms/sample - loss: 1.0956 - accuracy: 0.4781 - val_loss: 1.0717 - val_accuracy: 0.4806\n"
          ],
          "name": "stdout"
        },
        {
          "output_type": "execute_result",
          "data": {
            "text/plain": [
              "<tensorflow.python.keras.callbacks.History at 0x7f6be25b0978>"
            ]
          },
          "metadata": {
            "tags": []
          },
          "execution_count": 13
        }
      ]
    },
    {
      "cell_type": "code",
      "metadata": {
        "id": "WbHz0yoXqhSF",
        "colab": {
          "base_uri": "https://localhost:8080/",
          "height": 195
        },
        "outputId": "dc6f0937-fbe9-4b05-ddd6-26c78ac83454"
      },
      "source": [
        "test.head()"
      ],
      "execution_count": null,
      "outputs": [
        {
          "output_type": "execute_result",
          "data": {
            "text/html": [
              "<div>\n",
              "<style scoped>\n",
              "    .dataframe tbody tr th:only-of-type {\n",
              "        vertical-align: middle;\n",
              "    }\n",
              "\n",
              "    .dataframe tbody tr th {\n",
              "        vertical-align: top;\n",
              "    }\n",
              "\n",
              "    .dataframe thead th {\n",
              "        text-align: right;\n",
              "    }\n",
              "</style>\n",
              "<table border=\"1\" class=\"dataframe\">\n",
              "  <thead>\n",
              "    <tr style=\"text-align: right;\">\n",
              "      <th></th>\n",
              "      <th>review_id</th>\n",
              "      <th>review</th>\n",
              "    </tr>\n",
              "  </thead>\n",
              "  <tbody>\n",
              "    <tr>\n",
              "      <th>0</th>\n",
              "      <td>1</td>\n",
              "      <td>Great danger, cool, motif and cantik2 jg models. Delivery cepet. Tp packing less okay krn only w...</td>\n",
              "    </tr>\n",
              "    <tr>\n",
              "      <th>1</th>\n",
              "      <td>2</td>\n",
              "      <td>One of the shades don't fit well</td>\n",
              "    </tr>\n",
              "    <tr>\n",
              "      <th>2</th>\n",
              "      <td>3</td>\n",
              "      <td>Very comfortable</td>\n",
              "    </tr>\n",
              "    <tr>\n",
              "      <th>3</th>\n",
              "      <td>4</td>\n",
              "      <td>Fast delivery. Product expiry is on Dec 2022. Product wrap properly. No damage on the item.</td>\n",
              "    </tr>\n",
              "    <tr>\n",
              "      <th>4</th>\n",
              "      <td>5</td>\n",
              "      <td>it's sooooo cute! i like playing with the glitters better than browsing on my phone now. item wa...</td>\n",
              "    </tr>\n",
              "  </tbody>\n",
              "</table>\n",
              "</div>"
            ],
            "text/plain": [
              "   review_id                                                                                               review\n",
              "0          1  Great danger, cool, motif and cantik2 jg models. Delivery cepet. Tp packing less okay krn only w...\n",
              "1          2                                                                     One of the shades don't fit well\n",
              "2          3                                                                                     Very comfortable\n",
              "3          4          Fast delivery. Product expiry is on Dec 2022. Product wrap properly. No damage on the item.\n",
              "4          5  it's sooooo cute! i like playing with the glitters better than browsing on my phone now. item wa..."
            ]
          },
          "metadata": {
            "tags": []
          },
          "execution_count": 14
        }
      ]
    },
    {
      "cell_type": "code",
      "metadata": {
        "id": "wpSGkFbpEcDV"
      },
      "source": [
        "# predictor = ktrain.get_predictor(learner.model, preproc)\n",
        "# predictor.save('/content/drive/My Drive/COLAB NOTEBOOKS/SCL/C06/first_predictor')\n",
        "predictor = ktrain.load_predictor('/content/drive/My Drive/COLAB NOTEBOOKS/SCL/C06/first_predictor')\n",
        "\n",
        "preds = test.review.progress_apply(lambda x: np.argmax(predictor.predict_proba(x)))"
      ],
      "execution_count": null,
      "outputs": []
    },
    {
      "cell_type": "code",
      "metadata": {
        "id": "00YP3lXJHX-j"
      },
      "source": [
        "final = pd.DataFrame({'review_id': test.review_id, 'rating': preds})\n",
        "final.to_csv('/content/drive/My Drive/COLAB NOTEBOOKS/SCL/C06/dom_fasttext.csv', index=False)"
      ],
      "execution_count": null,
      "outputs": []
    },
    {
      "cell_type": "markdown",
      "metadata": {
        "id": "O4AwSsBzunA2"
      },
      "source": [
        "## Bert"
      ]
    },
    {
      "cell_type": "code",
      "metadata": {
        "id": "_r2P-Uxquo_o",
        "colab": {
          "base_uri": "https://localhost:8080/",
          "height": 202
        },
        "outputId": "728b4c7e-378f-4b26-bf5f-5a3f391c2b70"
      },
      "source": [
        "DATA_PATH = '/content/drive/My Drive/COLAB NOTEBOOKS/SCL/C06/train.csv'\n",
        "NUM_WORDS = 50000\n",
        "MAXLEN = 150\n",
        "(x_train, y_train), (x_test, y_test), preproc =  txt.texts_from_csv(DATA_PATH,\n",
        "                                'review',\n",
        "                                 label_columns='rating',\n",
        "                                 val_filepath=None, \n",
        "                                 max_features=NUM_WORDS, \n",
        "                                 maxlen=100,\n",
        "                                 ngram_range=1,\n",
        "                                 preprocess_mode='bert')\n",
        "# model = t.get_classifier()\n",
        "model = txt.text_classifier('bert', (x_train, y_train), preproc=preproc)\n",
        "# learner = ktrain.get_learner(model, train_data=trn, val_data=val, batch_size=6)\n",
        "learner = ktrain.get_learner(model, train_data=(x_train, y_train),\n",
        "                                   val_data=(x_test, y_test))\n",
        "# # find a good learning rate\n",
        "# learner.lr_find()\n",
        "# learner.lr_plot()"
      ],
      "execution_count": null,
      "outputs": [
        {
          "output_type": "stream",
          "text": [
            "detected encoding: ISO-8859-1 (if wrong, set manually)\n",
            "preprocessing train...\n",
            "language: en\n"
          ],
          "name": "stdout"
        },
        {
          "output_type": "display_data",
          "data": {
            "text/html": [
              "done."
            ],
            "text/plain": [
              "<IPython.core.display.HTML object>"
            ]
          },
          "metadata": {
            "tags": []
          }
        },
        {
          "output_type": "stream",
          "text": [
            "Is Multi-Label? False\n",
            "preprocessing test...\n",
            "language: en\n"
          ],
          "name": "stdout"
        },
        {
          "output_type": "display_data",
          "data": {
            "text/html": [
              "done."
            ],
            "text/plain": [
              "<IPython.core.display.HTML object>"
            ]
          },
          "metadata": {
            "tags": []
          }
        },
        {
          "output_type": "stream",
          "text": [
            "Is Multi-Label? False\n",
            "maxlen is 100\n",
            "done.\n"
          ],
          "name": "stdout"
        }
      ]
    },
    {
      "cell_type": "code",
      "metadata": {
        "id": "u5E-7Z2zuq-s",
        "colab": {
          "base_uri": "https://localhost:8080/",
          "height": 235
        },
        "outputId": "8b9c2bb2-45e7-4a12-f772-f3024f89c93a"
      },
      "source": [
        "learner.fit_onecycle(3e-4, 4)"
      ],
      "execution_count": null,
      "outputs": [
        {
          "output_type": "stream",
          "text": [
            "\n",
            "\n",
            "begin training using onecycle policy with max lr of 0.0003...\n",
            "Train on 132129 samples, validate on 14682 samples\n",
            "Epoch 1/4\n",
            "132129/132129 [==============================] - 6062s 46ms/sample - loss: 1.1002 - accuracy: 0.4715 - val_loss: 1.2152 - val_accuracy: 0.4334\n",
            "Epoch 2/4\n",
            "132129/132129 [==============================] - 6032s 46ms/sample - loss: 1.4715 - accuracy: 0.3024 - val_loss: 1.5219 - val_accuracy: 0.2795\n",
            "Epoch 3/4\n",
            "132129/132129 [==============================] - 5990s 45ms/sample - loss: 1.5164 - accuracy: 0.2794 - val_loss: 1.5149 - val_accuracy: 0.2795\n",
            "Epoch 4/4\n",
            "132129/132129 [==============================] - 6001s 45ms/sample - loss: 1.5071 - accuracy: 0.2834 - val_loss: 1.5014 - val_accuracy: 0.2899\n"
          ],
          "name": "stdout"
        },
        {
          "output_type": "execute_result",
          "data": {
            "text/plain": [
              "<tensorflow.python.keras.callbacks.History at 0x7f078a998828>"
            ]
          },
          "metadata": {
            "tags": []
          },
          "execution_count": 16
        }
      ]
    },
    {
      "cell_type": "code",
      "metadata": {
        "id": "H-C2XMjOuyNd"
      },
      "source": [
        "predictor = ktrain.get_predictor(learner.model, preproc)\n",
        "predictor.save('/content/drive/My Drive/COLAB NOTEBOOKS/SCL/C06/bert')"
      ],
      "execution_count": null,
      "outputs": []
    },
    {
      "cell_type": "code",
      "metadata": {
        "id": "7I90UTkFKwZo"
      },
      "source": [
        "predictor = ktrain.load_predictor('/content/drive/My Drive/COLAB NOTEBOOKS/SCL/C06/bert')\n",
        "preds = test.review.progress_apply(lambda x: np.argmax(predictor.predict_proba(x)))"
      ],
      "execution_count": null,
      "outputs": []
    },
    {
      "cell_type": "code",
      "metadata": {
        "id": "2fQ4tGRxvDgb"
      },
      "source": [
        "final = pd.DataFrame({'review_id': test.review_id, 'rating': preds})\n",
        "final.to_csv('/content/drive/My Drive/COLAB NOTEBOOKS/SCL/C06/dom_bert.csv', index=False)"
      ],
      "execution_count": null,
      "outputs": []
    },
    {
      "cell_type": "code",
      "metadata": {
        "id": "8mYOwu5Joag5",
        "colab": {
          "base_uri": "https://localhost:8080/",
          "height": 118
        },
        "outputId": "1ce4b5e1-40fe-4f7b-e8b2-eefd13bbf7b0"
      },
      "source": [
        "train.rating.value_counts(normalize=True)"
      ],
      "execution_count": null,
      "outputs": [
        {
          "output_type": "execute_result",
          "data": {
            "text/plain": [
              "4    0.285163\n",
              "5    0.282779\n",
              "3    0.244811\n",
              "1    0.100708\n",
              "2    0.086540\n",
              "Name: rating, dtype: float64"
            ]
          },
          "metadata": {
            "tags": []
          },
          "execution_count": 12
        }
      ]
    },
    {
      "cell_type": "code",
      "metadata": {
        "id": "UNrnJ_SpoXMC",
        "colab": {
          "base_uri": "https://localhost:8080/",
          "height": 118
        },
        "outputId": "25ac3630-40e1-4ed6-ec58-dd69b2cc776a"
      },
      "source": [
        "final.rating.value_counts(normalize=True)"
      ],
      "execution_count": null,
      "outputs": [
        {
          "output_type": "execute_result",
          "data": {
            "text/plain": [
              "5    0.359492\n",
              "4    0.270723\n",
              "3    0.226273\n",
              "1    0.136065\n",
              "2    0.007447\n",
              "Name: rating, dtype: float64"
            ]
          },
          "metadata": {
            "tags": []
          },
          "execution_count": 13
        }
      ]
    },
    {
      "cell_type": "markdown",
      "metadata": {
        "id": "VhddhfiFoSoc"
      },
      "source": [
        "# Extended Train Set"
      ]
    },
    {
      "cell_type": "code",
      "metadata": {
        "id": "MdgZFx05aGxe"
      },
      "source": [
        "test_labeled = pd.read_csv(\"/content/drive/My Drive/COLAB NOTEBOOKS/SCL/C06/31GB_submission.csv\")\n",
        "test_labeled = pd.merge(test, test_labeled, on='review_id')\n",
        "new_train = train.append(test_labeled, ignore_index=True)\n",
        "new_train.drop(columns='review_id', inplace=True)\n",
        "new_train.to_csv('/content/drive/My Drive/COLAB NOTEBOOKS/SCL/C06/new_train.csv', index=False)\n",
        "# train_df = pd.read_csv('/content/drive/My Drive/COLAB NOTEBOOKS/SCL/C06/new_train.csv')\n",
        "train_df = pd.read_csv('/content/drive/My Drive/COLAB NOTEBOOKS/SCL/C06/train.csv')\n",
        "test_df = pd.read_csv('/content/drive/My Drive/COLAB NOTEBOOKS/SCL/C06/test.csv')"
      ],
      "execution_count": null,
      "outputs": []
    },
    {
      "cell_type": "code",
      "metadata": {
        "id": "YUOrPCEZ70NY"
      },
      "source": [
        "have_emoji_train_idx = []\n",
        "have_emoji_test_idx = []\n",
        "\n",
        "for idx, review in enumerate(train_df['review']):\n",
        "    if any(char in emoji.UNICODE_EMOJI for char in review):\n",
        "        have_emoji_train_idx.append(idx)\n",
        "        \n",
        "for idx, review in enumerate(test_df['review']):\n",
        "    if any(char in emoji.UNICODE_EMOJI for char in review):\n",
        "        have_emoji_test_idx.append(idx)"
      ],
      "execution_count": null,
      "outputs": []
    },
    {
      "cell_type": "code",
      "metadata": {
        "id": "s-aFTRi_76Yl",
        "colab": {
          "base_uri": "https://localhost:8080/",
          "height": 50
        },
        "outputId": "8f25a842-ab99-45d1-f073-96cc9d1762d4"
      },
      "source": [
        "train_emoji_percentage = round(len(have_emoji_train_idx) / train_df.shape[0] * 100, 2)\n",
        "print(f'Train data has {len(have_emoji_train_idx)} rows that used emoji, that means {train_emoji_percentage} percent of the total')\n",
        "\n",
        "test_emoji_percentage = round(len(have_emoji_test_idx) / test_df.shape[0] * 100, 2)\n",
        "print(f'Test data has {len(have_emoji_test_idx)} rows that used emoji, that means {test_emoji_percentage} percent of the total')"
      ],
      "execution_count": null,
      "outputs": [
        {
          "output_type": "stream",
          "text": [
            "Train data has 20048 rows that used emoji, that means 13.66 percent of the total\n",
            "Test data has 0 rows that used emoji, that means 0.0 percent of the total\n"
          ],
          "name": "stdout"
        }
      ]
    },
    {
      "cell_type": "code",
      "metadata": {
        "id": "8NbC9lNx9vhl",
        "colab": {
          "base_uri": "https://localhost:8080/",
          "height": 87
        },
        "outputId": "5d0bdf18-8f90-4da4-93b0-f39f0d5cc397"
      },
      "source": [
        "print('Without demojize: ', train_df.loc[70266, 'review'])\n",
        "print('\\nUsing demojize: ', emoji.demojize(train_df.loc[70266, 'review']))"
      ],
      "execution_count": null,
      "outputs": [
        {
          "output_type": "stream",
          "text": [
            "Without demojize:  Excellent, Satisfied, Good Packaging, Recommended & Nice... 😊😊😊😊 😎😎😎😎\n",
            "\n",
            "Using demojize:  Excellent, Satisfied, Good Packaging, Recommended & Nice... :smiling_face_with_smiling_eyes::smiling_face_with_smiling_eyes::smiling_face_with_smiling_eyes::smiling_face_with_smiling_eyes: :smiling_face_with_sunglasses::smiling_face_with_sunglasses::smiling_face_with_sunglasses::smiling_face_with_sunglasses:\n"
          ],
          "name": "stdout"
        }
      ]
    },
    {
      "cell_type": "code",
      "metadata": {
        "id": "ahxw0NXv9zEx"
      },
      "source": [
        "def emoji_cleaning(text):\n",
        "    \n",
        "    # Change emoji to text\n",
        "    text = emoji.demojize(text).replace(\":\", \" \")\n",
        "    \n",
        "    # Delete repeated emoji\n",
        "    tokenizer = text.split()\n",
        "    repeated_list = []\n",
        "    \n",
        "    for word in tokenizer:\n",
        "        if word not in repeated_list:\n",
        "            repeated_list.append(word)\n",
        "    \n",
        "    text = ' '.join(text for text in repeated_list)\n",
        "    text = text.replace(\"_\", \" \").replace(\"-\", \" \")\n",
        "    return text"
      ],
      "execution_count": null,
      "outputs": []
    },
    {
      "cell_type": "code",
      "metadata": {
        "id": "Iqxbs6Wi91wb"
      },
      "source": [
        "train_df_original = train_df.copy()\n",
        "test_df_original = test_df.copy()\n",
        "\n",
        "# emoji_cleaning\n",
        "train_df.loc[have_emoji_train_idx, 'review'] = train_df.loc[have_emoji_train_idx, 'review'].apply(emoji_cleaning)\n",
        "test_df.loc[have_emoji_test_idx, 'review'] = test_df.loc[have_emoji_test_idx, 'review'].apply(emoji_cleaning)"
      ],
      "execution_count": null,
      "outputs": []
    },
    {
      "cell_type": "code",
      "metadata": {
        "id": "wxGMOu2M94KM"
      },
      "source": [
        "def review_cleaning(text):\n",
        "    \n",
        "    # delete lowercase and newline\n",
        "    text = text.lower()\n",
        "    text = re.sub(r'\\n', '', text)\n",
        "    \n",
        "    # change emoticon to text\n",
        "    text = re.sub(r':\\(', 'dislike', text)\n",
        "    text = re.sub(r': \\(\\(', 'dislike', text)\n",
        "    text = re.sub(r':, \\(', 'dislike', text)\n",
        "    text = re.sub(r':\\)', 'smile', text)\n",
        "    text = re.sub(r';\\)', 'smile', text)\n",
        "    text = re.sub(r':\\)\\)\\)', 'smile', text)\n",
        "    text = re.sub(r':\\)\\)\\)\\)\\)\\)', 'smile', text)\n",
        "    text = re.sub(r'=\\)\\)\\)\\)', 'smile', text)\n",
        "    \n",
        "    # delete punctuation\n",
        "    text = re.sub('[^a-z0-9 ]', ' ', text)\n",
        "    \n",
        "    tokenizer = text.split()\n",
        "    \n",
        "    return ' '.join([text for text in tokenizer])"
      ],
      "execution_count": null,
      "outputs": []
    },
    {
      "cell_type": "code",
      "metadata": {
        "id": "Wyi3iPBo99Dr"
      },
      "source": [
        "import regex as re\n",
        "train_df['review'] = train_df['review'].apply(review_cleaning)\n",
        "test_df['review'] = test_df['review'].apply(review_cleaning)"
      ],
      "execution_count": null,
      "outputs": []
    },
    {
      "cell_type": "code",
      "metadata": {
        "id": "GQpifXTS9-la"
      },
      "source": [
        "repeated_rows_train = []\n",
        "repeated_rows_test = []\n",
        "\n",
        "for idx, review in enumerate(train_df['review']):\n",
        "    if re.match(r'\\w*(\\w)\\1+', review):\n",
        "        repeated_rows_train.append(idx)\n",
        "        \n",
        "for idx, review in enumerate(test_df['review']):\n",
        "    if re.match(r'\\w*(\\w)\\1+', review):\n",
        "        repeated_rows_test.append(idx)"
      ],
      "execution_count": null,
      "outputs": []
    },
    {
      "cell_type": "code",
      "metadata": {
        "id": "Ul5ZIUsy9_7L",
        "colab": {
          "base_uri": "https://localhost:8080/",
          "height": 34
        },
        "outputId": "67628173-c5bf-43b0-dbd3-bfe125290c2e"
      },
      "source": [
        "print(f'Total {len(repeated_rows_train)} rows')"
      ],
      "execution_count": null,
      "outputs": [
        {
          "output_type": "stream",
          "text": [
            "Total 43139 rows\n"
          ],
          "name": "stdout"
        }
      ]
    },
    {
      "cell_type": "code",
      "metadata": {
        "id": "E3RfKbru-OJ2"
      },
      "source": [
        "def delete_repeated_char(text):\n",
        "    \n",
        "    text = re.sub(r'(\\w)\\1{2,}', r'\\1', text)\n",
        "    \n",
        "    return text"
      ],
      "execution_count": null,
      "outputs": []
    },
    {
      "cell_type": "code",
      "metadata": {
        "id": "LPAsGe5R-R7y"
      },
      "source": [
        "train_df.loc[repeated_rows_train, 'review'] = train_df.loc[repeated_rows_train, 'review'].apply(delete_repeated_char)\n",
        "test_df.loc[repeated_rows_test, 'review'] = test_df.loc[repeated_rows_test, 'review'].apply(delete_repeated_char)"
      ],
      "execution_count": null,
      "outputs": []
    },
    {
      "cell_type": "code",
      "metadata": {
        "id": "X10XqPuT-TTM",
        "colab": {
          "base_uri": "https://localhost:8080/",
          "height": 222
        },
        "outputId": "719b186d-d2b5-4cc8-fea6-c995ffe034ec"
      },
      "source": [
        "print('Before: ', train_df_original.loc[92129, 'review'])\n",
        "print('After: ', train_df.loc[92129, 'review'])\n",
        "\n",
        "print('\\nBefore: ', train_df_original.loc[56938, 'review'])\n",
        "print('After: ', train_df.loc[56938, 'review'])\n",
        "\n",
        "print('\\nBefore: ', train_df_original.loc[72677, 'review'])\n",
        "print('After: ', train_df.loc[72677, 'review'])\n",
        "\n",
        "print('\\nBefore: ', train_df_original.loc[36558, 'review'])\n",
        "print('After: ', train_df.loc[36558, 'review'])"
      ],
      "execution_count": null,
      "outputs": [
        {
          "output_type": "stream",
          "text": [
            "Before:  Ttttthhhhhhhhheeeeeeee bbbbbbbeeeeesssttttttttt bbbbaaannngggettttttt\n",
            "After:  the best banget\n",
            "\n",
            "Before:  Mmmmmuuuuuuuuuurrrrrrraaaaaaahhhhhhhhhhhhhhhhhhhhhhhhhhhhhhhhhhhhhhh mmmeeeeerrrrrriiiiiiiiiiiiiaaaaahhhhhhhhh👍👍👍👍👍👍👍👍👍👍👍👍👍👍👍 = ¢ ✓ € ✓ € ¢} = {¢ × `{{|}} {¢ ¢ ¢ = ¢ = {÷ € € € = {{ €€ {{\n",
            "After:  murah meriah thumbs up\n",
            "\n",
            "Before:  Bagussssssssss bagussssssssss bagussssssssss bagussssssssss bagussssssssss bagussssssssss bagussssssssss bagussssssssss soft tebel bangettt its materials also makasihhh shopeeeeeeeeeeee shopeeeeeeeeeeee shopeeeeeeeeeeee shopeeeeeeeeeeee the best seller friendly\n",
            "After:  bagus bagus bagus bagus bagus bagus bagus bagus soft tebel banget its materials also makasih shope shope shope shope the best seller friendly\n",
            "\n",
            "Before:  Ssuuukkkkaaa very\n",
            "After:  ssuka very\n"
          ],
          "name": "stdout"
        }
      ]
    },
    {
      "cell_type": "code",
      "metadata": {
        "id": "zIFbr5aY-V9z"
      },
      "source": [
        "# drop the row that has noisy text or mislabeled rating\n",
        "noisy_row = [31, 50, 2235, 5244, 10409, 11748, 12384, 14395, 15215, 17629, 20819, 23691, 32089, 39532, 40530, 43954, 48186, 50500, 55834, 60088,\n",
        "             60442, 61095, 62982, 63803, 67464, 70791, 74861, 73636, 74119, 76275, 79789, 85745, 91058, 91663, 91800, 93204, 99295, 100903, 101177, 103155,\n",
        "             109166, 109566, 109651, 109724, 110115, 110441, 111461, 113175, 115782, 116903, 118099, 118328, 118414, 119071, 125338, 125340, 129496, 129640, \n",
        "             132027, 138212, 131626, 134715, 133248, 136217, 141377, 143707, 145045, 146485, 37301]\n",
        "\n",
        "train_df.drop(noisy_row, inplace=True)"
      ],
      "execution_count": null,
      "outputs": []
    },
    {
      "cell_type": "code",
      "metadata": {
        "id": "ehtcET1e-Y-b"
      },
      "source": [
        "def recover_shortened_words(text):\n",
        "    \n",
        "    # put \\b (boundary) for avoid the characters in the word to be replaced\n",
        "    # I only make a few examples here, you can add if you're interested :)\n",
        "    \n",
        "    text = re.sub(r'\\bapaa\\b', 'apa', text)\n",
        "    \n",
        "    text = re.sub(r'\\bbsk\\b', 'besok', text)\n",
        "    text = re.sub(r'\\bbrngnya\\b', 'barangnya', text)\n",
        "    text = re.sub(r'\\bbrp\\b', 'berapa', text)\n",
        "    text = re.sub(r'\\bbgt\\b', 'banget', text)\n",
        "    text = re.sub(r'\\bbngt\\b', 'banget', text)\n",
        "    text = re.sub(r'\\bgini\\b', 'begini', text)\n",
        "    text = re.sub(r'\\bbrg\\b', 'barang', text)\n",
        "    \n",
        "    text = re.sub(r'\\bdtg\\b', 'datang', text)\n",
        "    text = re.sub(r'\\bd\\b', 'di', text)\n",
        "    text = re.sub(r'\\bsdh\\b', 'sudah', text)\n",
        "    text = re.sub(r'\\bdri\\b', 'dari', text)\n",
        "    text = re.sub(r'\\bdsni\\b', 'disini', text)\n",
        "    \n",
        "    text = re.sub(r'\\bgk\\b', 'gak', text)\n",
        "    \n",
        "    text = re.sub(r'\\bhrs\\b', 'harus', text)\n",
        "    \n",
        "    text = re.sub(r'\\bjd\\b', 'jadi', text)\n",
        "    text = re.sub(r'\\bjg\\b', 'juga', text)\n",
        "    text = re.sub(r'\\bjgn\\b', 'jangan', text)\n",
        "    \n",
        "    text = re.sub(r'\\blg\\b', 'lagi', text)\n",
        "    text = re.sub(r'\\blgi\\b', 'lagi', text)\n",
        "    text = re.sub(r'\\blbh\\b', 'lebih', text)\n",
        "    text = re.sub(r'\\blbih\\b', 'lebih', text)\n",
        "    \n",
        "    text = re.sub(r'\\bmksh\\b', 'makasih', text)\n",
        "    text = re.sub(r'\\bmna\\b', 'mana', text)\n",
        "    \n",
        "    text = re.sub(r'\\borg\\b', 'orang', text)\n",
        "    \n",
        "    text = re.sub(r'\\bpjg\\b', 'panjang', text)\n",
        "    \n",
        "    text = re.sub(r'\\bka\\b', 'kakak', text)\n",
        "    text = re.sub(r'\\bkk\\b', 'kakak', text)\n",
        "    text = re.sub(r'\\bklo\\b', 'kalau', text)\n",
        "    text = re.sub(r'\\bkmrn\\b', 'kemarin', text)\n",
        "    text = re.sub(r'\\bkmrin\\b', 'kemarin', text)\n",
        "    text = re.sub(r'\\bknp\\b', 'kenapa', text)\n",
        "    text = re.sub(r'\\bkcil\\b', 'kecil', text)\n",
        "    \n",
        "    text = re.sub(r'\\bgmn\\b', 'gimana', text)\n",
        "    text = re.sub(r'\\bgmna\\b', 'gimana', text)\n",
        "    \n",
        "    text = re.sub(r'\\btp\\b', 'tapi', text)\n",
        "    text = re.sub(r'\\btq\\b', 'thanks', text)\n",
        "    text = re.sub(r'\\btks\\b', 'thanks', text)\n",
        "    text = re.sub(r'\\btlg\\b', 'tolong', text)\n",
        "    text = re.sub(r'\\bgk\\b', 'tidak', text)\n",
        "    text = re.sub(r'\\bgak\\b', 'tidak', text)\n",
        "    text = re.sub(r'\\bgpp\\b', 'tidak apa apa', text)\n",
        "    text = re.sub(r'\\bgapapa\\b', 'tidak apa apa', text)\n",
        "    text = re.sub(r'\\bga\\b', 'tidak', text)\n",
        "    text = re.sub(r'\\btgl\\b', 'tanggal', text)\n",
        "    text = re.sub(r'\\btggl\\b', 'tanggal', text)\n",
        "    text = re.sub(r'\\bgamau\\b', 'tidak mau', text)\n",
        "    \n",
        "    text = re.sub(r'\\bsy\\b', 'saya', text)\n",
        "    text = re.sub(r'\\bsis\\b', 'sister', text)\n",
        "    text = re.sub(r'\\bsdgkan\\b', 'sedangkan', text)\n",
        "    text = re.sub(r'\\bmdh2n\\b', 'semoga', text)\n",
        "    text = re.sub(r'\\bsmoga\\b', 'semoga', text)\n",
        "    text = re.sub(r'\\bsmpai\\b', 'sampai', text)\n",
        "    text = re.sub(r'\\bnympe\\b', 'sampai', text)\n",
        "    text = re.sub(r'\\bdah\\b', 'sudah', text)\n",
        "    \n",
        "    text = re.sub(r'\\bberkali2\\b', 'repeated', text)\n",
        "    \n",
        "    text = re.sub(r'\\byg\\b', 'yang', text)\n",
        "    \n",
        "    return text"
      ],
      "execution_count": null,
      "outputs": []
    },
    {
      "cell_type": "code",
      "metadata": {
        "id": "yJsAx1fT-d9x",
        "colab": {
          "base_uri": "https://localhost:8080/",
          "height": 50
        },
        "outputId": "df4cf52e-35d1-46e6-cb5e-781e0363bae1"
      },
      "source": [
        "%%time\n",
        "train_df['review'] = train_df['review'].apply(recover_shortened_words)"
      ],
      "execution_count": null,
      "outputs": [
        {
          "output_type": "stream",
          "text": [
            "CPU times: user 30.1 s, sys: 8.46 s, total: 38.6 s\n",
            "Wall time: 38.5 s\n"
          ],
          "name": "stdout"
        }
      ]
    },
    {
      "cell_type": "code",
      "metadata": {
        "id": "sH7iBIqGCqry",
        "colab": {
          "base_uri": "https://localhost:8080/",
          "height": 50
        },
        "outputId": "ffd437c1-cba2-45bd-eb6f-d78ccde7426a"
      },
      "source": [
        "%%time\n",
        "test_df['review'] = test_df['review'].apply(recover_shortened_words)"
      ],
      "execution_count": null,
      "outputs": [
        {
          "output_type": "stream",
          "text": [
            "CPU times: user 13.8 s, sys: 2.66 s, total: 16.5 s\n",
            "Wall time: 16.5 s\n"
          ],
          "name": "stdout"
        }
      ]
    },
    {
      "cell_type": "code",
      "metadata": {
        "id": "cGOjFMVyKTtg"
      },
      "source": [
        "test_df.loc[repeated_rows_test, 'review'] = test_df.loc[repeated_rows_test, 'review'].apply(delete_repeated_char)"
      ],
      "execution_count": null,
      "outputs": []
    },
    {
      "cell_type": "code",
      "metadata": {
        "id": "EHxxvrKw-gVD"
      },
      "source": [
        "# train_df.to_csv('/content/drive/My Drive/COLAB NOTEBOOKS/SCL/C06/new_train_clean.csv', index=False)\n",
        "train_df.to_csv('/content/drive/My Drive/COLAB NOTEBOOKS/SCL/C06/train_clean.csv', index=False)\n",
        "test_df.to_csv('/content/drive/My Drive/COLAB NOTEBOOKS/SCL/C06/test_clean.csv', index=False)"
      ],
      "execution_count": null,
      "outputs": []
    },
    {
      "cell_type": "markdown",
      "metadata": {
        "id": "oh9UOckAEnlk"
      },
      "source": [
        "# Cleaned Data"
      ]
    },
    {
      "cell_type": "code",
      "metadata": {
        "id": "TQF9TBoiqF2c",
        "colab": {
          "base_uri": "https://localhost:8080/",
          "height": 403
        },
        "outputId": "ee2dd00d-52f2-4404-cf1a-63a631a7d320"
      },
      "source": [
        "DATA_PATH = '/content/drive/My Drive/COLAB NOTEBOOKS/SCL/C06/train_clean.csv' #without augmenting\n",
        "NUM_WORDS = 50000\n",
        "MAXLEN = 150\n",
        "(x_train, y_train), (x_test, y_test), preproc =  txt.texts_from_csv(DATA_PATH,\n",
        "                                'review',\n",
        "                                 label_columns='rating',\n",
        "                                 val_filepath=None, \n",
        "                                 max_features=NUM_WORDS, \n",
        "                                 maxlen=150,\n",
        "                                 ngram_range=1,\n",
        "                                 random_state=2020, \n",
        "                                 val_pct=0.1)\n",
        "# model = t.get_classifier()\n",
        "model = txt.text_classifier('fasttext', (x_train, y_train), preproc=preproc)\n",
        "# learner = ktrain.get_learner(model, train_data=trn, val_data=val, batch_size=6)\n",
        "learner = ktrain.get_learner(model, train_data=(x_train, y_train),\n",
        "                                   val_data=(x_test, y_test))\n"
      ],
      "execution_count": null,
      "outputs": [
        {
          "output_type": "stream",
          "text": [
            "detected encoding: utf-8 (if wrong, set manually)\n",
            "language: en\n",
            "Word Counts: 53069\n",
            "Nrows: 132067\n",
            "132067 train sequences\n",
            "train sequence lengths:\n",
            "\tmean : 15\n",
            "\t95percentile : 38\n",
            "\t99percentile : 55\n",
            "x_train shape: (132067,150)\n",
            "y_train shape: (132067, 6)\n",
            "Is Multi-Label? False\n",
            "14675 test sequences\n",
            "test sequence lengths:\n",
            "\tmean : 15\n",
            "\t95percentile : 37\n",
            "\t99percentile : 55\n",
            "x_test shape: (14675,150)\n",
            "y_test shape: (14675, 6)\n",
            "Is Multi-Label? False\n",
            "compiling word ID features...\n",
            "maxlen is 150\n",
            "done.\n"
          ],
          "name": "stdout"
        }
      ]
    },
    {
      "cell_type": "code",
      "metadata": {
        "id": "Tm629eHPpaV0",
        "colab": {
          "base_uri": "https://localhost:8080/",
          "height": 421
        },
        "outputId": "77d5e6eb-c566-4e31-c02f-4a30268ce353"
      },
      "source": [
        "# find a good learning rate\n",
        "learner.lr_find()\n",
        "learner.lr_plot()"
      ],
      "execution_count": null,
      "outputs": [
        {
          "output_type": "stream",
          "text": [
            "simulating training for different learning rates... this may take a few moments...\n",
            "Train on 132067 samples\n",
            "Epoch 1/1024\n",
            " 54624/132067 [===========>..................] - ETA: 1:15 - loss: 1.9602 - accuracy: 0.2500\n",
            "\n",
            "done.\n",
            "Please invoke the Learner.lr_plot() method to visually inspect the loss plot to help identify the maximal learning rate associated with falling loss.\n"
          ],
          "name": "stdout"
        },
        {
          "output_type": "display_data",
          "data": {
            "image/png": "[encoded data removed]",
            "text/plain": [
              "<Figure size 432x288 with 1 Axes>"
            ]
          },
          "metadata": {
            "tags": [],
            "needs_background": "light"
          }
        }
      ]
    },
    {
      "cell_type": "code",
      "metadata": {
        "id": "zCtfC6TqqlJ9"
      },
      "source": [
        "learner.fit_onecycle(1e-3, 4)"
      ],
      "execution_count": null,
      "outputs": []
    },
    {
      "cell_type": "code",
      "metadata": {
        "id": "SssCBSXiX4mb",
        "colab": {
          "base_uri": "https://localhost:8080/",
          "height": 235
        },
        "outputId": "4366e451-5bb1-4890-b279-4dbb88b8748c"
      },
      "source": [
        "learner.fit_onecycle(3e-4, 4)"
      ],
      "execution_count": null,
      "outputs": [
        {
          "output_type": "stream",
          "text": [
            "\n",
            "\n",
            "begin training using onecycle policy with max lr of 0.0003...\n",
            "Train on 132067 samples, validate on 14675 samples\n",
            "Epoch 1/4\n",
            "132067/132067 [==============================] - 162s 1ms/sample - loss: 1.0737 - accuracy: 0.4851 - val_loss: 1.0510 - val_accuracy: 0.4940\n",
            "Epoch 2/4\n",
            "132067/132067 [==============================] - 156s 1ms/sample - loss: 1.0647 - accuracy: 0.4877 - val_loss: 1.0516 - val_accuracy: 0.4891\n",
            "Epoch 3/4\n",
            "132067/132067 [==============================] - 155s 1ms/sample - loss: 1.0375 - accuracy: 0.4976 - val_loss: 1.0465 - val_accuracy: 0.4923\n",
            "Epoch 4/4\n",
            "132067/132067 [==============================] - 151s 1ms/sample - loss: 1.0078 - accuracy: 0.5114 - val_loss: 1.0474 - val_accuracy: 0.4925\n"
          ],
          "name": "stdout"
        },
        {
          "output_type": "execute_result",
          "data": {
            "text/plain": [
              "<tensorflow.python.keras.callbacks.History at 0x7f05614a0978>"
            ]
          },
          "metadata": {
            "tags": []
          },
          "execution_count": 9
        }
      ]
    },
    {
      "cell_type": "code",
      "metadata": {
        "id": "fjnF2PrIqaHu"
      },
      "source": [
        "# predictor = ktrain.get_predictor(learner.model, preproc)\n",
        "# predictor.save('/content/drive/My Drive/COLAB NOTEBOOKS/SCL/C06/fasttext_cleaned')\n",
        "predictor = ktrain.load_predictor('/content/drive/My Drive/COLAB NOTEBOOKS/SCL/C06/fasttext_cleaned')\n",
        "\n",
        "test_df = pd.read_csv('/content/drive/My Drive/COLAB NOTEBOOKS/SCL/C06/test_clean.csv')\n",
        "test_df.review.fillna(\"\",inplace=True)"
      ],
      "execution_count": null,
      "outputs": []
    },
    {
      "cell_type": "code",
      "metadata": {
        "id": "qlNa53NvIKrt"
      },
      "source": [
        "# preds = test_df.review.progress_apply(lambda x: np.argmax(predictor.predict_proba(x)))\n",
        "probs = test_df.review.progress_apply(lambda x: predictor.predict_proba(x))\n",
        "np.save('/content/drive/My Drive/COLAB NOTEBOOKS/SCL/C06/fasttext_clean', probs)\n",
        "preds = probs.apply(lambda x: np.argmax(x))"
      ],
      "execution_count": null,
      "outputs": []
    },
    {
      "cell_type": "markdown",
      "metadata": {
        "id": "yoveuXqCL6ay"
      },
      "source": [
        "### continue training"
      ]
    },
    {
      "cell_type": "markdown",
      "metadata": {
        "id": "wQ7X0WQOZkak"
      },
      "source": [
        "## Extended train set"
      ]
    },
    {
      "cell_type": "code",
      "metadata": {
        "id": "ESh5GXfvZtpX",
        "colab": {
          "base_uri": "https://localhost:8080/",
          "height": 807
        },
        "outputId": "5048ee19-35ab-41da-bc8b-e6c1ece00e0c"
      },
      "source": [
        "DATA_PATH = '/content/drive/My Drive/COLAB NOTEBOOKS/SCL/C06/new_train_clean.csv'\n",
        "NUM_WORDS = 50000\n",
        "MAXLEN = 150\n",
        "(x_train, y_train), (x_test, y_test), preproc =  txt.texts_from_csv(DATA_PATH,\n",
        "                                'review',\n",
        "                                 label_columns='rating',\n",
        "                                 val_filepath=None, \n",
        "                                 max_features=NUM_WORDS, \n",
        "                                 maxlen=150,\n",
        "                                 ngram_range=1,\n",
        "                                 random_state=2020, \n",
        "                                 val_pct=0.1)\n",
        "# model = t.get_classifier()\n",
        "model = txt.text_classifier('fasttext', (x_train, y_train), preproc=preproc)\n",
        "# learner = ktrain.get_learner(model, train_data=trn, val_data=val, batch_size=6)\n",
        "learner = ktrain.get_learner(model, train_data=(x_train, y_train),\n",
        "                                   val_data=(x_test, y_test))\n",
        "# find a good learning rate\n",
        "learner.lr_find()\n",
        "learner.lr_plot()"
      ],
      "execution_count": null,
      "outputs": [
        {
          "output_type": "stream",
          "text": [
            "detected encoding: utf-8 (if wrong, set manually)\n",
            "language: en\n",
            "Word Counts: 70211\n",
            "Nrows: 186452\n",
            "186452 train sequences\n",
            "train sequence lengths:\n",
            "\tmean : 15\n",
            "\t95percentile : 38\n",
            "\t99percentile : 54\n",
            "x_train shape: (186452,150)\n",
            "y_train shape: (186452, 6)\n",
            "Is Multi-Label? False\n",
            "20717 test sequences\n",
            "test sequence lengths:\n",
            "\tmean : 15\n",
            "\t95percentile : 38\n",
            "\t99percentile : 54\n",
            "x_test shape: (20717,150)\n",
            "y_test shape: (20717, 6)\n",
            "Is Multi-Label? False\n",
            "compiling word ID features...\n",
            "maxlen is 150\n",
            "done.\n",
            "simulating training for different learning rates... this may take a few moments...\n",
            "Train on 186452 samples\n",
            "Epoch 1/1024\n",
            " 55040/186452 [=======>......................] - ETA: 2:05 - loss: 1.9203 - accuracy: 0.2316\n",
            "\n",
            "done.\n",
            "Please invoke the Learner.lr_plot() method to visually inspect the loss plot to help identify the maximal learning rate associated with falling loss.\n"
          ],
          "name": "stdout"
        },
        {
          "output_type": "display_data",
          "data": {
            "image/png": "[encoded data removed]",
            "text/plain": [
              "<Figure size 432x288 with 1 Axes>"
            ]
          },
          "metadata": {
            "tags": [],
            "needs_background": "light"
          }
        }
      ]
    },
    {
      "cell_type": "code",
      "metadata": {
        "id": "nNZ3PddqZ6Sq",
        "colab": {
          "base_uri": "https://localhost:8080/",
          "height": 235
        },
        "outputId": "30732c4c-f618-4737-b78d-b4ac7f8055ac"
      },
      "source": [
        "learner.fit_onecycle(5e-3, 4)"
      ],
      "execution_count": null,
      "outputs": [
        {
          "output_type": "stream",
          "text": [
            "\n",
            "\n",
            "begin training using onecycle policy with max lr of 0.005...\n",
            "Train on 186452 samples, validate on 20717 samples\n",
            "Epoch 1/4\n",
            "186452/186452 [==============================] - 183s 981us/sample - loss: 1.3322 - accuracy: 0.3829 - val_loss: 1.2788 - val_accuracy: 0.4019\n",
            "Epoch 2/4\n",
            "186452/186452 [==============================] - 182s 978us/sample - loss: 1.2982 - accuracy: 0.4014 - val_loss: 1.2769 - val_accuracy: 0.4092\n",
            "Epoch 3/4\n",
            "186452/186452 [==============================] - 180s 967us/sample - loss: 1.2721 - accuracy: 0.4128 - val_loss: 1.2522 - val_accuracy: 0.4243\n",
            "Epoch 4/4\n",
            "186452/186452 [==============================] - 180s 967us/sample - loss: 1.2259 - accuracy: 0.4342 - val_loss: 1.2486 - val_accuracy: 0.4232\n"
          ],
          "name": "stdout"
        },
        {
          "output_type": "execute_result",
          "data": {
            "text/plain": [
              "<tensorflow.python.keras.callbacks.History at 0x7f117f511748>"
            ]
          },
          "metadata": {
            "tags": []
          },
          "execution_count": 12
        }
      ]
    },
    {
      "cell_type": "code",
      "metadata": {
        "id": "SwALlukJzvpu",
        "colab": {
          "base_uri": "https://localhost:8080/",
          "height": 235
        },
        "outputId": "4e5224e3-e1a7-4cdc-9a06-c34c36f53aba"
      },
      "source": [
        "learner.fit_onecycle(6e-4, 4)"
      ],
      "execution_count": null,
      "outputs": [
        {
          "output_type": "stream",
          "text": [
            "\n",
            "\n",
            "begin training using onecycle policy with max lr of 0.0006...\n",
            "Train on 186452 samples, validate on 20717 samples\n",
            "Epoch 1/4\n",
            "186452/186452 [==============================] - 180s 963us/sample - loss: 1.2020 - accuracy: 0.4442 - val_loss: 1.2502 - val_accuracy: 0.4268\n",
            "Epoch 2/4\n",
            "186452/186452 [==============================] - 180s 968us/sample - loss: 1.1992 - accuracy: 0.4461 - val_loss: 1.2499 - val_accuracy: 0.4234\n",
            "Epoch 3/4\n",
            "186452/186452 [==============================] - 182s 975us/sample - loss: 1.1916 - accuracy: 0.4477 - val_loss: 1.2512 - val_accuracy: 0.4249\n",
            "Epoch 4/4\n",
            "186452/186452 [==============================] - 183s 979us/sample - loss: 1.1829 - accuracy: 0.4521 - val_loss: 1.2524 - val_accuracy: 0.4221\n"
          ],
          "name": "stdout"
        },
        {
          "output_type": "execute_result",
          "data": {
            "text/plain": [
              "<tensorflow.python.keras.callbacks.History at 0x7f117eef6be0>"
            ]
          },
          "metadata": {
            "tags": []
          },
          "execution_count": 13
        }
      ]
    },
    {
      "cell_type": "code",
      "metadata": {
        "id": "J9h4-XO3QbVi",
        "colab": {
          "base_uri": "https://localhost:8080/",
          "height": 235
        },
        "outputId": "e1263576-458b-4227-e36c-519c9798f3d3"
      },
      "source": [
        "learner.fit_onecycle(3e-4, 4)"
      ],
      "execution_count": null,
      "outputs": [
        {
          "output_type": "stream",
          "text": [
            "\n",
            "\n",
            "begin training using onecycle policy with max lr of 0.0003...\n",
            "Train on 186452 samples, validate on 20717 samples\n",
            "Epoch 1/4\n",
            "186452/186452 [==============================] - 184s 986us/sample - loss: 1.1809 - accuracy: 0.4540 - val_loss: 1.2528 - val_accuracy: 0.4257\n",
            "Epoch 2/4\n",
            "186452/186452 [==============================] - 183s 981us/sample - loss: 1.1795 - accuracy: 0.4530 - val_loss: 1.2553 - val_accuracy: 0.4254\n",
            "Epoch 3/4\n",
            "186452/186452 [==============================] - 182s 976us/sample - loss: 1.1778 - accuracy: 0.4541 - val_loss: 1.2554 - val_accuracy: 0.4254\n",
            "Epoch 4/4\n",
            "186452/186452 [==============================] - 181s 969us/sample - loss: 1.1717 - accuracy: 0.4582 - val_loss: 1.2560 - val_accuracy: 0.4228\n"
          ],
          "name": "stdout"
        },
        {
          "output_type": "execute_result",
          "data": {
            "text/plain": [
              "<tensorflow.python.keras.callbacks.History at 0x7f117ec54198>"
            ]
          },
          "metadata": {
            "tags": []
          },
          "execution_count": 14
        }
      ]
    },
    {
      "cell_type": "code",
      "metadata": {
        "id": "1_YvQCGlaxG7",
        "colab": {
          "base_uri": "https://localhost:8080/",
          "height": 235
        },
        "outputId": "ca2ba9e0-8039-4f94-8e52-b6b4d505d5d8"
      },
      "source": [
        "learner.fit_onecycle(1e-4, 4)"
      ],
      "execution_count": null,
      "outputs": [
        {
          "output_type": "stream",
          "text": [
            "\n",
            "\n",
            "begin training using onecycle policy with max lr of 0.0001...\n",
            "Train on 186452 samples, validate on 20717 samples\n",
            "Epoch 1/4\n",
            "186452/186452 [==============================] - 182s 977us/sample - loss: 1.1692 - accuracy: 0.4582 - val_loss: 1.2565 - val_accuracy: 0.4245\n",
            "Epoch 2/4\n",
            "186452/186452 [==============================] - 181s 969us/sample - loss: 1.1692 - accuracy: 0.4589 - val_loss: 1.2564 - val_accuracy: 0.4231\n",
            "Epoch 3/4\n",
            "186452/186452 [==============================] - 181s 969us/sample - loss: 1.1689 - accuracy: 0.4586 - val_loss: 1.2569 - val_accuracy: 0.4248\n",
            "Epoch 4/4\n",
            "186452/186452 [==============================] - 180s 967us/sample - loss: 1.1684 - accuracy: 0.4597 - val_loss: 1.2570 - val_accuracy: 0.4245\n"
          ],
          "name": "stdout"
        },
        {
          "output_type": "execute_result",
          "data": {
            "text/plain": [
              "<tensorflow.python.keras.callbacks.History at 0x7f117eeeac88>"
            ]
          },
          "metadata": {
            "tags": []
          },
          "execution_count": 15
        }
      ]
    },
    {
      "cell_type": "code",
      "metadata": {
        "id": "mZMZq2NPaCnv"
      },
      "source": [
        "predictor = ktrain.get_predictor(learner.model, preproc)\n",
        "predictor.save('/content/drive/My Drive/COLAB NOTEBOOKS/SCL/C06/fasttext_cleaned_extended')\n",
        "# predictor = ktrain.load_predictor('/content/drive/My Drive/COLAB NOTEBOOKS/SCL/C06/fasttext_cleaned_extended')\n",
        "\n",
        "test_df = pd.read_csv('/content/drive/My Drive/COLAB NOTEBOOKS/SCL/C06/test_clean_extended.csv')\n",
        "test_df.review.fillna(\"\",inplace=True)"
      ],
      "execution_count": null,
      "outputs": []
    },
    {
      "cell_type": "code",
      "metadata": {
        "id": "trJmoXciaK4V"
      },
      "source": [
        "# preds = test_df.review.progress_apply(lambda x: np.argmax(predictor.predict_proba(x)))\n",
        "probs = test_df.review.progress_apply(lambda x: predictor.predict_proba(x))\n",
        "np.save('/content/drive/My Drive/COLAB NOTEBOOKS/SCL/C06/fasttext_clean_extended', probs)\n",
        "preds = np.argmax(probs, axis = 1)"
      ],
      "execution_count": null,
      "outputs": []
    },
    {
      "cell_type": "code",
      "metadata": {
        "id": "05tMe9k2aQs-"
      },
      "source": [
        "final = pd.DataFrame({'review_id': test_df.review_id, 'rating': preds})\n",
        "final.to_csv('/content/drive/My Drive/COLAB NOTEBOOKS/SCL/C06/dom_fasttext_cleaned_extended.csv', index=False)"
      ],
      "execution_count": null,
      "outputs": []
    },
    {
      "cell_type": "markdown",
      "metadata": {
        "id": "6X5hWDcisMDW"
      },
      "source": [
        "\n",
        "# Fastai"
      ]
    },
    {
      "cell_type": "markdown",
      "metadata": {
        "id": "HVgW7vRLZPif"
      },
      "source": [
        "## Defining functions"
      ]
    },
    {
      "cell_type": "code",
      "metadata": {
        "id": "bQKGzSDpOC_J"
      },
      "source": [
        "def seed_all(seed_value):\n",
        "    random.seed(seed_value) # Python\n",
        "    np.random.seed(seed_value) # cpu vars\n",
        "    torch.manual_seed(seed_value) # cpu  vars\n",
        "    \n",
        "    if torch.cuda.is_available(): \n",
        "        torch.cuda.manual_seed(seed_value)\n",
        "        torch.cuda.manual_seed_all(seed_value) # gpu vars\n",
        "        torch.backends.cudnn.deterministic = True  #needed\n",
        "        torch.backends.cudnn.benchmark = False\n",
        "class TransformersBaseTokenizer(BaseTokenizer):\n",
        "    \"\"\"Wrapper around PreTrainedTokenizer to be compatible with fast.ai\"\"\"\n",
        "    def __init__(self, pretrained_tokenizer: PreTrainedTokenizer, model_type = 'bert', **kwargs):\n",
        "        self._pretrained_tokenizer = pretrained_tokenizer\n",
        "        self.max_seq_len = pretrained_tokenizer.max_len\n",
        "        self.model_type = model_type\n",
        "\n",
        "    def __call__(self, *args, **kwargs): \n",
        "        return self\n",
        "\n",
        "    def tokenizer(self, t:str) -> List[str]:\n",
        "        \"\"\"Limits the maximum sequence length and add the spesial tokens\"\"\"\n",
        "        CLS = self._pretrained_tokenizer.cls_token\n",
        "        SEP = self._pretrained_tokenizer.sep_token\n",
        "        if self.model_type in ['roberta']:\n",
        "            tokens = self._pretrained_tokenizer.tokenize(t, add_prefix_space=True)[:self.max_seq_len - 2]\n",
        "            tokens = [CLS] + tokens + [SEP]\n",
        "        else:\n",
        "            tokens = self._pretrained_tokenizer.tokenize(t)[:self.max_seq_len - 2]\n",
        "            if self.model_type in ['xlnet']:\n",
        "                tokens = tokens + [SEP] +  [CLS]\n",
        "            else:\n",
        "                tokens = [CLS] + tokens + [SEP]\n",
        "        return tokens\n",
        "class TransformersVocab(Vocab):\n",
        "    def __init__(self, tokenizer: PreTrainedTokenizer):\n",
        "        super(TransformersVocab, self).__init__(itos = [])\n",
        "        self.tokenizer = tokenizer\n",
        "    \n",
        "    def numericalize(self, t:Collection[str]) -> List[int]:\n",
        "        \"Convert a list of tokens `t` to their ids.\"\n",
        "        return self.tokenizer.convert_tokens_to_ids(t)\n",
        "        #return self.tokenizer.encode(t)\n",
        "\n",
        "    def textify(self, nums:Collection[int], sep=' ') -> List[str]:\n",
        "        \"Convert a list of `nums` to their tokens.\"\n",
        "        nums = np.array(nums).tolist()\n",
        "        return sep.join(self.tokenizer.convert_ids_to_tokens(nums)) if sep is not None else self.tokenizer.convert_ids_to_tokens(nums)\n",
        "    \n",
        "    def __getstate__(self):\n",
        "        return {'itos':self.itos, 'tokenizer':self.tokenizer}\n",
        "\n",
        "    def __setstate__(self, state:dict):\n",
        "        self.itos = state['itos']\n",
        "        self.tokenizer = state['tokenizer']\n",
        "        self.stoi = collections.defaultdict(int,{v:k for k,v in enumerate(self.itos)})\n",
        "# defining our model architecture \n",
        "class CustomTransformerModel(nn.Module):\n",
        "    def __init__(self, transformer_model: PreTrainedModel):\n",
        "        super(CustomTransformerModel,self).__init__()\n",
        "        self.transformer = transformer_model\n",
        "        \n",
        "    def forward(self, input_ids, attention_mask=None):\n",
        "        \n",
        "        # attention_mask\n",
        "        # Mask to avoid performing attention on padding token indices.\n",
        "        # Mask values selected in ``[0, 1]``:\n",
        "        # ``1`` for tokens that are NOT MASKED, ``0`` for MASKED tokens.\n",
        "        attention_mask = (input_ids!=pad_idx).type(input_ids.type()) \n",
        "        \n",
        "        logits = self.transformer(input_ids,\n",
        "                                  attention_mask = attention_mask)[0]   \n",
        "        return logits\n",
        "def get_preds_as_nparray(ds_type) -> np.ndarray:\n",
        "    \"\"\"\n",
        "    the get_preds method does not yield the elements in order by default\n",
        "    we borrow the code from the RNNLearner to resort the elements into their correct order\n",
        "    \"\"\"\n",
        "    preds = learner.get_preds(ds_type)[0].detach().cpu().numpy()\n",
        "    sampler = [i for i in databunch.dl(ds_type).sampler]\n",
        "    reverse_sampler = np.argsort(sampler)\n",
        "    return preds[reverse_sampler, :]"
      ],
      "execution_count": null,
      "outputs": []
    },
    {
      "cell_type": "markdown",
      "metadata": {
        "id": "6q3-F-t4VfOQ"
      },
      "source": [
        "## Roberta"
      ]
    },
    {
      "cell_type": "code",
      "metadata": {
        "id": "_hFY_aolOEp3"
      },
      "source": [
        "MODEL_CLASSES = {\n",
        "    'bert': (BertForSequenceClassification, BertTokenizer, BertConfig),\n",
        "    'xlnet': (XLNetForSequenceClassification, XLNetTokenizer, XLNetConfig),\n",
        "    'xlm': (XLMForSequenceClassification, XLMTokenizer, XLMConfig),\n",
        "    'roberta': (RobertaForSequenceClassification, RobertaTokenizer, RobertaConfig),\n",
        "    'distilbert': (DistilBertForSequenceClassification, DistilBertTokenizer, DistilBertConfig)}\n",
        "# Parameters\n",
        "seed = 2020\n",
        "seed_all(seed)\n",
        "\n",
        "use_fp16 = False\n",
        "bs = 16\n",
        "\n",
        "model_type = 'roberta'\n",
        "pretrained_model_name = 'roberta-base'\n",
        "\n",
        "# model_type = 'bert'\n",
        "# pretrained_model_name='bert-base-uncased'\n",
        "\n",
        "# model_type = 'distilbert'\n",
        "# pretrained_model_name = 'distilbert-base-uncased'\n",
        "\n",
        "#model_type = 'xlm'\n",
        "#pretrained_model_name = 'xlm-clm-enfr-1024'\n",
        "\n",
        "# model_type = 'xlnet'\n",
        "# pretrained_model_name = 'xlnet-base-cased'\n",
        "model_class, tokenizer_class, config_class = MODEL_CLASSES[model_type]"
      ],
      "execution_count": null,
      "outputs": []
    },
    {
      "cell_type": "code",
      "metadata": {
        "id": "Qqip0eMMOebK",
        "colab": {
          "base_uri": "https://localhost:8080/",
          "height": 170,
          "referenced_widgets": [
            "add4e98add214aba8f7945d766c0db7c",
            "7ad35df9054e4c2abe5354007576f4de",
            "eac2885f2c734fce8a448cbfbeb63269",
            "2f37be60c02b4db4863ef7aff582b533",
            "e51c5c18d5b0438c8f4c6c30ac0690a3",
            "75e8ffbde2bf451a9c38e5e633762ab4",
            "52bfa715318140c08c6bbf71cefe9907",
            "7a071ab7f88246df990c6611fef72110"
          ]
        },
        "outputId": "22c4044e-0010-4938-9f12-65bef51cec2a"
      },
      "source": [
        "transformer_tokenizer = tokenizer_class.from_pretrained(pretrained_model_name)\n",
        "transformer_base_tokenizer = TransformersBaseTokenizer(pretrained_tokenizer = transformer_tokenizer, model_type = model_type)\n",
        "fastai_tokenizer = Tokenizer(tok_func = transformer_base_tokenizer, pre_rules=[], post_rules=[])\n",
        "transformer_vocab =  TransformersVocab(tokenizer = transformer_tokenizer)\n",
        "numericalize_processor = NumericalizeProcessor(vocab=transformer_vocab)\n",
        "\n",
        "tokenize_processor = TokenizeProcessor(tokenizer=fastai_tokenizer, include_bos=False, include_eos=False)\n",
        "\n",
        "transformer_processor = [tokenize_processor, numericalize_processor]\n",
        "pad_first = bool(model_type in ['xlnet'])\n",
        "pad_idx = transformer_tokenizer.pad_token_id\n",
        "config = config_class.from_pretrained(pretrained_model_name)\n",
        "config.num_labels = 5\n",
        "config.use_bfloat16 = use_fp16\n",
        "# print(config)\n",
        "transformer_model = model_class.from_pretrained(pretrained_model_name, config = config)\n",
        "# transformer_model = model_class.from_pretrained(pretrained_model_name, num_labels = 5)\n",
        "\n",
        "custom_transformer_model = CustomTransformerModel(transformer_model = transformer_model)\n",
        "\n",
        "# print('[CLS] token :', transformer_tokenizer.cls_token)\n",
        "# print('[SEP] token :', transformer_tokenizer.sep_token)\n",
        "# print('[PAD] token :', transformer_tokenizer.pad_token)\n",
        "# databunch.show_batch()"
      ],
      "execution_count": null,
      "outputs": [
        {
          "output_type": "display_data",
          "data": {
            "application/vnd.jupyter.widget-view+json": {
              "model_id": "add4e98add214aba8f7945d766c0db7c",
              "version_minor": 0,
              "version_major": 2
            },
            "text/plain": [
              "HBox(children=(FloatProgress(value=0.0, description='Downloading', max=501200538.0, style=ProgressStyle(descri…"
            ]
          },
          "metadata": {
            "tags": []
          }
        },
        {
          "output_type": "stream",
          "text": [
            "\n"
          ],
          "name": "stdout"
        },
        {
          "output_type": "stream",
          "text": [
            "Some weights of the model checkpoint at roberta-base were not used when initializing RobertaForSequenceClassification: ['lm_head.bias', 'lm_head.dense.weight', 'lm_head.dense.bias', 'lm_head.layer_norm.weight', 'lm_head.layer_norm.bias', 'lm_head.decoder.weight']\n",
            "- This IS expected if you are initializing RobertaForSequenceClassification from the checkpoint of a model trained on another task or with another architecture (e.g. initializing a BertForSequenceClassification model from a BertForPretraining model).\n",
            "- This IS NOT expected if you are initializing RobertaForSequenceClassification from the checkpoint of a model that you expect to be exactly identical (initializing a BertForSequenceClassification model from a BertForSequenceClassification model).\n",
            "Some weights of RobertaForSequenceClassification were not initialized from the model checkpoint at roberta-base and are newly initialized: ['classifier.dense.weight', 'classifier.dense.bias', 'classifier.out_proj.weight', 'classifier.out_proj.bias']\n",
            "You should probably TRAIN this model on a down-stream task to be able to use it for predictions and inference.\n"
          ],
          "name": "stderr"
        }
      ]
    },
    {
      "cell_type": "code",
      "metadata": {
        "id": "G3Q357yiLGBY",
        "colab": {
          "base_uri": "https://localhost:8080/",
          "height": 17
        },
        "outputId": "65e670e1-02f2-424a-e1ef-2ce26e65c3ce"
      },
      "source": [
        "# RUN model configurations first\n",
        "path = '/content/drive/My Drive/COLAB NOTEBOOKS/SCL/C06/'\n",
        "train = pd.read_csv(path + 'train_clean.csv')\n",
        "test = pd.read_csv(path + 'test_clean.csv')\n",
        "train.fillna('',inplace=True)\n",
        "test.fillna('',inplace=True)\n",
        "\n",
        "databunch = (TextList.from_df(train, cols='review', processor=transformer_processor)\n",
        "             .split_by_rand_pct(0.1,seed=seed)\n",
        "             .label_from_df(cols= 'rating')\n",
        "             .add_test(test)\n",
        "             .databunch(bs=bs, pad_first=pad_first, pad_idx=pad_idx))"
      ],
      "execution_count": null,
      "outputs": [
        {
          "output_type": "display_data",
          "data": {
            "text/html": [
              ""
            ],
            "text/plain": [
              "<IPython.core.display.HTML object>"
            ]
          },
          "metadata": {
            "tags": []
          }
        },
        {
          "output_type": "display_data",
          "data": {
            "text/html": [
              ""
            ],
            "text/plain": [
              "<IPython.core.display.HTML object>"
            ]
          },
          "metadata": {
            "tags": []
          }
        },
        {
          "output_type": "display_data",
          "data": {
            "text/html": [
              ""
            ],
            "text/plain": [
              "<IPython.core.display.HTML object>"
            ]
          },
          "metadata": {
            "tags": []
          }
        }
      ]
    },
    {
      "cell_type": "code",
      "metadata": {
        "id": "AdKclXsQP1p-"
      },
      "source": [
        "from fastai.callbacks import *\n",
        "from transformers import AdamW\n",
        "from functools import partial\n",
        "\n",
        "CustomAdamW = partial(AdamW, correct_bias=False)\n",
        "\n",
        "learner = Learner(databunch, \n",
        "                  custom_transformer_model, \n",
        "                  opt_func = CustomAdamW, \n",
        "                  metrics=[accuracy, error_rate])\n",
        "\n",
        "# Show graph of learner stats and metrics after each epoch.\n",
        "learner.callbacks.append(ShowGraph(learner))\n",
        "\n",
        "# Put learn in FP16 precision mode. --> Seems to not working\n",
        "if use_fp16: learner = learner.to_fp16()\n",
        "# For DistilBERT\n",
        "# list_layers = [learner.model.transformer.distilbert.embeddings,\n",
        "#                learner.model.transformer.distilbert.transformer.layer[0],\n",
        "#                learner.model.transformer.distilbert.transformer.layer[1],\n",
        "#                learner.model.transformer.distilbert.transformer.layer[2],\n",
        "#                learner.model.transformer.distilbert.transformer.layer[3],\n",
        "#                learner.model.transformer.distilbert.transformer.layer[4],\n",
        "#                learner.model.transformer.distilbert.transformer.layer[5],\n",
        "#                learner.model.transformer.pre_classifier]\n",
        "\n",
        "# For xlnet-base-cased\n",
        "# list_layers = [learner.model.transformer.transformer.word_embedding,\n",
        "#               learner.model.transformer.transformer.layer[0],\n",
        "#               learner.model.transformer.transformer.layer[1],\n",
        "#               learner.model.transformer.transformer.layer[2],\n",
        "#               learner.model.transformer.transformer.layer[3],\n",
        "#               learner.model.transformer.transformer.layer[4],\n",
        "#               learner.model.transformer.transformer.layer[5],\n",
        "#               learner.model.transformer.transformer.layer[6],\n",
        "#               learner.model.transformer.transformer.layer[7],\n",
        "#               learner.model.transformer.transformer.layer[8],\n",
        "#               learner.model.transformer.transformer.layer[9],\n",
        "#               learner.model.transformer.transformer.layer[10],\n",
        "#               learner.model.transformer.transformer.layer[11],\n",
        "#               learner.model.transformer.sequence_summary]\n",
        "\n",
        "# For roberta-base\n",
        "list_layers = [learner.model.transformer.roberta.embeddings,\n",
        "              learner.model.transformer.roberta.encoder.layer[0],\n",
        "              learner.model.transformer.roberta.encoder.layer[1],\n",
        "              learner.model.transformer.roberta.encoder.layer[2],\n",
        "              learner.model.transformer.roberta.encoder.layer[3],\n",
        "              learner.model.transformer.roberta.encoder.layer[4],\n",
        "              learner.model.transformer.roberta.encoder.layer[5],\n",
        "              learner.model.transformer.roberta.encoder.layer[6],\n",
        "              learner.model.transformer.roberta.encoder.layer[7],\n",
        "              learner.model.transformer.roberta.encoder.layer[8],\n",
        "              learner.model.transformer.roberta.encoder.layer[9],\n",
        "              learner.model.transformer.roberta.encoder.layer[10],\n",
        "              learner.model.transformer.roberta.encoder.layer[11],\n",
        "              learner.model.transformer.roberta.pooler]\n",
        "learner.split(list_layers)\n",
        "num_groups = len(learner.layer_groups)\n",
        "print('Learner split in',num_groups,'groups')\n",
        "# print(learner.layer_groups)"
      ],
      "execution_count": null,
      "outputs": []
    },
    {
      "cell_type": "code",
      "metadata": {
        "id": "QNjeL2AyQA1U"
      },
      "source": [
        "learner.save('untrain')"
      ],
      "execution_count": null,
      "outputs": []
    },
    {
      "cell_type": "code",
      "metadata": {
        "id": "nxEcMTLRQDPU"
      },
      "source": [
        "seed_all(seed)\n",
        "learner.load('untrain');"
      ],
      "execution_count": null,
      "outputs": []
    },
    {
      "cell_type": "code",
      "metadata": {
        "id": "hmy8GJeBQEho"
      },
      "source": [
        "learner.freeze_to(-1)\n",
        "# learner.summary()"
      ],
      "execution_count": null,
      "outputs": []
    },
    {
      "cell_type": "code",
      "metadata": {
        "id": "IIW-SeqZQH6i",
        "colab": {
          "base_uri": "https://localhost:8080/",
          "height": 409
        },
        "outputId": "edf9caf1-65aa-42c9-834a-ea5d56a327f8"
      },
      "source": [
        "learner.lr_find()\n",
        "learner.recorder.plot(skip_end=10,suggestion=True)"
      ],
      "execution_count": null,
      "outputs": [
        {
          "output_type": "display_data",
          "data": {
            "text/html": [
              "\n",
              "    <div>\n",
              "        <style>\n",
              "            /* Turns off some styling */\n",
              "            progress {\n",
              "                /* gets rid of default border in Firefox and Opera. */\n",
              "                border: none;\n",
              "                /* Needs to be in here for Safari polyfill so background images work as expected. */\n",
              "                background-size: auto;\n",
              "            }\n",
              "            .progress-bar-interrupted, .progress-bar-interrupted::-webkit-progress-bar {\n",
              "                background: #F44336;\n",
              "            }\n",
              "        </style>\n",
              "      <progress value='0' class='' max='1' style='width:300px; height:20px; vertical-align: middle;'></progress>\n",
              "      0.00% [0/1 00:00<00:00]\n",
              "    </div>\n",
              "    \n",
              "<table border=\"1\" class=\"dataframe\">\n",
              "  <thead>\n",
              "    <tr style=\"text-align: left;\">\n",
              "      <th>epoch</th>\n",
              "      <th>train_loss</th>\n",
              "      <th>valid_loss</th>\n",
              "      <th>accuracy</th>\n",
              "      <th>error_rate</th>\n",
              "      <th>time</th>\n",
              "    </tr>\n",
              "  </thead>\n",
              "  <tbody>\n",
              "  </tbody>\n",
              "</table><p>\n",
              "\n",
              "    <div>\n",
              "        <style>\n",
              "            /* Turns off some styling */\n",
              "            progress {\n",
              "                /* gets rid of default border in Firefox and Opera. */\n",
              "                border: none;\n",
              "                /* Needs to be in here for Safari polyfill so background images work as expected. */\n",
              "                background-size: auto;\n",
              "            }\n",
              "            .progress-bar-interrupted, .progress-bar-interrupted::-webkit-progress-bar {\n",
              "                background: #F44336;\n",
              "            }\n",
              "        </style>\n",
              "      <progress value='72' class='' max='8254' style='width:300px; height:20px; vertical-align: middle;'></progress>\n",
              "      0.87% [72/8254 00:07<13:32 5.9531]\n",
              "    </div>\n",
              "    "
            ],
            "text/plain": [
              "<IPython.core.display.HTML object>"
            ]
          },
          "metadata": {
            "tags": []
          }
        },
        {
          "output_type": "stream",
          "text": [
            "LR Finder is complete, type {learner_name}.recorder.plot() to see the graph.\n",
            "Min numerical gradient: 4.79E-04\n",
            "Min loss divided by 10: 1.91E-05\n"
          ],
          "name": "stdout"
        },
        {
          "output_type": "display_data",
          "data": {
            "image/png": "[encoded data removed]",
            "text/plain": [
              "<Figure size 432x288 with 1 Axes>"
            ]
          },
          "metadata": {
            "tags": [],
            "needs_background": "light"
          }
        }
      ]
    },
    {
      "cell_type": "code",
      "metadata": {
        "id": "C9k3lqrvQL_I",
        "colab": {
          "base_uri": "https://localhost:8080/",
          "height": 328
        },
        "outputId": "e407eba0-c919-477a-e68c-39864ba78aa1"
      },
      "source": [
        "learner.fit_one_cycle(1,max_lr=2e-04,moms=(0.8,0.7))\n",
        "learner.save('first_cycle')\n",
        "seed_all(seed)\n",
        "learner.load('first_cycle');\n",
        "learner.freeze_to(-2)\n",
        "lr = 1e-5\n",
        "learner.fit_one_cycle(1, max_lr=slice(lr*0.95**num_groups, lr), moms=(0.8, 0.9))\n",
        "learner.save('second_cycle')\n",
        "seed_all(seed)\n",
        "learner.load('second_cycle');\n",
        "learner.freeze_to(-3)\n",
        "learner.fit_one_cycle(1, max_lr=slice(lr*0.95**num_groups, lr), moms=(0.8, 0.9))\n",
        "learner.save('third_cycle')\n",
        "seed_all(seed)\n",
        "learner.load('third_cycle');"
      ],
      "execution_count": null,
      "outputs": [
        {
          "output_type": "display_data",
          "data": {
            "text/html": [
              "<table border=\"1\" class=\"dataframe\">\n",
              "  <thead>\n",
              "    <tr style=\"text-align: left;\">\n",
              "      <th>epoch</th>\n",
              "      <th>train_loss</th>\n",
              "      <th>valid_loss</th>\n",
              "      <th>accuracy</th>\n",
              "      <th>error_rate</th>\n",
              "      <th>time</th>\n",
              "    </tr>\n",
              "  </thead>\n",
              "  <tbody>\n",
              "    <tr>\n",
              "      <td>0</td>\n",
              "      <td>1.306971</td>\n",
              "      <td>1.250487</td>\n",
              "      <td>0.417337</td>\n",
              "      <td>0.582663</td>\n",
              "      <td>04:35</td>\n",
              "    </tr>\n",
              "  </tbody>\n",
              "</table>"
            ],
            "text/plain": [
              "<IPython.core.display.HTML object>"
            ]
          },
          "metadata": {
            "tags": []
          }
        },
        {
          "output_type": "display_data",
          "data": {
            "image/png": "[encoded data removed]",
            "text/plain": [
              "<Figure size 432x288 with 1 Axes>"
            ]
          },
          "metadata": {
            "tags": []
          }
        }
      ]
    },
    {
      "cell_type": "code",
      "metadata": {
        "id": "p_Ee4lHTQxGh",
        "colab": {
          "base_uri": "https://localhost:8080/",
          "height": 354
        },
        "outputId": "8593a878-e5d4-4dda-c043-81ec7636c7f4"
      },
      "source": [
        "learner.unfreeze()\n",
        "learner.fit_one_cycle(2, max_lr=slice(lr*0.95**num_groups, lr), moms=(0.8, 0.9))"
      ],
      "execution_count": null,
      "outputs": [
        {
          "output_type": "display_data",
          "data": {
            "text/html": [
              "<table border=\"1\" class=\"dataframe\">\n",
              "  <thead>\n",
              "    <tr style=\"text-align: left;\">\n",
              "      <th>epoch</th>\n",
              "      <th>train_loss</th>\n",
              "      <th>valid_loss</th>\n",
              "      <th>accuracy</th>\n",
              "      <th>error_rate</th>\n",
              "      <th>time</th>\n",
              "    </tr>\n",
              "  </thead>\n",
              "  <tbody>\n",
              "    <tr>\n",
              "      <td>0</td>\n",
              "      <td>1.042219</td>\n",
              "      <td>1.032762</td>\n",
              "      <td>0.498910</td>\n",
              "      <td>0.501090</td>\n",
              "      <td>17:41</td>\n",
              "    </tr>\n",
              "    <tr>\n",
              "      <td>1</td>\n",
              "      <td>0.997515</td>\n",
              "      <td>0.984654</td>\n",
              "      <td>0.512471</td>\n",
              "      <td>0.487529</td>\n",
              "      <td>17:26</td>\n",
              "    </tr>\n",
              "  </tbody>\n",
              "</table>"
            ],
            "text/plain": [
              "<IPython.core.display.HTML object>"
            ]
          },
          "metadata": {
            "tags": []
          }
        },
        {
          "output_type": "display_data",
          "data": {
            "image/png": "[encoded data removed]",
            "text/plain": [
              "<Figure size 432x288 with 1 Axes>"
            ]
          },
          "metadata": {
            "tags": []
          }
        }
      ]
    },
    {
      "cell_type": "code",
      "metadata": {
        "id": "gLXPBGNDcZQm",
        "colab": {
          "base_uri": "https://localhost:8080/",
          "height": 354
        },
        "outputId": "a87e7569-710c-4c30-ded5-645f9b3b20ea"
      },
      "source": [
        "learner.fit_one_cycle(2, max_lr=slice(lr*0.95**num_groups, lr), moms=(0.8, 0.9))"
      ],
      "execution_count": null,
      "outputs": [
        {
          "output_type": "display_data",
          "data": {
            "text/html": [
              "<table border=\"1\" class=\"dataframe\">\n",
              "  <thead>\n",
              "    <tr style=\"text-align: left;\">\n",
              "      <th>epoch</th>\n",
              "      <th>train_loss</th>\n",
              "      <th>valid_loss</th>\n",
              "      <th>accuracy</th>\n",
              "      <th>error_rate</th>\n",
              "      <th>time</th>\n",
              "    </tr>\n",
              "  </thead>\n",
              "  <tbody>\n",
              "    <tr>\n",
              "      <td>0</td>\n",
              "      <td>1.010454</td>\n",
              "      <td>0.987338</td>\n",
              "      <td>0.507087</td>\n",
              "      <td>0.492913</td>\n",
              "      <td>16:45</td>\n",
              "    </tr>\n",
              "    <tr>\n",
              "      <td>1</td>\n",
              "      <td>0.938736</td>\n",
              "      <td>0.983555</td>\n",
              "      <td>0.518264</td>\n",
              "      <td>0.481736</td>\n",
              "      <td>17:19</td>\n",
              "    </tr>\n",
              "  </tbody>\n",
              "</table>"
            ],
            "text/plain": [
              "<IPython.core.display.HTML object>"
            ]
          },
          "metadata": {
            "tags": []
          }
        },
        {
          "output_type": "display_data",
          "data": {
            "image/png": "[encoded data removed]",
            "text/plain": [
              "<Figure size 432x288 with 1 Axes>"
            ]
          },
          "metadata": {
            "tags": []
          }
        }
      ]
    },
    {
      "cell_type": "code",
      "metadata": {
        "id": "rLwFReA6RI2O"
      },
      "source": [
        "# learner.export(file='roberta');\n",
        "# export_learner = load_learner(path, file = 'roberta.pkl')"
      ],
      "execution_count": null,
      "outputs": []
    },
    {
      "cell_type": "code",
      "metadata": {
        "id": "0pVb0IDkRdms"
      },
      "source": [
        "test_preds = get_preds_as_nparray(DatasetType.Test)\n",
        "final = pd.DataFrame({'review_id': test.review_id, 'rating': np.argmax(test_preds,axis=1) + 1})\n",
        "final.to_csv('/content/drive/My Drive/COLAB NOTEBOOKS/SCL/C06/dom_roberta_clean.csv', index=False)\n",
        "np.save(os.path.join(path, 'roberta_preds'), test_preds)"
      ],
      "execution_count": null,
      "outputs": []
    },
    {
      "cell_type": "markdown",
      "metadata": {
        "id": "TupIXRj4Vl-0"
      },
      "source": [
        "## XLNet"
      ]
    },
    {
      "cell_type": "code",
      "metadata": {
        "id": "LJkov6yzVn2S"
      },
      "source": [
        "MODEL_CLASSES = {\n",
        "    'bert': (BertForSequenceClassification, BertTokenizer, BertConfig),\n",
        "    'xlnet': (XLNetForSequenceClassification, XLNetTokenizer, XLNetConfig),\n",
        "    'xlm': (XLMForSequenceClassification, XLMTokenizer, XLMConfig),\n",
        "    'roberta': (RobertaForSequenceClassification, RobertaTokenizer, RobertaConfig),\n",
        "    'distilbert': (DistilBertForSequenceClassification, DistilBertTokenizer, DistilBertConfig)}\n",
        "# Parameters\n",
        "seed = 2020\n",
        "seed_all(seed)\n",
        "\n",
        "use_fp16 = False\n",
        "bs = 16\n",
        "\n",
        "# model_type = 'roberta'\n",
        "# pretrained_model_name = 'roberta-base'\n",
        "\n",
        "# model_type = 'bert'\n",
        "# pretrained_model_name='bert-base-uncased'\n",
        "\n",
        "# model_type = 'distilbert'\n",
        "# pretrained_model_name = 'distilbert-base-uncased'\n",
        "\n",
        "#model_type = 'xlm'\n",
        "#pretrained_model_name = 'xlm-clm-enfr-1024'\n",
        "\n",
        "model_type = 'xlnet'\n",
        "pretrained_model_name = 'xlnet-base-cased'\n",
        "\n",
        "model_class, tokenizer_class, config_class = MODEL_CLASSES[model_type]"
      ],
      "execution_count": null,
      "outputs": []
    },
    {
      "cell_type": "code",
      "metadata": {
        "id": "bIU59VckVn24",
        "colab": {
          "base_uri": "https://localhost:8080/",
          "height": 267,
          "referenced_widgets": [
            "0d52aba448c042eeab9b599e83b0d9a1",
            "b3ddf65444244f98b0486b9809d843bc",
            "29e249d80d344fb5b34cacd653361718",
            "5d3196669a9d44e6ac9b303a00ece01d",
            "8e6a511f682b43d0be6a1af39ed31eb3",
            "a94e0304673e4047b2694c09a9da7d11",
            "0b6668fd95f74e308b626d82a4104f39",
            "e2c651a78ed345ec863b4d6490cd957e",
            "1b45dd6beabc45d983cb6e0b26a321c8",
            "5005151ee2584ea696b21a7a3726cf4f",
            "61a34cc20b514153b24a3271afa033ac",
            "15b09ef34f8d47b8a7b723b94a2f0fc8",
            "dbef58ffbebe4761a6aafc865b36aca2",
            "b0fe8eaabd7242ca9add96a982c96a4e",
            "1855370d781c4da0bf6affe6c36f94f8",
            "5d4e0f703c6545a8a8d36c6ec6bc53de",
            "c9196043b6d4495cab450b9442ab85d5",
            "caa929c970ea47e6b4179db22ccc0fa5",
            "de4b05e7711b4b9b8f2e67937f0d1b2c",
            "b733ea6374b141889065f0b3e1b281ba",
            "eef19b2e270944d89fc791d12e887822",
            "e39ebb67b8b6471294286f3481b018ce",
            "21a73facd7494baf81f1d5f482b3a2a7",
            "d2e9201f08a949cbb3b8faf13c068dc7"
          ]
        },
        "outputId": "a513ca78-7c5f-4a7c-c94b-89e17bf36456"
      },
      "source": [
        "transformer_tokenizer = tokenizer_class.from_pretrained(pretrained_model_name)\n",
        "transformer_base_tokenizer = TransformersBaseTokenizer(pretrained_tokenizer = transformer_tokenizer, model_type = model_type)\n",
        "fastai_tokenizer = Tokenizer(tok_func = transformer_base_tokenizer, pre_rules=[], post_rules=[])\n",
        "transformer_vocab =  TransformersVocab(tokenizer = transformer_tokenizer)\n",
        "numericalize_processor = NumericalizeProcessor(vocab=transformer_vocab)\n",
        "\n",
        "tokenize_processor = TokenizeProcessor(tokenizer=fastai_tokenizer, include_bos=False, include_eos=False)\n",
        "\n",
        "transformer_processor = [tokenize_processor, numericalize_processor]\n",
        "pad_first = bool(model_type in ['xlnet'])\n",
        "pad_idx = transformer_tokenizer.pad_token_id\n",
        "config = config_class.from_pretrained(pretrained_model_name)\n",
        "config.num_labels = 5\n",
        "config.use_bfloat16 = use_fp16\n",
        "# print(config)\n",
        "transformer_model = model_class.from_pretrained(pretrained_model_name, config = config)\n",
        "# transformer_model = model_class.from_pretrained(pretrained_model_name, num_labels = 5)\n",
        "\n",
        "custom_transformer_model = CustomTransformerModel(transformer_model = transformer_model)\n",
        "\n",
        "# print('[CLS] token :', transformer_tokenizer.cls_token)\n",
        "# print('[SEP] token :', transformer_tokenizer.sep_token)\n",
        "# print('[PAD] token :', transformer_tokenizer.pad_token)\n",
        "# databunch.show_batch()"
      ],
      "execution_count": null,
      "outputs": [
        {
          "output_type": "display_data",
          "data": {
            "application/vnd.jupyter.widget-view+json": {
              "model_id": "0d52aba448c042eeab9b599e83b0d9a1",
              "version_minor": 0,
              "version_major": 2
            },
            "text/plain": [
              "HBox(children=(FloatProgress(value=0.0, description='Downloading', max=798011.0, style=ProgressStyle(descripti…"
            ]
          },
          "metadata": {
            "tags": []
          }
        },
        {
          "output_type": "stream",
          "text": [
            "\n"
          ],
          "name": "stdout"
        },
        {
          "output_type": "display_data",
          "data": {
            "application/vnd.jupyter.widget-view+json": {
              "model_id": "1b45dd6beabc45d983cb6e0b26a321c8",
              "version_minor": 0,
              "version_major": 2
            },
            "text/plain": [
              "HBox(children=(FloatProgress(value=0.0, description='Downloading', max=760.0, style=ProgressStyle(description_…"
            ]
          },
          "metadata": {
            "tags": []
          }
        },
        {
          "output_type": "stream",
          "text": [
            "\n"
          ],
          "name": "stdout"
        },
        {
          "output_type": "display_data",
          "data": {
            "application/vnd.jupyter.widget-view+json": {
              "model_id": "c9196043b6d4495cab450b9442ab85d5",
              "version_minor": 0,
              "version_major": 2
            },
            "text/plain": [
              "HBox(children=(FloatProgress(value=0.0, description='Downloading', max=467042463.0, style=ProgressStyle(descri…"
            ]
          },
          "metadata": {
            "tags": []
          }
        },
        {
          "output_type": "stream",
          "text": [
            "\n"
          ],
          "name": "stdout"
        },
        {
          "output_type": "stream",
          "text": [
            "Some weights of the model checkpoint at xlnet-base-cased were not used when initializing XLNetForSequenceClassification: ['lm_loss.weight', 'lm_loss.bias']\n",
            "- This IS expected if you are initializing XLNetForSequenceClassification from the checkpoint of a model trained on another task or with another architecture (e.g. initializing a BertForSequenceClassification model from a BertForPretraining model).\n",
            "- This IS NOT expected if you are initializing XLNetForSequenceClassification from the checkpoint of a model that you expect to be exactly identical (initializing a BertForSequenceClassification model from a BertForSequenceClassification model).\n",
            "Some weights of XLNetForSequenceClassification were not initialized from the model checkpoint at xlnet-base-cased and are newly initialized: ['sequence_summary.summary.weight', 'sequence_summary.summary.bias', 'logits_proj.weight', 'logits_proj.bias']\n",
            "You should probably TRAIN this model on a down-stream task to be able to use it for predictions and inference.\n"
          ],
          "name": "stderr"
        }
      ]
    },
    {
      "cell_type": "code",
      "metadata": {
        "id": "7B_N32tQT5ie",
        "colab": {
          "base_uri": "https://localhost:8080/",
          "height": 17
        },
        "outputId": "4b2cb9fc-f2e1-4552-d664-dd0e6cbba73f"
      },
      "source": [
        "# RUN model configurations first\n",
        "path = '/content/drive/My Drive/COLAB NOTEBOOKS/SCL/C06/'\n",
        "train = pd.read_csv(path + 'train_clean.csv')\n",
        "test = pd.read_csv(path + 'test_clean.csv')\n",
        "train.fillna('',inplace=True)\n",
        "test.fillna('',inplace=True)\n",
        "\n",
        "databunch = (TextList.from_df(train, cols='review', processor=transformer_processor)\n",
        "             .split_by_rand_pct(0.1,seed=seed)\n",
        "             .label_from_df(cols= 'rating')\n",
        "             .add_test(test)\n",
        "             .databunch(bs=bs, pad_first=pad_first, pad_idx=pad_idx))"
      ],
      "execution_count": null,
      "outputs": [
        {
          "output_type": "display_data",
          "data": {
            "text/html": [
              ""
            ],
            "text/plain": [
              "<IPython.core.display.HTML object>"
            ]
          },
          "metadata": {
            "tags": []
          }
        },
        {
          "output_type": "display_data",
          "data": {
            "text/html": [
              ""
            ],
            "text/plain": [
              "<IPython.core.display.HTML object>"
            ]
          },
          "metadata": {
            "tags": []
          }
        },
        {
          "output_type": "display_data",
          "data": {
            "text/html": [
              ""
            ],
            "text/plain": [
              "<IPython.core.display.HTML object>"
            ]
          },
          "metadata": {
            "tags": []
          }
        }
      ]
    },
    {
      "cell_type": "code",
      "metadata": {
        "id": "5CyDABtMVn2_",
        "colab": {
          "base_uri": "https://localhost:8080/",
          "height": 34
        },
        "outputId": "a5897954-be02-496d-895f-1a57743f0039"
      },
      "source": [
        "from fastai.callbacks import *\n",
        "from transformers import AdamW\n",
        "from functools import partial\n",
        "\n",
        "CustomAdamW = partial(AdamW, correct_bias=False)\n",
        "\n",
        "learner = Learner(databunch, \n",
        "                  custom_transformer_model, \n",
        "                  opt_func = CustomAdamW, \n",
        "                  metrics=[accuracy, error_rate])\n",
        "\n",
        "# Show graph of learner stats and metrics after each epoch.\n",
        "learner.callbacks.append(ShowGraph(learner))\n",
        "\n",
        "# Put learn in FP16 precision mode. --> Seems to not working\n",
        "if use_fp16: learner = learner.to_fp16()\n",
        "\n",
        "# For DistilBERT\n",
        "# list_layers = [learner.model.transformer.distilbert.embeddings,\n",
        "#                learner.model.transformer.distilbert.transformer.layer[0],\n",
        "#                learner.model.transformer.distilbert.transformer.layer[1],\n",
        "#                learner.model.transformer.distilbert.transformer.layer[2],\n",
        "#                learner.model.transformer.distilbert.transformer.layer[3],\n",
        "#                learner.model.transformer.distilbert.transformer.layer[4],\n",
        "#                learner.model.transformer.distilbert.transformer.layer[5],\n",
        "#                learner.model.transformer.pre_classifier]\n",
        "\n",
        "# For xlnet-base-cased\n",
        "list_layers = [learner.model.transformer.transformer.word_embedding,\n",
        "              learner.model.transformer.transformer.layer[0],\n",
        "              learner.model.transformer.transformer.layer[1],\n",
        "              learner.model.transformer.transformer.layer[2],\n",
        "              learner.model.transformer.transformer.layer[3],\n",
        "              learner.model.transformer.transformer.layer[4],\n",
        "              learner.model.transformer.transformer.layer[5],\n",
        "              learner.model.transformer.transformer.layer[6],\n",
        "              learner.model.transformer.transformer.layer[7],\n",
        "              learner.model.transformer.transformer.layer[8],\n",
        "              learner.model.transformer.transformer.layer[9],\n",
        "              learner.model.transformer.transformer.layer[10],\n",
        "              learner.model.transformer.transformer.layer[11],\n",
        "              learner.model.transformer.sequence_summary]\n",
        "\n",
        "# # For roberta-base\n",
        "# list_layers = [learner.model.transformer.roberta.embeddings,\n",
        "#               learner.model.transformer.roberta.encoder.layer[0],\n",
        "#               learner.model.transformer.roberta.encoder.layer[1],\n",
        "#               learner.model.transformer.roberta.encoder.layer[2],\n",
        "#               learner.model.transformer.roberta.encoder.layer[3],\n",
        "#               learner.model.transformer.roberta.encoder.layer[4],\n",
        "#               learner.model.transformer.roberta.encoder.layer[5],\n",
        "#               learner.model.transformer.roberta.encoder.layer[6],\n",
        "#               learner.model.transformer.roberta.encoder.layer[7],\n",
        "#               learner.model.transformer.roberta.encoder.layer[8],\n",
        "#               learner.model.transformer.roberta.encoder.layer[9],\n",
        "#               learner.model.transformer.roberta.encoder.layer[10],\n",
        "#               learner.model.transformer.roberta.encoder.layer[11],\n",
        "#               learner.model.transformer.roberta.pooler]\n",
        "\n",
        "learner.split(list_layers)\n",
        "num_groups = len(learner.layer_groups)\n",
        "print('Learner split in',num_groups,'groups')\n",
        "# print(learner.layer_groups)"
      ],
      "execution_count": null,
      "outputs": [
        {
          "output_type": "stream",
          "text": [
            "Learner split in 14 groups\n"
          ],
          "name": "stdout"
        }
      ]
    },
    {
      "cell_type": "code",
      "metadata": {
        "id": "wMBUCo4hnsC8",
        "colab": {
          "base_uri": "https://localhost:8080/",
          "height": 406
        },
        "outputId": "e81df8eb-5eb2-4066-ab28-8a7b05c82da5"
      },
      "source": [
        "learner.freeze_to(-1)\n",
        "# learner.summary()\n",
        "learner.lr_find()\n",
        "learner.recorder.plot(skip_end=10,suggestion=True)"
      ],
      "execution_count": null,
      "outputs": [
        {
          "output_type": "display_data",
          "data": {
            "text/html": [
              "\n",
              "    <div>\n",
              "        <style>\n",
              "            /* Turns off some styling */\n",
              "            progress {\n",
              "                /* gets rid of default border in Firefox and Opera. */\n",
              "                border: none;\n",
              "                /* Needs to be in here for Safari polyfill so background images work as expected. */\n",
              "                background-size: auto;\n",
              "            }\n",
              "            .progress-bar-interrupted, .progress-bar-interrupted::-webkit-progress-bar {\n",
              "                background: #F44336;\n",
              "            }\n",
              "        </style>\n",
              "      <progress value='0' class='' max='1' style='width:300px; height:20px; vertical-align: middle;'></progress>\n",
              "      0.00% [0/1 00:00<00:00]\n",
              "    </div>\n",
              "    \n",
              "<table border=\"1\" class=\"dataframe\">\n",
              "  <thead>\n",
              "    <tr style=\"text-align: left;\">\n",
              "      <th>epoch</th>\n",
              "      <th>train_loss</th>\n",
              "      <th>valid_loss</th>\n",
              "      <th>accuracy</th>\n",
              "      <th>error_rate</th>\n",
              "      <th>time</th>\n",
              "    </tr>\n",
              "  </thead>\n",
              "  <tbody>\n",
              "  </tbody>\n",
              "</table><p>\n",
              "\n",
              "    <div>\n",
              "        <style>\n",
              "            /* Turns off some styling */\n",
              "            progress {\n",
              "                /* gets rid of default border in Firefox and Opera. */\n",
              "                border: none;\n",
              "                /* Needs to be in here for Safari polyfill so background images work as expected. */\n",
              "                background-size: auto;\n",
              "            }\n",
              "            .progress-bar-interrupted, .progress-bar-interrupted::-webkit-progress-bar {\n",
              "                background: #F44336;\n",
              "            }\n",
              "        </style>\n",
              "      <progress value='73' class='' max='8254' style='width:300px; height:20px; vertical-align: middle;'></progress>\n",
              "      0.88% [73/8254 00:15<29:07 6.0804]\n",
              "    </div>\n",
              "    "
            ],
            "text/plain": [
              "<IPython.core.display.HTML object>"
            ]
          },
          "metadata": {
            "tags": []
          }
        },
        {
          "output_type": "stream",
          "text": [
            "LR Finder is complete, type {learner_name}.recorder.plot() to see the graph.\n",
            "Min numerical gradient: 5.75E-06\n",
            "Min loss divided by 10: 4.79E-05\n"
          ],
          "name": "stdout"
        },
        {
          "output_type": "display_data",
          "data": {
            "image/png": "[encoded data removed]",
            "text/plain": [
              "<Figure size 432x288 with 1 Axes>"
            ]
          },
          "metadata": {
            "tags": [],
            "needs_background": "light"
          }
        }
      ]
    },
    {
      "cell_type": "code",
      "metadata": {
        "id": "q7wW4bBqYhoW",
        "colab": {
          "base_uri": "https://localhost:8080/",
          "height": 941
        },
        "outputId": "80e63fda-3228-45cc-c0a9-da1d430ed559"
      },
      "source": [
        "learner.fit_one_cycle(1,max_lr=3e-04,moms=(0.8,0.7))\n",
        "learner.save('first_cycle')\n",
        "seed_all(seed)\n",
        "learner.load('first_cycle');\n",
        "learner.freeze_to(-2)\n",
        "lr = 8e-06\n",
        "learner.fit_one_cycle(1, max_lr=slice(lr*0.95**num_groups, lr), moms=(0.8, 0.9))\n",
        "learner.save('second_cycle')\n",
        "seed_all(seed)\n",
        "learner.load('second_cycle');\n",
        "learner.freeze_to(-3)\n",
        "learner.fit_one_cycle(1, max_lr=slice(lr*0.95**num_groups, lr), moms=(0.8, 0.9))\n",
        "learner.save('third_cycle')\n",
        "seed_all(seed)\n",
        "learner.load('third_cycle');"
      ],
      "execution_count": null,
      "outputs": [
        {
          "output_type": "display_data",
          "data": {
            "text/html": [
              "<table border=\"1\" class=\"dataframe\">\n",
              "  <thead>\n",
              "    <tr style=\"text-align: left;\">\n",
              "      <th>epoch</th>\n",
              "      <th>train_loss</th>\n",
              "      <th>valid_loss</th>\n",
              "      <th>accuracy</th>\n",
              "      <th>error_rate</th>\n",
              "      <th>time</th>\n",
              "    </tr>\n",
              "  </thead>\n",
              "  <tbody>\n",
              "    <tr>\n",
              "      <td>0</td>\n",
              "      <td>1.384519</td>\n",
              "      <td>1.313936</td>\n",
              "      <td>0.373586</td>\n",
              "      <td>0.626414</td>\n",
              "      <td>11:42</td>\n",
              "    </tr>\n",
              "  </tbody>\n",
              "</table>"
            ],
            "text/plain": [
              "<IPython.core.display.HTML object>"
            ]
          },
          "metadata": {
            "tags": []
          }
        },
        {
          "output_type": "display_data",
          "data": {
            "image/png": "[encoded data removed]",
            "text/plain": [
              "<Figure size 432x288 with 1 Axes>"
            ]
          },
          "metadata": {
            "tags": []
          }
        },
        {
          "output_type": "display_data",
          "data": {
            "text/html": [
              "<table border=\"1\" class=\"dataframe\">\n",
              "  <thead>\n",
              "    <tr style=\"text-align: left;\">\n",
              "      <th>epoch</th>\n",
              "      <th>train_loss</th>\n",
              "      <th>valid_loss</th>\n",
              "      <th>accuracy</th>\n",
              "      <th>error_rate</th>\n",
              "      <th>time</th>\n",
              "    </tr>\n",
              "  </thead>\n",
              "  <tbody>\n",
              "    <tr>\n",
              "      <td>0</td>\n",
              "      <td>1.257111</td>\n",
              "      <td>1.179369</td>\n",
              "      <td>0.435191</td>\n",
              "      <td>0.564808</td>\n",
              "      <td>14:37</td>\n",
              "    </tr>\n",
              "  </tbody>\n",
              "</table>"
            ],
            "text/plain": [
              "<IPython.core.display.HTML object>"
            ]
          },
          "metadata": {
            "tags": []
          }
        },
        {
          "output_type": "display_data",
          "data": {
            "image/png": "[encoded data removed]",
            "text/plain": [
              "<Figure size 432x288 with 1 Axes>"
            ]
          },
          "metadata": {
            "tags": []
          }
        },
        {
          "output_type": "display_data",
          "data": {
            "text/html": [
              "<table border=\"1\" class=\"dataframe\">\n",
              "  <thead>\n",
              "    <tr style=\"text-align: left;\">\n",
              "      <th>epoch</th>\n",
              "      <th>train_loss</th>\n",
              "      <th>valid_loss</th>\n",
              "      <th>accuracy</th>\n",
              "      <th>error_rate</th>\n",
              "      <th>time</th>\n",
              "    </tr>\n",
              "  </thead>\n",
              "  <tbody>\n",
              "    <tr>\n",
              "      <td>0</td>\n",
              "      <td>1.208454</td>\n",
              "      <td>1.137917</td>\n",
              "      <td>0.456249</td>\n",
              "      <td>0.543751</td>\n",
              "      <td>17:06</td>\n",
              "    </tr>\n",
              "  </tbody>\n",
              "</table>"
            ],
            "text/plain": [
              "<IPython.core.display.HTML object>"
            ]
          },
          "metadata": {
            "tags": []
          }
        },
        {
          "output_type": "display_data",
          "data": {
            "image/png": "[encoded data removed]",
            "text/plain": [
              "<Figure size 432x288 with 1 Axes>"
            ]
          },
          "metadata": {
            "tags": []
          }
        }
      ]
    },
    {
      "cell_type": "code",
      "metadata": {
        "id": "D_-rgUgrnna3",
        "colab": {
          "base_uri": "https://localhost:8080/",
          "height": 414
        },
        "outputId": "8cdfedd3-d916-4610-b443-500e81caf3da"
      },
      "source": [
        "learner.unfreeze()\n",
        "learner.fit_one_cycle(4, max_lr=slice(lr*0.95**num_groups, lr), moms=(0.8, 0.9))"
      ],
      "execution_count": null,
      "outputs": [
        {
          "output_type": "display_data",
          "data": {
            "text/html": [
              "<table border=\"1\" class=\"dataframe\">\n",
              "  <thead>\n",
              "    <tr style=\"text-align: left;\">\n",
              "      <th>epoch</th>\n",
              "      <th>train_loss</th>\n",
              "      <th>valid_loss</th>\n",
              "      <th>accuracy</th>\n",
              "      <th>error_rate</th>\n",
              "      <th>time</th>\n",
              "    </tr>\n",
              "  </thead>\n",
              "  <tbody>\n",
              "    <tr>\n",
              "      <td>0</td>\n",
              "      <td>1.081935</td>\n",
              "      <td>1.062732</td>\n",
              "      <td>0.486166</td>\n",
              "      <td>0.513834</td>\n",
              "      <td>40:11</td>\n",
              "    </tr>\n",
              "    <tr>\n",
              "      <td>1</td>\n",
              "      <td>1.060990</td>\n",
              "      <td>1.025500</td>\n",
              "      <td>0.493594</td>\n",
              "      <td>0.506406</td>\n",
              "      <td>39:18</td>\n",
              "    </tr>\n",
              "    <tr>\n",
              "      <td>2</td>\n",
              "      <td>0.973917</td>\n",
              "      <td>1.010844</td>\n",
              "      <td>0.503339</td>\n",
              "      <td>0.496661</td>\n",
              "      <td>40:37</td>\n",
              "    </tr>\n",
              "    <tr>\n",
              "      <td>3</td>\n",
              "      <td>0.962404</td>\n",
              "      <td>1.010978</td>\n",
              "      <td>0.499932</td>\n",
              "      <td>0.500068</td>\n",
              "      <td>40:12</td>\n",
              "    </tr>\n",
              "  </tbody>\n",
              "</table>"
            ],
            "text/plain": [
              "<IPython.core.display.HTML object>"
            ]
          },
          "metadata": {
            "tags": []
          }
        },
        {
          "output_type": "display_data",
          "data": {
            "image/png": "[encoded data removed]",
            "text/plain": [
              "<Figure size 432x288 with 1 Axes>"
            ]
          },
          "metadata": {
            "tags": []
          }
        }
      ]
    },
    {
      "cell_type": "code",
      "metadata": {
        "id": "qq3ilijJnoqi"
      },
      "source": [
        "learner.export(path, file = 'xlnet.pkl');\n",
        "export_learner = load_learner(path, file = 'xlnet.pkl')"
      ],
      "execution_count": null,
      "outputs": []
    },
    {
      "cell_type": "code",
      "metadata": {
        "id": "DFNwbgpyYx9a",
        "colab": {
          "base_uri": "https://localhost:8080/",
          "height": 17
        },
        "outputId": "2eb8eec4-0a70-4fd5-fa6c-e6f5c4511b33"
      },
      "source": [
        "test_preds = get_preds_as_nparray(DatasetType.Test)\n",
        "final = pd.DataFrame({'review_id': test.review_id, 'rating': np.argmax(test_preds,axis=1)+1})\n",
        "final.to_csv('/content/drive/My Drive/COLAB NOTEBOOKS/SCL/C06/dom_xlnet_clean.csv', index=False)\n",
        "np.save(os.path.join(path, 'xlnet_preds'), test_preds)"
      ],
      "execution_count": null,
      "outputs": [
        {
          "output_type": "display_data",
          "data": {
            "text/html": [
              ""
            ],
            "text/plain": [
              "<IPython.core.display.HTML object>"
            ]
          },
          "metadata": {
            "tags": []
          }
        }
      ]
    },
    {
      "cell_type": "markdown",
      "metadata": {
        "id": "1UxKsuX5NRBB"
      },
      "source": [
        "## Tuning Roberta"
      ]
    },
    {
      "cell_type": "code",
      "metadata": {
        "id": "zJ2lid4uNTVq"
      },
      "source": [
        "MODEL_CLASSES = {\n",
        "    'bert': (BertForSequenceClassification, BertTokenizer, BertConfig),\n",
        "    'xlnet': (XLNetForSequenceClassification, XLNetTokenizer, XLNetConfig),\n",
        "    'xlm': (XLMForSequenceClassification, XLMTokenizer, XLMConfig),\n",
        "    'roberta': (RobertaForSequenceClassification, RobertaTokenizer, RobertaConfig),\n",
        "    'distilbert': (DistilBertForSequenceClassification, DistilBertTokenizer, DistilBertConfig)}\n",
        "# Parameters\n",
        "seed = 2020\n",
        "seed_all(seed)\n",
        "\n",
        "use_fp16 = False\n",
        "bs = 16\n",
        "\n",
        "model_type = 'roberta'\n",
        "pretrained_model_name = 'roberta-base'\n",
        "\n",
        "# model_type = 'bert'\n",
        "# pretrained_model_name='bert-base-uncased'\n",
        "\n",
        "# model_type = 'distilbert'\n",
        "# pretrained_model_name = 'distilbert-base-uncased'\n",
        "\n",
        "#model_type = 'xlm'\n",
        "#pretrained_model_name = 'xlm-clm-enfr-1024'\n",
        "\n",
        "# model_type = 'xlnet'\n",
        "# pretrained_model_name = 'xlnet-base-cased'\n",
        "model_class, tokenizer_class, config_class = MODEL_CLASSES[model_type]"
      ],
      "execution_count": null,
      "outputs": []
    },
    {
      "cell_type": "code",
      "metadata": {
        "id": "VGa02HdkNTVt",
        "colab": {
          "base_uri": "https://localhost:8080/",
          "height": 121
        },
        "outputId": "eee7a672-632b-4301-cfff-d24d74597cb4"
      },
      "source": [
        "transformer_tokenizer = tokenizer_class.from_pretrained(pretrained_model_name)\n",
        "transformer_base_tokenizer = TransformersBaseTokenizer(pretrained_tokenizer = transformer_tokenizer, model_type = model_type)\n",
        "fastai_tokenizer = Tokenizer(tok_func = transformer_base_tokenizer, pre_rules=[], post_rules=[])\n",
        "transformer_vocab =  TransformersVocab(tokenizer = transformer_tokenizer)\n",
        "numericalize_processor = NumericalizeProcessor(vocab=transformer_vocab)\n",
        "\n",
        "tokenize_processor = TokenizeProcessor(tokenizer=fastai_tokenizer, include_bos=False, include_eos=False)\n",
        "\n",
        "transformer_processor = [tokenize_processor, numericalize_processor]\n",
        "pad_first = bool(model_type in ['xlnet'])\n",
        "pad_idx = transformer_tokenizer.pad_token_id\n",
        "config = config_class.from_pretrained(pretrained_model_name)\n",
        "config.num_labels = 5\n",
        "config.use_bfloat16 = use_fp16\n",
        "# print(config)\n",
        "transformer_model = model_class.from_pretrained(pretrained_model_name, config = config)\n",
        "# transformer_model = model_class.from_pretrained(pretrained_model_name, num_labels = 5)\n",
        "\n",
        "custom_transformer_model = CustomTransformerModel(transformer_model = transformer_model)\n",
        "\n",
        "# print('[CLS] token :', transformer_tokenizer.cls_token)\n",
        "# print('[SEP] token :', transformer_tokenizer.sep_token)\n",
        "# print('[PAD] token :', transformer_tokenizer.pad_token)\n",
        "# databunch.show_batch()"
      ],
      "execution_count": null,
      "outputs": [
        {
          "output_type": "stream",
          "text": [
            "Some weights of the model checkpoint at roberta-base were not used when initializing RobertaForSequenceClassification: ['lm_head.bias', 'lm_head.dense.weight', 'lm_head.dense.bias', 'lm_head.layer_norm.weight', 'lm_head.layer_norm.bias', 'lm_head.decoder.weight']\n",
            "- This IS expected if you are initializing RobertaForSequenceClassification from the checkpoint of a model trained on another task or with another architecture (e.g. initializing a BertForSequenceClassification model from a BertForPretraining model).\n",
            "- This IS NOT expected if you are initializing RobertaForSequenceClassification from the checkpoint of a model that you expect to be exactly identical (initializing a BertForSequenceClassification model from a BertForSequenceClassification model).\n",
            "Some weights of RobertaForSequenceClassification were not initialized from the model checkpoint at roberta-base and are newly initialized: ['classifier.dense.weight', 'classifier.dense.bias', 'classifier.out_proj.weight', 'classifier.out_proj.bias']\n",
            "You should probably TRAIN this model on a down-stream task to be able to use it for predictions and inference.\n"
          ],
          "name": "stderr"
        }
      ]
    },
    {
      "cell_type": "code",
      "metadata": {
        "id": "Vyt0jhx7NTVz",
        "colab": {
          "base_uri": "https://localhost:8080/",
          "height": 17
        },
        "outputId": "65e670e1-02f2-424a-e1ef-2ce26e65c3ce"
      },
      "source": [
        "# RUN model configurations first\n",
        "path = '/content/drive/My Drive/COLAB NOTEBOOKS/SCL/C06/'\n",
        "train = pd.read_csv(path + 'train_clean.csv')\n",
        "test = pd.read_csv(path + 'test_clean.csv')\n",
        "train.fillna('',inplace=True)\n",
        "test.fillna('',inplace=True)\n",
        "\n",
        "databunch = (TextList.from_df(train, cols='review', processor=transformer_processor)\n",
        "             .split_by_rand_pct(0.1,seed=seed)\n",
        "             .label_from_df(cols= 'rating')\n",
        "             .add_test(test)\n",
        "             .databunch(bs=bs, pad_first=pad_first, pad_idx=pad_idx))"
      ],
      "execution_count": null,
      "outputs": [
        {
          "output_type": "display_data",
          "data": {
            "text/html": [
              ""
            ],
            "text/plain": [
              "<IPython.core.display.HTML object>"
            ]
          },
          "metadata": {
            "tags": []
          }
        },
        {
          "output_type": "display_data",
          "data": {
            "text/html": [
              ""
            ],
            "text/plain": [
              "<IPython.core.display.HTML object>"
            ]
          },
          "metadata": {
            "tags": []
          }
        },
        {
          "output_type": "display_data",
          "data": {
            "text/html": [
              ""
            ],
            "text/plain": [
              "<IPython.core.display.HTML object>"
            ]
          },
          "metadata": {
            "tags": []
          }
        }
      ]
    },
    {
      "cell_type": "code",
      "metadata": {
        "id": "epvjLeQ6NTV2",
        "colab": {
          "base_uri": "https://localhost:8080/",
          "height": 34
        },
        "outputId": "b82af9dd-31fe-4bb9-8922-e29d564a1f8a"
      },
      "source": [
        "from fastai.callbacks import *\n",
        "from transformers import AdamW\n",
        "from functools import partial\n",
        "\n",
        "# CustomAdamW = partial(AdamW, correct_bias=False)\n",
        "\n",
        "learner = Learner(databunch, \n",
        "                  custom_transformer_model, \n",
        "                  # opt_func = CustomAdamW, \n",
        "                  metrics=[accuracy])\n",
        "\n",
        "# Show graph of learner stats and metrics after each epoch.\n",
        "learner.callbacks.append(ShowGraph(learner))\n",
        "\n",
        "# Put learn in FP16 precision mode. --> Seems to not working\n",
        "if use_fp16: learner = learner.to_fp16()\n",
        "# For DistilBERT\n",
        "# list_layers = [learner.model.transformer.distilbert.embeddings,\n",
        "#                learner.model.transformer.distilbert.transformer.layer[0],\n",
        "#                learner.model.transformer.distilbert.transformer.layer[1],\n",
        "#                learner.model.transformer.distilbert.transformer.layer[2],\n",
        "#                learner.model.transformer.distilbert.transformer.layer[3],\n",
        "#                learner.model.transformer.distilbert.transformer.layer[4],\n",
        "#                learner.model.transformer.distilbert.transformer.layer[5],\n",
        "#                learner.model.transformer.pre_classifier]\n",
        "\n",
        "# For xlnet-base-cased\n",
        "# list_layers = [learner.model.transformer.transformer.word_embedding,\n",
        "#               learner.model.transformer.transformer.layer[0],\n",
        "#               learner.model.transformer.transformer.layer[1],\n",
        "#               learner.model.transformer.transformer.layer[2],\n",
        "#               learner.model.transformer.transformer.layer[3],\n",
        "#               learner.model.transformer.transformer.layer[4],\n",
        "#               learner.model.transformer.transformer.layer[5],\n",
        "#               learner.model.transformer.transformer.layer[6],\n",
        "#               learner.model.transformer.transformer.layer[7],\n",
        "#               learner.model.transformer.transformer.layer[8],\n",
        "#               learner.model.transformer.transformer.layer[9],\n",
        "#               learner.model.transformer.transformer.layer[10],\n",
        "#               learner.model.transformer.transformer.layer[11],\n",
        "#               learner.model.transformer.sequence_summary]\n",
        "\n",
        "# For roberta-base\n",
        "list_layers = [learner.model.transformer.roberta.embeddings,\n",
        "              learner.model.transformer.roberta.encoder.layer[0],\n",
        "              learner.model.transformer.roberta.encoder.layer[1],\n",
        "              learner.model.transformer.roberta.encoder.layer[2],\n",
        "              learner.model.transformer.roberta.encoder.layer[3],\n",
        "              learner.model.transformer.roberta.encoder.layer[4],\n",
        "              learner.model.transformer.roberta.encoder.layer[5],\n",
        "              learner.model.transformer.roberta.encoder.layer[6],\n",
        "              learner.model.transformer.roberta.encoder.layer[7],\n",
        "              learner.model.transformer.roberta.encoder.layer[8],\n",
        "              learner.model.transformer.roberta.encoder.layer[9],\n",
        "              learner.model.transformer.roberta.encoder.layer[10],\n",
        "              learner.model.transformer.roberta.encoder.layer[11],\n",
        "              learner.model.transformer.roberta.pooler]\n",
        "learner.split(list_layers)\n",
        "num_groups = len(learner.layer_groups)\n",
        "print('Learner split in',num_groups,'groups')\n",
        "# print(learner.layer_groups)"
      ],
      "execution_count": null,
      "outputs": [
        {
          "output_type": "stream",
          "text": [
            "Learner split in 14 groups\n"
          ],
          "name": "stdout"
        }
      ]
    },
    {
      "cell_type": "code",
      "metadata": {
        "id": "_TGLJcviNTV8"
      },
      "source": [
        "learner.save('untrain')\n",
        "learner.load('untrain');"
      ],
      "execution_count": null,
      "outputs": []
    },
    {
      "cell_type": "code",
      "metadata": {
        "id": "myxXESyRNTV_",
        "colab": {
          "base_uri": "https://localhost:8080/",
          "height": 406
        },
        "outputId": "d32b808d-9bc9-4018-adbc-1ce0be7fdd97"
      },
      "source": [
        "seed_all(seed)\n",
        "learner.freeze_to(-1)\n",
        "# learner.summary()\n",
        "learner.lr_find()\n",
        "learner.recorder.plot(skip_end=10,suggestion=True)"
      ],
      "execution_count": null,
      "outputs": [
        {
          "output_type": "display_data",
          "data": {
            "text/html": [
              "\n",
              "    <div>\n",
              "        <style>\n",
              "            /* Turns off some styling */\n",
              "            progress {\n",
              "                /* gets rid of default border in Firefox and Opera. */\n",
              "                border: none;\n",
              "                /* Needs to be in here for Safari polyfill so background images work as expected. */\n",
              "                background-size: auto;\n",
              "            }\n",
              "            .progress-bar-interrupted, .progress-bar-interrupted::-webkit-progress-bar {\n",
              "                background: #F44336;\n",
              "            }\n",
              "        </style>\n",
              "      <progress value='0' class='' max='1' style='width:300px; height:20px; vertical-align: middle;'></progress>\n",
              "      0.00% [0/1 00:00<00:00]\n",
              "    </div>\n",
              "    \n",
              "<table border=\"1\" class=\"dataframe\">\n",
              "  <thead>\n",
              "    <tr style=\"text-align: left;\">\n",
              "      <th>epoch</th>\n",
              "      <th>train_loss</th>\n",
              "      <th>valid_loss</th>\n",
              "      <th>accuracy</th>\n",
              "      <th>time</th>\n",
              "    </tr>\n",
              "  </thead>\n",
              "  <tbody>\n",
              "  </tbody>\n",
              "</table><p>\n",
              "\n",
              "    <div>\n",
              "        <style>\n",
              "            /* Turns off some styling */\n",
              "            progress {\n",
              "                /* gets rid of default border in Firefox and Opera. */\n",
              "                border: none;\n",
              "                /* Needs to be in here for Safari polyfill so background images work as expected. */\n",
              "                background-size: auto;\n",
              "            }\n",
              "            .progress-bar-interrupted, .progress-bar-interrupted::-webkit-progress-bar {\n",
              "                background: #F44336;\n",
              "            }\n",
              "        </style>\n",
              "      <progress value='78' class='' max='8254' style='width:300px; height:20px; vertical-align: middle;'></progress>\n",
              "      0.94% [78/8254 00:08<15:31 5.0895]\n",
              "    </div>\n",
              "    "
            ],
            "text/plain": [
              "<IPython.core.display.HTML object>"
            ]
          },
          "metadata": {
            "tags": []
          }
        },
        {
          "output_type": "stream",
          "text": [
            "LR Finder is complete, type {learner_name}.recorder.plot() to see the graph.\n",
            "Min numerical gradient: 5.75E-04\n",
            "Min loss divided by 10: 1.20E-04\n"
          ],
          "name": "stdout"
        },
        {
          "output_type": "display_data",
          "data": {
            "image/png": "[encoded data removed]",
            "text/plain": [
              "<Figure size 432x288 with 1 Axes>"
            ]
          },
          "metadata": {
            "tags": [],
            "needs_background": "light"
          }
        }
      ]
    },
    {
      "cell_type": "code",
      "metadata": {
        "id": "m0a4jP23NTWE",
        "colab": {
          "base_uri": "https://localhost:8080/",
          "height": 942
        },
        "outputId": "ceca0a57-b0ff-41e3-b35e-35206ac1b23a"
      },
      "source": [
        "learner.fit_one_cycle(1,max_lr=3e-03,moms=(0.8,0.7))\n",
        "learner.save('first_cycle')\n",
        "seed_all(seed)\n",
        "learner.load('first_cycle');\n",
        "learner.freeze_to(-2)\n",
        "lr = 3e-4\n",
        "learner.fit_one_cycle(1, max_lr=slice(lr*0.95**num_groups, lr), moms=(0.8, 0.9))\n",
        "learner.save('second_cycle')\n",
        "seed_all(seed)\n",
        "learner.load('second_cycle');\n",
        "learner.freeze_to(-3)\n",
        "learner.fit_one_cycle(1, max_lr=slice(lr*0.95**num_groups, lr), moms=(0.8, 0.9))\n",
        "learner.save('third_cycle')\n",
        "seed_all(seed)\n",
        "learner.load('third_cycle');"
      ],
      "execution_count": null,
      "outputs": [
        {
          "output_type": "display_data",
          "data": {
            "text/html": [
              "<table border=\"1\" class=\"dataframe\">\n",
              "  <thead>\n",
              "    <tr style=\"text-align: left;\">\n",
              "      <th>epoch</th>\n",
              "      <th>train_loss</th>\n",
              "      <th>valid_loss</th>\n",
              "      <th>accuracy</th>\n",
              "      <th>time</th>\n",
              "    </tr>\n",
              "  </thead>\n",
              "  <tbody>\n",
              "    <tr>\n",
              "      <td>0</td>\n",
              "      <td>1.260259</td>\n",
              "      <td>1.195097</td>\n",
              "      <td>0.440303</td>\n",
              "      <td>05:42</td>\n",
              "    </tr>\n",
              "  </tbody>\n",
              "</table>"
            ],
            "text/plain": [
              "<IPython.core.display.HTML object>"
            ]
          },
          "metadata": {
            "tags": []
          }
        },
        {
          "output_type": "display_data",
          "data": {
            "image/png": "[encoded data removed]",
            "text/plain": [
              "<Figure size 432x288 with 1 Axes>"
            ]
          },
          "metadata": {
            "tags": []
          }
        },
        {
          "output_type": "display_data",
          "data": {
            "text/html": [
              "<table border=\"1\" class=\"dataframe\">\n",
              "  <thead>\n",
              "    <tr style=\"text-align: left;\">\n",
              "      <th>epoch</th>\n",
              "      <th>train_loss</th>\n",
              "      <th>valid_loss</th>\n",
              "      <th>accuracy</th>\n",
              "      <th>time</th>\n",
              "    </tr>\n",
              "  </thead>\n",
              "  <tbody>\n",
              "    <tr>\n",
              "      <td>0</td>\n",
              "      <td>1.103659</td>\n",
              "      <td>1.075476</td>\n",
              "      <td>0.479351</td>\n",
              "      <td>06:59</td>\n",
              "    </tr>\n",
              "  </tbody>\n",
              "</table>"
            ],
            "text/plain": [
              "<IPython.core.display.HTML object>"
            ]
          },
          "metadata": {
            "tags": []
          }
        },
        {
          "output_type": "display_data",
          "data": {
            "image/png": "[encoded data removed]",
            "text/plain": [
              "<Figure size 432x288 with 1 Axes>"
            ]
          },
          "metadata": {
            "tags": []
          }
        },
        {
          "output_type": "display_data",
          "data": {
            "text/html": [
              "<table border=\"1\" class=\"dataframe\">\n",
              "  <thead>\n",
              "    <tr style=\"text-align: left;\">\n",
              "      <th>epoch</th>\n",
              "      <th>train_loss</th>\n",
              "      <th>valid_loss</th>\n",
              "      <th>accuracy</th>\n",
              "      <th>time</th>\n",
              "    </tr>\n",
              "  </thead>\n",
              "  <tbody>\n",
              "    <tr>\n",
              "      <td>0</td>\n",
              "      <td>1.089587</td>\n",
              "      <td>1.073334</td>\n",
              "      <td>0.481873</td>\n",
              "      <td>08:23</td>\n",
              "    </tr>\n",
              "  </tbody>\n",
              "</table>"
            ],
            "text/plain": [
              "<IPython.core.display.HTML object>"
            ]
          },
          "metadata": {
            "tags": []
          }
        },
        {
          "output_type": "display_data",
          "data": {
            "image/png": "[encoded data removed]",
            "text/plain": [
              "<Figure size 432x288 with 1 Axes>"
            ]
          },
          "metadata": {
            "tags": []
          }
        }
      ]
    },
    {
      "cell_type": "code",
      "metadata": {
        "id": "lI0VzfCyNTWH",
        "colab": {
          "base_uri": "https://localhost:8080/",
          "height": 371
        },
        "outputId": "05cc2908-5839-4721-a064-5e1a6500342c"
      },
      "source": [
        "learner.unfreeze()\n",
        "learner.fit_one_cycle(4, max_lr=slice(lr*0.95**num_groups, lr), moms=(0.8, 0.9))"
      ],
      "execution_count": null,
      "outputs": [
        {
          "output_type": "display_data",
          "data": {
            "text/html": [
              "\n",
              "    <div>\n",
              "        <style>\n",
              "            /* Turns off some styling */\n",
              "            progress {\n",
              "                /* gets rid of default border in Firefox and Opera. */\n",
              "                border: none;\n",
              "                /* Needs to be in here for Safari polyfill so background images work as expected. */\n",
              "                background-size: auto;\n",
              "            }\n",
              "            .progress-bar-interrupted, .progress-bar-interrupted::-webkit-progress-bar {\n",
              "                background: #F44336;\n",
              "            }\n",
              "        </style>\n",
              "      <progress value='1' class='' max='4' style='width:300px; height:20px; vertical-align: middle;'></progress>\n",
              "      25.00% [1/4 26:11<1:18:34]\n",
              "    </div>\n",
              "    \n",
              "<table border=\"1\" class=\"dataframe\">\n",
              "  <thead>\n",
              "    <tr style=\"text-align: left;\">\n",
              "      <th>epoch</th>\n",
              "      <th>train_loss</th>\n",
              "      <th>valid_loss</th>\n",
              "      <th>accuracy</th>\n",
              "      <th>time</th>\n",
              "    </tr>\n",
              "  </thead>\n",
              "  <tbody>\n",
              "    <tr>\n",
              "      <td>0</td>\n",
              "      <td>1.521588</td>\n",
              "      <td>1.506864</td>\n",
              "      <td>0.282609</td>\n",
              "      <td>26:11</td>\n",
              "    </tr>\n",
              "  </tbody>\n",
              "</table><p>\n",
              "\n",
              "    <div>\n",
              "        <style>\n",
              "            /* Turns off some styling */\n",
              "            progress {\n",
              "                /* gets rid of default border in Firefox and Opera. */\n",
              "                border: none;\n",
              "                /* Needs to be in here for Safari polyfill so background images work as expected. */\n",
              "                background-size: auto;\n",
              "            }\n",
              "            .progress-bar-interrupted, .progress-bar-interrupted::-webkit-progress-bar {\n",
              "                background: #F44336;\n",
              "            }\n",
              "        </style>\n",
              "      <progress value='1233' class='' max='8254' style='width:300px; height:20px; vertical-align: middle;'></progress>\n",
              "      14.94% [1233/8254 03:42<21:04 1.5334]\n",
              "    </div>\n",
              "    "
            ],
            "text/plain": [
              "<IPython.core.display.HTML object>"
            ]
          },
          "metadata": {
            "tags": []
          }
        },
        {
          "output_type": "display_data",
          "data": {
            "image/png": "[encoded data removed]",
            "text/plain": [
              "<Figure size 432x288 with 1 Axes>"
            ]
          },
          "metadata": {
            "tags": []
          }
        }
      ]
    },
    {
      "cell_type": "code",
      "metadata": {
        "id": "3y4A7sw6NTWK",
        "colab": {
          "base_uri": "https://localhost:8080/",
          "height": 354
        },
        "outputId": "a87e7569-710c-4c30-ded5-645f9b3b20ea"
      },
      "source": [
        "learner.fit_one_cycle(2, max_lr=slice(lr*0.95**num_groups, lr), moms=(0.8, 0.9))"
      ],
      "execution_count": null,
      "outputs": [
        {
          "output_type": "display_data",
          "data": {
            "text/html": [
              "<table border=\"1\" class=\"dataframe\">\n",
              "  <thead>\n",
              "    <tr style=\"text-align: left;\">\n",
              "      <th>epoch</th>\n",
              "      <th>train_loss</th>\n",
              "      <th>valid_loss</th>\n",
              "      <th>accuracy</th>\n",
              "      <th>error_rate</th>\n",
              "      <th>time</th>\n",
              "    </tr>\n",
              "  </thead>\n",
              "  <tbody>\n",
              "    <tr>\n",
              "      <td>0</td>\n",
              "      <td>1.010454</td>\n",
              "      <td>0.987338</td>\n",
              "      <td>0.507087</td>\n",
              "      <td>0.492913</td>\n",
              "      <td>16:45</td>\n",
              "    </tr>\n",
              "    <tr>\n",
              "      <td>1</td>\n",
              "      <td>0.938736</td>\n",
              "      <td>0.983555</td>\n",
              "      <td>0.518264</td>\n",
              "      <td>0.481736</td>\n",
              "      <td>17:19</td>\n",
              "    </tr>\n",
              "  </tbody>\n",
              "</table>"
            ],
            "text/plain": [
              "<IPython.core.display.HTML object>"
            ]
          },
          "metadata": {
            "tags": []
          }
        },
        {
          "output_type": "display_data",
          "data": {
            "image/png": "[encoded data removed]",
            "text/plain": [
              "<Figure size 432x288 with 1 Axes>"
            ]
          },
          "metadata": {
            "tags": []
          }
        }
      ]
    },
    {
      "cell_type": "code",
      "metadata": {
        "id": "g6BaMgvbNTWM"
      },
      "source": [
        "# learner.export(file='roberta');\n",
        "# export_learner = load_learner(path, file = 'roberta.pkl')"
      ],
      "execution_count": null,
      "outputs": []
    },
    {
      "cell_type": "code",
      "metadata": {
        "id": "HFdjIR93NTWO"
      },
      "source": [
        "test_preds = get_preds_as_nparray(DatasetType.Test)\n",
        "final = pd.DataFrame({'review_id': test.review_id, 'rating': np.argmax(test_preds,axis=1) + 1})\n",
        "final.to_csv('/content/drive/My Drive/COLAB NOTEBOOKS/SCL/C06/dom_roberta_clean.csv', index=False)\n",
        "np.save(os.path.join(path, 'roberta_preds'), test_preds)"
      ],
      "execution_count": null,
      "outputs": []
    },
    {
      "cell_type": "markdown",
      "metadata": {
        "id": "59_coRh2w1WG"
      },
      "source": [
        "## Ensembling\n"
      ]
    },
    {
      "cell_type": "code",
      "metadata": {
        "id": "iMgby2ZvEAxK"
      },
      "source": [
        "path = '/content/drive/My Drive/COLAB NOTEBOOKS/SCL/C06/'\n",
        "fasttext = np.load(path+'fasttext_clean.npy', allow_pickle=True)\n",
        "roberta = np.load(path+'roberta_preds.npy', allow_pickle=True)\n",
        "xlnet = np.load(path+'xlnet_preds.npy', allow_pickle=True)"
      ],
      "execution_count": null,
      "outputs": []
    },
    {
      "cell_type": "code",
      "metadata": {
        "id": "lEuq26uOELm3"
      },
      "source": [
        "for i in range(len(fasttext)):\n",
        "  fasttext[i] = fasttext[i][1:]\n",
        "\n",
        "temp = np.zeros(shape=(60427,5))\n",
        "for i in range(len(fasttext)):\n",
        "  temp[i] = fasttext[i]\n",
        "\n",
        "fasttext = temp"
      ],
      "execution_count": null,
      "outputs": []
    },
    {
      "cell_type": "code",
      "metadata": {
        "id": "yYF3pouwE53g"
      },
      "source": [
        "ensem_preds = (fasttext + roberta + xlnet)/3"
      ],
      "execution_count": null,
      "outputs": []
    },
    {
      "cell_type": "code",
      "metadata": {
        "id": "w0aJgpvPJLR0"
      },
      "source": [
        "preds = np.argmax(ensem_preds, axis=1) + 1"
      ],
      "execution_count": null,
      "outputs": []
    },
    {
      "cell_type": "code",
      "metadata": {
        "id": "IXOvOwz1Jat2",
        "colab": {
          "base_uri": "https://localhost:8080/",
          "height": 101
        },
        "outputId": "a4dc135d-05df-4c49-9507-227a8e65a493"
      },
      "source": [
        "for i in range(1,6):\n",
        "  print(i, np.count_nonzero(preds == i))"
      ],
      "execution_count": null,
      "outputs": [
        {
          "output_type": "stream",
          "text": [
            "1 5367\n",
            "2 788\n",
            "3 13185\n",
            "4 32994\n",
            "5 8093\n"
          ],
          "name": "stdout"
        }
      ]
    },
    {
      "cell_type": "code",
      "metadata": {
        "id": "t94XeXoEBBjh"
      },
      "source": [
        "final = pd.DataFrame({'review_id': test.review_id, 'rating': preds})\n",
        "final.to_csv(path + 'dom_ensem_clean.csv', index=False)"
      ],
      "execution_count": null,
      "outputs": []
    }
  ]
}